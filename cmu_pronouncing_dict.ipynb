{
 "cells": [
  {
   "cell_type": "markdown",
   "id": "d16dca92",
   "metadata": {},
   "source": [
    "# CMU Pronouncing Dictionary\n",
    "\n",
    "CMU Pronouncing Dictionary (CMU dict) is a pronunciation dictionary for North American English. It contains more than 134, 000 words and their pronunciations. CMU dict uses ARPAbet, a phonetic transcription alphabet which uses ASCII symbols. Therefore, it is easier to work with in Python than the IPA. In addition, CMU dict is incorporated into NLTK, so we will just import it to our program.\n",
    "\n",
    "In this notebook we will learn how to print a pronunciation of an English sentence. Then we will learn how to find and print words which can be pronounced in more than one way."
   ]
  },
  {
   "cell_type": "markdown",
   "id": "0e44e7f4",
   "metadata": {},
   "source": [
    "## Import Libraries and Modules\n",
    "\n",
    "Let's start by importing all libraries and modules we will need. Wee need to import NLTK to work with CMU Pronouncing Dictionary. For tokenization we import word_tokenize from NLTK. To normalize a sentence and prepare it for searching we use a regular expression module re and a string module. Lastly we import defaultdict to handle dictionaries easier.\n",
    "\n",
    "**Note** that you have to have NLTK, re and string installed. Also, to use CMU dict in NLTK you have to download it. To be able to use NLTK's tokenizer you have to have punkt downloaded."
   ]
  },
  {
   "cell_type": "code",
   "execution_count": 13,
   "id": "087f5c84",
   "metadata": {},
   "outputs": [],
   "source": [
    "import nltk, re, string\n",
    "from nltk.tokenize import word_tokenize\n",
    "from collections import defaultdict"
   ]
  },
  {
   "cell_type": "markdown",
   "id": "1e6432f3",
   "metadata": {},
   "source": [
    "## CMU Dict Structure\n",
    "\n",
    "Let's start by saving the CMU dict into a varible so we can easily access it. "
   ]
  },
  {
   "cell_type": "code",
   "execution_count": 2,
   "id": "a90ac498",
   "metadata": {},
   "outputs": [],
   "source": [
    "entries = nltk.corpus.cmudict.entries()"
   ]
  },
  {
   "cell_type": "markdown",
   "id": "a14dc062",
   "metadata": {},
   "source": [
    "Before we start programming, we should know how every entry in the dictionary looks like. Let's print a word _dog_."
   ]
  },
  {
   "cell_type": "code",
   "execution_count": 70,
   "id": "856445e3",
   "metadata": {},
   "outputs": [
    {
     "name": "stdout",
     "output_type": "stream",
     "text": [
      "('dog', ['D', 'AO1', 'G'])\n"
     ]
    }
   ],
   "source": [
    "print(entries[33330])"
   ]
  },
  {
   "cell_type": "markdown",
   "id": "b45c9291",
   "metadata": {},
   "source": [
    "As we can see, each entry is saved in a tuple. The first item is a lower-case English word and the second item is a list of phones (\"the pronunciation\"). Since tuples are ordered and unchangeable we do not have to inspect other words to make sure every entry is the same."
   ]
  },
  {
   "cell_type": "markdown",
   "id": "9dce0a92",
   "metadata": {},
   "source": [
    "## Pronunciation of an English Sentence\n",
    "\n",
    "Now we can start programming. We will do a simple program which takes an English sentence and for each word in the sentence it prints its pronunciation. At first we will save our sentence in a variable. "
   ]
  },
  {
   "cell_type": "code",
   "execution_count": 109,
   "id": "0f5c23b1",
   "metadata": {},
   "outputs": [],
   "source": [
    "sent = 'I will meet you tomorrow.'"
   ]
  },
  {
   "cell_type": "markdown",
   "id": "880a77c3",
   "metadata": {},
   "source": [
    "Then we will create a function to normalize the sentence. There are separate lower-case words in the CMU dictionary.\n",
    "\n",
    "At first we should get rid of upper-case letters. Then we will remove punctuation with re and string. Then we have to tokenize the text to get separate words. The easiest way how to do it is to use NLTK's tokenizer.\n",
    "\n",
    "We have now normalized separate words in a list and we can return it."
   ]
  },
  {
   "cell_type": "code",
   "execution_count": 110,
   "id": "ca3467bc",
   "metadata": {},
   "outputs": [],
   "source": [
    "def normalize(sentence):\n",
    "    \"\"\" Remove upper-case letters and punctuation, then tokenize the text \"\"\"\n",
    "    \n",
    "    sentence = sentence.lower() #lower-case everything\n",
    "    regex = re.compile('[%s]' % re.escape(string.punctuation)) #rregex pattern\n",
    "    sentence = regex.sub('', sentence) #remove punctuation from a string\n",
    "    sentence = word_tokenize(sentence) #tokenize the sentence\n",
    "    \n",
    "    return sentence"
   ]
  },
  {
   "cell_type": "code",
   "execution_count": 111,
   "id": "19dfa5e9",
   "metadata": {},
   "outputs": [],
   "source": [
    "sent = normalize(sent) #save the tokenized sentence into a variable"
   ]
  },
  {
   "cell_type": "markdown",
   "id": "c85c5797",
   "metadata": {},
   "source": [
    "Now we can find each word's pronunciation in the CMU dict. We will create another function called `pronunciation`.\n",
    "\n",
    "We will prepare an empty list where we save pronunciation of words later. Then we iterate over every word in the CMU dict and check if the word is in our sentence. If it is we save its pronunciation into a list. \n",
    "\n",
    "We use join function while appending the pronunciation into the list. As we remember, the pronunciation of a word dog consists of 3 phones. The phones were saved separately in a list. If we use join and keep all phones from a CMU dict list in a string we do not have to bother about indexing in nested lists and printing the final result will become easier.\n",
    "\n",
    "In ARPAbet, phones are written with a space in between them. We will keep the space in our code, too."
   ]
  },
  {
   "cell_type": "code",
   "execution_count": 100,
   "id": "cd660546",
   "metadata": {},
   "outputs": [],
   "source": [
    "def pronunciation(sent):\n",
    "    \"\"\" For each word in a sentence find its pronunciation in the CMU dict \"\"\"\n",
    "    sent_pron = [] #an empty list for pronunciation\n",
    "    \n",
    "    for entry in entries:\n",
    "        for tok in sent:\n",
    "            if entry[0] == tok:\n",
    "                sent_pron.append(' '.join(p for p in entry[1])) #save the pronunciation as a string\n",
    "    \n",
    "    return sent_pron"
   ]
  },
  {
   "cell_type": "code",
   "execution_count": 113,
   "id": "24e92093",
   "metadata": {},
   "outputs": [],
   "source": [
    "pron_result = pronunciation(sent) #save the pronunciation into a variable"
   ]
  },
  {
   "cell_type": "code",
   "execution_count": 114,
   "id": "77265d96",
   "metadata": {},
   "outputs": [
    {
     "data": {
      "text/plain": [
       "'AY1 | W IH1 L | W AH0 L | M IY1 T | Y UW1 | T AH0 M AA1 R OW2 | T UW0 M AA1 R OW2'"
      ]
     },
     "execution_count": 114,
     "metadata": {},
     "output_type": "execute_result"
    }
   ],
   "source": [
    "' | '.join(tok for tok in pron_result) #print the pronunciation of the sentence, separate words by |"
   ]
  },
  {
   "cell_type": "markdown",
   "id": "17c497c6",
   "metadata": {},
   "source": [
    "We have now successfully printed the pronunciation of the words in our sentence. Each phone is separated by a space and each word is separated by a vertical bar. In every word, there is a stress marked with a number. If you are interested in the ARPAbet transcription and the phones used refer to [ARPAbet](https://en.wikipedia.org/wiki/ARPABET) and [CMU dict webpage](http://www.speech.cs.cmu.edu/cgi-bin/cmudict?in=lead&stress=-s).\n",
    "\n",
    "As we can see we got more words than in the original sentence. It is because a word can be pronounced in more than one way. We can now try to look for words with more than one pronunciation and print only those."
   ]
  },
  {
   "cell_type": "markdown",
   "id": "8c5d5530",
   "metadata": {},
   "source": [
    "## Words that Can Be Pronounced Differently\n",
    "\n",
    "Let's now look for words we can pronounce differently. At first we will inspect words in our sentence only. In CMU dict we will search for words that appear more than once in the dictionary and we will save all their possible pronunciation. For this type of task, we will work with a dictionary data structure. To make programming easier we will use defaultdict at some point.\n",
    "\n",
    "We can try a different sentence this time."
   ]
  },
  {
   "cell_type": "code",
   "execution_count": 124,
   "id": "23772117",
   "metadata": {},
   "outputs": [],
   "source": [
    "sent2 = 'I will record a record and then will send it to you.'"
   ]
  },
  {
   "cell_type": "code",
   "execution_count": 125,
   "id": "1b42c4d1",
   "metadata": {},
   "outputs": [],
   "source": [
    "sent2 = normalize(sent2) #normalize the sentence"
   ]
  },
  {
   "cell_type": "markdown",
   "id": "3708ce7d",
   "metadata": {},
   "source": [
    "In our example above we have repeating words. In this task we do not print the sentence as a whole so we can get rid of them. The easiest way to remove duplicates is to convert a list to a set and then to a list again (so we get rid of the duplicates but keep the same data structure to work with)."
   ]
  },
  {
   "cell_type": "code",
   "execution_count": 126,
   "id": "43194cd8",
   "metadata": {},
   "outputs": [],
   "source": [
    "sent2 = list(set(sent2)) #convert a list to a set and back to a list"
   ]
  },
  {
   "cell_type": "markdown",
   "id": "dfd121aa",
   "metadata": {},
   "source": [
    "We will prepare a dictionary to store words in. We use defaultdict.\n",
    "\n",
    "Then we iterate over the CMU dict and search for all words in our sentence. We store the words in a dictionary where keys are the words and values are pronunciation.\n",
    "\n",
    "Thanks to defaultdict we keep our code short and simple. We do not have to use conditions for adding elements to the dictionary. "
   ]
  },
  {
   "cell_type": "code",
   "execution_count": 136,
   "id": "69bbe401",
   "metadata": {},
   "outputs": [],
   "source": [
    "def sent2_dict(sent2):\n",
    "    \"\"\" Create a dictionary where words are keys and pronunciation is values \"\"\"\n",
    "    sent_matches = defaultdict(list)\n",
    "    \n",
    "    for tok in sent2:\n",
    "        for entry in entries:\n",
    "            if entry[0] == tok:\n",
    "                sent_matches[tok].append(entry[1])\n",
    "                \n",
    "    return sent_matches"
   ]
  },
  {
   "cell_type": "code",
   "execution_count": 137,
   "id": "520350ce",
   "metadata": {},
   "outputs": [],
   "source": [
    "sent_pron = sent2_dict(sent2)"
   ]
  },
  {
   "cell_type": "markdown",
   "id": "dadd36e0",
   "metadata": {},
   "source": [
    "We can see if there are words with more than one pronunciation in our sentence. Because we store the pronunciation in a list in dictionary values the easiest thing to do is to iterate over the dictionary and print a length of each value list."
   ]
  },
  {
   "cell_type": "code",
   "execution_count": 140,
   "id": "23fcb44a",
   "metadata": {},
   "outputs": [
    {
     "name": "stdout",
     "output_type": "stream",
     "text": [
      "then 1\n",
      "i 1\n",
      "you 1\n",
      "to 3\n",
      "will 2\n",
      "and 2\n",
      "a 2\n",
      "it 2\n",
      "record 3\n",
      "send 1\n"
     ]
    }
   ],
   "source": [
    "for key, val in sent_pron.items():\n",
    "    print(key, len(val))"
   ]
  },
  {
   "cell_type": "markdown",
   "id": "6866efa8",
   "metadata": {},
   "source": [
    "As we can see, there are 5 words we can pronounce differently. Let's create another dictionary, store the words in the new dictionary and print the words with the pronunciation."
   ]
  },
  {
   "cell_type": "code",
   "execution_count": 141,
   "id": "81e017fb",
   "metadata": {},
   "outputs": [],
   "source": [
    "def more_pron_dict(sent_pron):\n",
    "    \"\"\" Create a new dictionary and store the words we can pronounce differently there \"\"\"\n",
    "    pron = {}\n",
    "    \n",
    "    for key, val in sent_pron.items():\n",
    "        if len(val) > 1:\n",
    "            pron[key] = val\n",
    "            \n",
    "    return pron"
   ]
  },
  {
   "cell_type": "code",
   "execution_count": 142,
   "id": "22671efc",
   "metadata": {
    "scrolled": true
   },
   "outputs": [],
   "source": [
    "diff_pron = more_pron_dict(sent_pron)"
   ]
  },
  {
   "cell_type": "code",
   "execution_count": 143,
   "id": "9c479508",
   "metadata": {},
   "outputs": [
    {
     "data": {
      "text/plain": [
       "{'to': [['T', 'UW1'], ['T', 'IH0'], ['T', 'AH0']],\n",
       " 'will': [['W', 'IH1', 'L'], ['W', 'AH0', 'L']],\n",
       " 'and': [['AH0', 'N', 'D'], ['AE1', 'N', 'D']],\n",
       " 'a': [['AH0'], ['EY1']],\n",
       " 'it': [['IH1', 'T'], ['IH0', 'T']],\n",
       " 'record': [['R', 'AH0', 'K', 'AO1', 'R', 'D'],\n",
       "  ['R', 'EH1', 'K', 'ER0', 'D'],\n",
       "  ['R', 'IH0', 'K', 'AO1', 'R', 'D']]}"
      ]
     },
     "execution_count": 143,
     "metadata": {},
     "output_type": "execute_result"
    }
   ],
   "source": [
    "diff_pron"
   ]
  },
  {
   "cell_type": "markdown",
   "id": "f7b009d6",
   "metadata": {},
   "source": [
    "We could leave the printing as it is or make it prettier. \n",
    "\n",
    "To make the printing prettier we first concantenate the separate phones of each pronunciation into a string. We create another function for this task."
   ]
  },
  {
   "cell_type": "code",
   "execution_count": 144,
   "id": "76eb2bf6",
   "metadata": {},
   "outputs": [],
   "source": [
    "def pron_no_list(diff_pron):\n",
    "    \"\"\" Create a new dictionary. In values store a list of strings with phones \"\"\"\n",
    "    pron_nl = defaultdict(list)\n",
    "\n",
    "    for key, val in diff_pron.items():\n",
    "        for words in val:\n",
    "            pron_nl[key].append(' '.join(w for w in words))\n",
    "    \n",
    "    return pron_nl"
   ]
  },
  {
   "cell_type": "code",
   "execution_count": 145,
   "id": "aadab43b",
   "metadata": {},
   "outputs": [],
   "source": [
    "diff_pron_nl = pron_no_list(diff_pron)"
   ]
  },
  {
   "cell_type": "code",
   "execution_count": 146,
   "id": "2498e1cc",
   "metadata": {},
   "outputs": [
    {
     "data": {
      "text/plain": [
       "defaultdict(list,\n",
       "            {'to': ['T UW1', 'T IH0', 'T AH0'],\n",
       "             'will': ['W IH1 L', 'W AH0 L'],\n",
       "             'and': ['AH0 N D', 'AE1 N D'],\n",
       "             'a': ['AH0', 'EY1'],\n",
       "             'it': ['IH1 T', 'IH0 T'],\n",
       "             'record': ['R AH0 K AO1 R D',\n",
       "              'R EH1 K ER0 D',\n",
       "              'R IH0 K AO1 R D']})"
      ]
     },
     "execution_count": 146,
     "metadata": {},
     "output_type": "execute_result"
    }
   ],
   "source": [
    "diff_pron_nl"
   ]
  },
  {
   "cell_type": "markdown",
   "id": "643f0e15",
   "metadata": {},
   "source": [
    "Then we will just print the dictionary."
   ]
  },
  {
   "cell_type": "code",
   "execution_count": 147,
   "id": "f86819db",
   "metadata": {},
   "outputs": [
    {
     "name": "stdout",
     "output_type": "stream",
     "text": [
      "to: T UW1 | T IH0 | T AH0\n",
      "will: W IH1 L | W AH0 L\n",
      "and: AH0 N D | AE1 N D\n",
      "a: AH0 | EY1\n",
      "it: IH1 T | IH0 T\n",
      "record: R AH0 K AO1 R D | R EH1 K ER0 D | R IH0 K AO1 R D\n"
     ]
    }
   ],
   "source": [
    "for key, val in diff_pron_nl.items():\n",
    "    print(key + ': ' + ' | '.join(w for w in val))"
   ]
  },
  {
   "cell_type": "code",
   "execution_count": null,
   "id": "89aa3275",
   "metadata": {},
   "outputs": [],
   "source": []
  }
 ],
 "metadata": {
  "kernelspec": {
   "display_name": "Python 3 (ipykernel)",
   "language": "python",
   "name": "python3"
  },
  "language_info": {
   "codemirror_mode": {
    "name": "ipython",
    "version": 3
   },
   "file_extension": ".py",
   "mimetype": "text/x-python",
   "name": "python",
   "nbconvert_exporter": "python",
   "pygments_lexer": "ipython3",
   "version": "3.9.5"
  }
 },
 "nbformat": 4,
 "nbformat_minor": 5
}
