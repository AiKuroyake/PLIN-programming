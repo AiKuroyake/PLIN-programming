{
 "cells": [
  {
   "cell_type": "markdown",
   "id": "d16dca92",
   "metadata": {},
   "source": [
    "# CMU Pronouncing Dictionary\n",
    "\n",
    "V tomto úkolu si vyzkoušíme práci s grafickým rozhraním Jupyter Notebook, které je vhodné pro postupné spouštění kódu. Naučíme se importovat knihovny do Pythonu a dále s nimi pracovat. Nejdůležitější knihovnou pro nás v tomto notebooku bude nltk. V rámci této knihovny použijeme slovník CMU Pronouncing Dictionary, pomocí kterého budeme schopni vypsat výslovnost anglické věty. Pokračovat budeme s hledáním slov, která lze vyslovit dvěma a více způsoby.\n",
    "\n",
    "Poznámka: Kvůli možné záměně slovníku jako seřazeného seznamu slovní zásoby a slovníku jako datového typu v Pythonu se v tomto notebooku pro datové typy používají anglické názvy (tj. dictionary pro slovník, list pro seznam, tuple pro n-tici apod.).\n",
    "\n",
    "## nltk\n",
    "\n",
    "Co je nltk.\n",
    "\n",
    "## CMU Pronouning Dictionary\n",
    "\n",
    "CMU Pronouncing Dictionary (zkráceně CMU Dict) je slovník, který obsahuje přepis výslovnosti anglických slov. Zaměřuje se na výslovnost angličtiny Severní Ameriky. CMU Dict obsahuje kolem 134 000 slov, ke každému slovu je přiřazen alespoň jeden výslovnostní přepis. Narozdíl od běžných fonetických přepisů, na které jsme zvyklí, CMU Dict používá ARPAbet, fonetickou transkripci, která je vhodná pro zpracování na počítači. Obsahuje totiž pouze znaky ASCII. CMU Dict je navíc zabudován do knihovny nltk, nemusíme tedy data složitě stahovat, na vše nám bude stačit Python."
   ]
  },
  {
   "cell_type": "markdown",
   "id": "0e44e7f4",
   "metadata": {},
   "source": [
    "## Instalace nltk, cmu dict\n",
    "\n",
    "Popsat\n",
    "\n",
    "## Import knihoven a modulů\n",
    "\n",
    "Než budeme moct začít s psaním programu, musíme importovat všechny knihovny a moduly, které budeme potřebovat. Patří mezi ně:\n",
    "\n",
    "- nltk\n",
    "- re\n",
    "- string\n",
    "- word_tokenize\n",
    "- defaultdict"
   ]
  },
  {
   "cell_type": "code",
   "execution_count": 2,
   "id": "087f5c84",
   "metadata": {},
   "outputs": [],
   "source": [
    "import nltk, re, string\n",
    "from nltk.tokenize import word_tokenize\n",
    "from collections import defaultdict"
   ]
  },
  {
   "cell_type": "markdown",
   "id": "1e6432f3",
   "metadata": {},
   "source": [
    "## Struktura slovníku CMU Dict\n",
    "\n",
    "Nejprve si uložíme celý slovník CMU Dict do proměnné `entries`. Ke slovníku poté budeme přistupovat přes tuto proměnnou."
   ]
  },
  {
   "cell_type": "code",
   "execution_count": 3,
   "id": "a90ac498",
   "metadata": {},
   "outputs": [],
   "source": [
    "entries = nltk.corpus.cmudict.entries()"
   ]
  },
  {
   "cell_type": "markdown",
   "id": "a14dc062",
   "metadata": {},
   "source": [
    "Než začneme programovat, měli bychom vědět, jak je slovník strukturovaný. \n",
    "\n",
    "**Úkol 1:** Pomocí příkazu `print` vypište celý slovník."
   ]
  },
  {
   "cell_type": "code",
   "execution_count": 5,
   "id": "3e2c04e4",
   "metadata": {},
   "outputs": [
    {
     "name": "stdout",
     "output_type": "stream",
     "text": [
      "[('a', ['AH0']), ('a.', ['EY1']), ('a', ['EY1']), ...]\n"
     ]
    }
   ],
   "source": [
    "print(entries)"
   ]
  },
  {
   "cell_type": "markdown",
   "id": "d2656d11",
   "metadata": {},
   "source": [
    "Slovník se nám sice nevypíše celý, ale předchozí příkaz nám pomůže vypozorovat alespoň 4 zásadní věci, které nám ulehčí programování:\n",
    "\n",
    "1. Slovník je uložen v datovém typu list,\n",
    "2. jednotlivá slova jsou uložena v datovém typu tuple,\n",
    "3. výslovnost jednotlivých slov je uložena v datovém typu list,\n",
    "4. slovník je seřazen podle abecedy.\n",
    "\n",
    "Jelikož datovým typem slovníku je list, k jednotlivým slovům můžeme přistupovat i přes indexy. Následující tři úkoly se týkají indexace.\n",
    "\n",
    "**Úkol 2:** Vypište, kolik položek má slovník celkem."
   ]
  },
  {
   "cell_type": "code",
   "execution_count": 7,
   "id": "146676be",
   "metadata": {},
   "outputs": [
    {
     "name": "stdout",
     "output_type": "stream",
     "text": [
      "133737\n"
     ]
    }
   ],
   "source": [
    "print(len(entries))"
   ]
  },
  {
   "cell_type": "markdown",
   "id": "95691f76",
   "metadata": {},
   "source": [
    "**Úkol 3:** Vyberte si číslo z intervalu 0 až celkový počet položek a vypište slovo, které se ve slovníku nachází pod tímto indexem."
   ]
  },
  {
   "cell_type": "code",
   "execution_count": 8,
   "id": "dbc00f4b",
   "metadata": {},
   "outputs": [
    {
     "name": "stdout",
     "output_type": "stream",
     "text": [
      "('antifungal', ['AE2', 'N', 'T', 'IY2', 'F', 'AH1', 'NG', 'G', 'AH0', 'L'])\n"
     ]
    }
   ],
   "source": [
    "print(entries[4567])"
   ]
  },
  {
   "cell_type": "markdown",
   "id": "f2fd2166",
   "metadata": {},
   "source": [
    "**Úkol 4:** Vypište slovo, které se nachází pod indexem 33330."
   ]
  },
  {
   "cell_type": "code",
   "execution_count": 6,
   "id": "856445e3",
   "metadata": {},
   "outputs": [
    {
     "name": "stdout",
     "output_type": "stream",
     "text": [
      "('dog', ['D', 'AO1', 'G'])\n"
     ]
    }
   ],
   "source": [
    "print(entries[33330])"
   ]
  },
  {
   "cell_type": "markdown",
   "id": "b45c9291",
   "metadata": {},
   "source": [
    "Minimálně u čtvrtého úkolu se nám podařilo vypsat slovo skládající se z více než jednoho písmene. Můžeme si všimnout, že:\n",
    "\n",
    "- Pár slovo-výslovnost je uložený v datovém typu tuple,\n",
    "- slovo je vždy psáno s malými písmeny,\n",
    "- výslovnost slova je uložena v datovém typu list,\n",
    "- každý prvek v listu u výslovnosti odpovídá jednomu fonému,\n",
    "- čísla u fonémů značí přízvuk."
   ]
  },
  {
   "cell_type": "markdown",
   "id": "9dce0a92",
   "metadata": {},
   "source": [
    "## Výslovnost anglické věty\n",
    "\n",
    "Teď již víme, jak CMU Dict vypadá, a můžeme začít programovat. V této sekci napíšeme jednoduchý program, který vyzve uživatele, aby zadal anglickou větu, a poté vypíše výslovnost všech slov této věty. \n",
    "\n",
    "**Úkol 5:** Vyzvěte uživatele, aby zadal anglickou větu. Tuto větu uložte do proměnné `sent`. Po spuštění kódu vás notebook požádá o anglickou větu. Vyberte si libovolnou větu v angličtině, mějte ale na paměti, že ve slovníku je pouze 134 000 slov, volte proto slova běžné slovní zásoby.\n",
    "\n",
    "V tomto řešení budeme pracovat s větou \"I will meet you tomorrow.\""
   ]
  },
  {
   "cell_type": "code",
   "execution_count": 10,
   "id": "0f5c23b1",
   "metadata": {},
   "outputs": [
    {
     "name": "stdout",
     "output_type": "stream",
     "text": [
      "Enter an English sentence: I will meet you tomorrow.\n"
     ]
    }
   ],
   "source": [
    "sent = input(\"Enter an English sentence: \")"
   ]
  },
  {
   "cell_type": "markdown",
   "id": "880a77c3",
   "metadata": {},
   "source": [
    "Se zadanou větou nemůžeme pracovat jen tak, musíme ji tzv. normalizovat. Všechna velká písmena převedeme na malá, větu očistíme od interpunkce a na konec ji tokenizujeme.\n",
    "\n",
    "Pro normalizaci vytvoříme funkci `normalize`, která bude brát parametr `sentence` (větu, kterou zadal uživatel). Vracet bude tokenizovanou větu, kterou později uložíme do proměnné.\n",
    "\n",
    "**Úkol 6:**\n",
    "\n",
    "1. Vytvořte funkci `normalize`, která požaduje parametr `sentence`,\n",
    "2. zbavte se všech velkých písmen,\n",
    "3. odstraňte interpunkci (řešení používá knihovnu `re`, ale můžete přijít i na jiný způsob bez regulárních výrazů),\n",
    "4. vraťte normalizovanou větu."
   ]
  },
  {
   "cell_type": "code",
   "execution_count": 17,
   "id": "ca3467bc",
   "metadata": {},
   "outputs": [],
   "source": [
    "def normalize(sentence):\n",
    "    \"\"\" Remove upper-case letters and punctuation, then tokenize the text \"\"\"\n",
    "    \n",
    "    sentence = sentence.lower() #lower-case everything\n",
    "    regex = re.compile('[{}]'.format((re.escape(string.punctuation)))) #regex pattern\n",
    "    sentence = regex.sub('', sentence) #remove punctuation from a string\n",
    "    \n",
    "    return sentence"
   ]
  },
  {
   "cell_type": "markdown",
   "id": "1fb5412d",
   "metadata": {},
   "source": [
    "**Úkol 7:** \n",
    "\n",
    "1. Normalizujte větu `sent` a uložte ji do nové proměnné `sent_norm`,\n",
    "2. vypište normalizovanou větu,\n",
    "3. zkontrolujte výstup, vypsat by se měl string s malými písmeny bez interpunkce."
   ]
  },
  {
   "cell_type": "code",
   "execution_count": 19,
   "id": "45c98b7b",
   "metadata": {},
   "outputs": [
    {
     "name": "stdout",
     "output_type": "stream",
     "text": [
      "i will meet you tomorrow\n"
     ]
    }
   ],
   "source": [
    "sent_norm = normalize(sent) #save the normalized sentence into a variable\n",
    "print(sent_norm) #print the normalized sentence"
   ]
  },
  {
   "cell_type": "markdown",
   "id": "553d5a2f",
   "metadata": {},
   "source": [
    "**Úkol 8:**\n",
    "\n",
    "1. Vytvořte funkci `tokenize`, která požaduje parametr `sentence`,\n",
    "2. tokenizujte větu pomocí tokenizátoru `word_tokenize`, který jsme naimportovali na začátku notebooku z knihovny `nltk`,\n",
    "3. vraťte tokenizovanou větu."
   ]
  },
  {
   "cell_type": "code",
   "execution_count": 11,
   "id": "694ce0e7",
   "metadata": {},
   "outputs": [],
   "source": [
    "def tokenize(sentence):\n",
    "    \"\"\" Tokenize the sentence \"\"\"\n",
    "    \n",
    "    sentence = word_tokenize(sentence) #tokenize the sentence\n",
    "    \n",
    "    return sentence"
   ]
  },
  {
   "cell_type": "markdown",
   "id": "56f072fd",
   "metadata": {},
   "source": [
    "**Úkol 9:**\n",
    "\n",
    "1. Tokenizujte větu `sent_norm` a uložte ji do nové proměnné `sent_tok`,\n",
    "2. vypište tokenizovanou větu,\n",
    "3. zkontrolujte výstup, vypsat by se měl list s jednotlivými slovy jako prvky listu."
   ]
  },
  {
   "cell_type": "code",
   "execution_count": 20,
   "id": "19dfa5e9",
   "metadata": {},
   "outputs": [
    {
     "name": "stdout",
     "output_type": "stream",
     "text": [
      "['i', 'will', 'meet', 'you', 'tomorrow']\n"
     ]
    }
   ],
   "source": [
    "sent_tok = tokenize(sent_norm) #save the tokenized sentence into a variable\n",
    "print(sent_tok) #print the tokenized sentence"
   ]
  },
  {
   "cell_type": "markdown",
   "id": "c85c5797",
   "metadata": {},
   "source": [
    "Nyní máme větu připravenou a můžeme pro každé slovo najít výslovnost ve CMU Dict. \n",
    "\n",
    "**Úkol 10:**\n",
    "\n",
    "1. Vytvořte funkci `pronunciation`, která požaduje parametr `sentence`,\n",
    "2. připravte prázdnou proměnnou `pron`, kam později uložíte všechny způsoby výslovnosti všech slov v proměnné `sent_tok` (o vhodném datovém typu rozhodněte),\n",
    "3. iterujte přes všechna slova ve slovníku CMU Dict, pokud se slovo nachází i v listu `sent_tok`, uložte jeho výslovnost do předpřipravené proměnné `pron` (dopředu přemýšlejte o tom, jak později vypíšete výslovnost jednotlivých slov, vhodně rozhodněte, jakým způsobem jednotlivé fonémy uložíte),\n",
    "4. vraťte proměnnou `pron`, která obsahuje výslovnost jednotlivých slov.\n",
    "\n",
    "V řešení úkolů 10 a 11 je rovnou naprogramované uložení výslovnosti s mezerami mezi fonémy a oddělením slov pomocí | (úkol navíc)."
   ]
  },
  {
   "cell_type": "code",
   "execution_count": 21,
   "id": "cd660546",
   "metadata": {},
   "outputs": [],
   "source": [
    "def pronunciation(sentence):\n",
    "    \"\"\" For each word in a sentence find its pronunciation in the CMU dict \"\"\"\n",
    "    pron = [] #an empty list for pronunciation\n",
    "    \n",
    "    for entry in entries: #for every entry in CMU Dict\n",
    "        for tok in sentence: #for every token in the tokenized sentence\n",
    "            if entry[0] == tok: #if the word in CMU Dict is the same as the token in the tokenized sentence\n",
    "                pron.append(' '.join(p for p in entry[1])) #save the pronunciation as a string\n",
    "    \n",
    "    return pron"
   ]
  },
  {
   "cell_type": "markdown",
   "id": "33554955",
   "metadata": {},
   "source": [
    "**Úkol 11:**\n",
    "\n",
    "1. Uložte výslovnost všech slov do proměnné `sent_pron`,\n",
    "2. vypište výslovnost všech slov."
   ]
  },
  {
   "cell_type": "code",
   "execution_count": 24,
   "id": "24e92093",
   "metadata": {},
   "outputs": [
    {
     "data": {
      "text/plain": [
       "'AY1 | M IY1 T | T AH0 M AA1 R OW2 | T UW0 M AA1 R OW2 | W IH1 L | W AH0 L | Y UW1'"
      ]
     },
     "execution_count": 24,
     "metadata": {},
     "output_type": "execute_result"
    }
   ],
   "source": [
    "sent_pron = pronunciation(sent_tok) #save the pronunciation into a variable\n",
    "' | '.join(tok for tok in sent_pron) #print the pronunciation of the sentence, separate words by |"
   ]
  },
  {
   "cell_type": "markdown",
   "id": "ac730f26",
   "metadata": {},
   "source": [
    "**Úkol navíc:** V ARPAbet zápisu se fonémy oddělují mezerou. Zkuste funkci `pronunciation` a následně výpis výslovnosti všech slov upravit tak, aby jednotlivé fonémy byly odděleny mezerou. Pro slova vyberte jiný oddělovač."
   ]
  },
  {
   "cell_type": "markdown",
   "id": "17c497c6",
   "metadata": {},
   "source": [
    "V závislosti na tom, jakou větu jste zvolili, jste buď našli nebo nenašli slova, která lze vyslovit vícero způsoby. V řešení pracujeme s větou \"I will meet you tomorrow.\", u které si můžeme všimnout, že nesedí počet slov ve výslovnostním přepisu. Program nám našel dvě slova (tomorrow a will), která se dají vyslovit více než jedním způsobem.\n",
    "\n",
    "V další sadě úkolů se budeme zaobírat právě tímto problémem."
   ]
  },
  {
   "cell_type": "markdown",
   "id": "8c5d5530",
   "metadata": {},
   "source": [
    "## Slova, která lze vyslovit vícero způsoby\n",
    "\n",
    "V předchozí sekci jsme narazili na slova, která se dají vyslovit dvěma různými způsoby. V následujících úkolech si vyzkoušíme, jak vyhledat pouze tato specifická slova a vypsat je se všemi výslovnostními variantami. \n",
    "\n",
    "Procvičíme si programování s datovým typem dictionary, jelikož je to jeden z nejpřehlednějších způsobů řešení tohoto problému. Práci si usnadníme pomocí modulu `defaultdict` a porovnáme ho s běžným dictionary.\n",
    "\n",
    "**Úkol 12:** Stejně jako v úkolu 5 požádejte uživatele o zadání anglické věty. Vstup uložte do proměnné `sent2`."
   ]
  },
  {
   "cell_type": "code",
   "execution_count": 124,
   "id": "23772117",
   "metadata": {},
   "outputs": [],
   "source": [
    "sent2 = 'I will record a record and then will send it to you.'"
   ]
  },
  {
   "cell_type": "code",
   "execution_count": 125,
   "id": "1b42c4d1",
   "metadata": {},
   "outputs": [],
   "source": [
    "sent2 = normalize(sent2) #normalize the sentence"
   ]
  },
  {
   "cell_type": "markdown",
   "id": "3708ce7d",
   "metadata": {},
   "source": [
    "In our example above we have repeating words. In this task we do not print the sentence as a whole so we can get rid of them. The easiest way to remove duplicates is to convert a list to a set and then to a list again (so we get rid of the duplicates but keep the same data structure to work with)."
   ]
  },
  {
   "cell_type": "code",
   "execution_count": 126,
   "id": "43194cd8",
   "metadata": {},
   "outputs": [],
   "source": [
    "sent2 = list(set(sent2)) #convert a list to a set and back to a list"
   ]
  },
  {
   "cell_type": "markdown",
   "id": "dfd121aa",
   "metadata": {},
   "source": [
    "We will prepare a dictionary to store words in. We use defaultdict.\n",
    "\n",
    "Then we iterate over the CMU dict and search for all words in our sentence. We store the words in a dictionary where keys are the words and values are pronunciation.\n",
    "\n",
    "Thanks to defaultdict we keep our code short and simple. We do not have to use conditions for adding elements to the dictionary. "
   ]
  },
  {
   "cell_type": "code",
   "execution_count": 136,
   "id": "69bbe401",
   "metadata": {},
   "outputs": [],
   "source": [
    "def sent2_dict(sent2):\n",
    "    \"\"\" Create a dictionary where words are keys and pronunciation is values \"\"\"\n",
    "    sent_matches = defaultdict(list)\n",
    "    \n",
    "    for tok in sent2:\n",
    "        for entry in entries:\n",
    "            if entry[0] == tok:\n",
    "                sent_matches[tok].append(entry[1])\n",
    "                \n",
    "    return sent_matches"
   ]
  },
  {
   "cell_type": "code",
   "execution_count": 137,
   "id": "520350ce",
   "metadata": {},
   "outputs": [],
   "source": [
    "sent_pron = sent2_dict(sent2)"
   ]
  },
  {
   "cell_type": "markdown",
   "id": "dadd36e0",
   "metadata": {},
   "source": [
    "We can see if there are words with more than one pronunciation in our sentence. Because we store the pronunciation in a list in dictionary values the easiest thing to do is to iterate over the dictionary and print a length of each value list."
   ]
  },
  {
   "cell_type": "code",
   "execution_count": 140,
   "id": "23fcb44a",
   "metadata": {},
   "outputs": [
    {
     "name": "stdout",
     "output_type": "stream",
     "text": [
      "then 1\n",
      "i 1\n",
      "you 1\n",
      "to 3\n",
      "will 2\n",
      "and 2\n",
      "a 2\n",
      "it 2\n",
      "record 3\n",
      "send 1\n"
     ]
    }
   ],
   "source": [
    "for key, val in sent_pron.items():\n",
    "    print(key, len(val))"
   ]
  },
  {
   "cell_type": "markdown",
   "id": "6866efa8",
   "metadata": {},
   "source": [
    "As we can see, there are 5 words we can pronounce differently. Let's create another dictionary, store the words in the new dictionary and print the words with the pronunciation."
   ]
  },
  {
   "cell_type": "code",
   "execution_count": 141,
   "id": "81e017fb",
   "metadata": {},
   "outputs": [],
   "source": [
    "def more_pron_dict(sent_pron):\n",
    "    \"\"\" Create a new dictionary and store the words we can pronounce differently there \"\"\"\n",
    "    pron = {}\n",
    "    \n",
    "    for key, val in sent_pron.items():\n",
    "        if len(val) > 1:\n",
    "            pron[key] = val\n",
    "            \n",
    "    return pron"
   ]
  },
  {
   "cell_type": "code",
   "execution_count": 142,
   "id": "22671efc",
   "metadata": {
    "scrolled": true
   },
   "outputs": [],
   "source": [
    "diff_pron = more_pron_dict(sent_pron)"
   ]
  },
  {
   "cell_type": "code",
   "execution_count": 143,
   "id": "9c479508",
   "metadata": {},
   "outputs": [
    {
     "data": {
      "text/plain": [
       "{'to': [['T', 'UW1'], ['T', 'IH0'], ['T', 'AH0']],\n",
       " 'will': [['W', 'IH1', 'L'], ['W', 'AH0', 'L']],\n",
       " 'and': [['AH0', 'N', 'D'], ['AE1', 'N', 'D']],\n",
       " 'a': [['AH0'], ['EY1']],\n",
       " 'it': [['IH1', 'T'], ['IH0', 'T']],\n",
       " 'record': [['R', 'AH0', 'K', 'AO1', 'R', 'D'],\n",
       "  ['R', 'EH1', 'K', 'ER0', 'D'],\n",
       "  ['R', 'IH0', 'K', 'AO1', 'R', 'D']]}"
      ]
     },
     "execution_count": 143,
     "metadata": {},
     "output_type": "execute_result"
    }
   ],
   "source": [
    "diff_pron"
   ]
  },
  {
   "cell_type": "markdown",
   "id": "f7b009d6",
   "metadata": {},
   "source": [
    "We could leave the printing as it is or make it prettier. \n",
    "\n",
    "To make the printing prettier we first concantenate the separate phones of each pronunciation into a string. We create another function for this task."
   ]
  },
  {
   "cell_type": "code",
   "execution_count": 144,
   "id": "76eb2bf6",
   "metadata": {},
   "outputs": [],
   "source": [
    "def pron_no_list(diff_pron):\n",
    "    \"\"\" Create a new dictionary. In values store a list of strings with phones \"\"\"\n",
    "    pron_nl = defaultdict(list)\n",
    "\n",
    "    for key, val in diff_pron.items():\n",
    "        for words in val:\n",
    "            pron_nl[key].append(' '.join(w for w in words))\n",
    "    \n",
    "    return pron_nl"
   ]
  },
  {
   "cell_type": "code",
   "execution_count": 145,
   "id": "aadab43b",
   "metadata": {},
   "outputs": [],
   "source": [
    "diff_pron_nl = pron_no_list(diff_pron)"
   ]
  },
  {
   "cell_type": "code",
   "execution_count": 146,
   "id": "2498e1cc",
   "metadata": {},
   "outputs": [
    {
     "data": {
      "text/plain": [
       "defaultdict(list,\n",
       "            {'to': ['T UW1', 'T IH0', 'T AH0'],\n",
       "             'will': ['W IH1 L', 'W AH0 L'],\n",
       "             'and': ['AH0 N D', 'AE1 N D'],\n",
       "             'a': ['AH0', 'EY1'],\n",
       "             'it': ['IH1 T', 'IH0 T'],\n",
       "             'record': ['R AH0 K AO1 R D',\n",
       "              'R EH1 K ER0 D',\n",
       "              'R IH0 K AO1 R D']})"
      ]
     },
     "execution_count": 146,
     "metadata": {},
     "output_type": "execute_result"
    }
   ],
   "source": [
    "diff_pron_nl"
   ]
  },
  {
   "cell_type": "markdown",
   "id": "643f0e15",
   "metadata": {},
   "source": [
    "Then we will just print the dictionary."
   ]
  },
  {
   "cell_type": "code",
   "execution_count": 147,
   "id": "f86819db",
   "metadata": {},
   "outputs": [
    {
     "name": "stdout",
     "output_type": "stream",
     "text": [
      "to: T UW1 | T IH0 | T AH0\n",
      "will: W IH1 L | W AH0 L\n",
      "and: AH0 N D | AE1 N D\n",
      "a: AH0 | EY1\n",
      "it: IH1 T | IH0 T\n",
      "record: R AH0 K AO1 R D | R EH1 K ER0 D | R IH0 K AO1 R D\n"
     ]
    }
   ],
   "source": [
    "for key, val in diff_pron_nl.items():\n",
    "    print(key + ': ' + ' | '.join(w for w in val))"
   ]
  },
  {
   "cell_type": "code",
   "execution_count": null,
   "id": "89aa3275",
   "metadata": {},
   "outputs": [],
   "source": []
  }
 ],
 "metadata": {
  "kernelspec": {
   "display_name": "Python 3 (ipykernel)",
   "language": "python",
   "name": "python3"
  },
  "language_info": {
   "codemirror_mode": {
    "name": "ipython",
    "version": 3
   },
   "file_extension": ".py",
   "mimetype": "text/x-python",
   "name": "python",
   "nbconvert_exporter": "python",
   "pygments_lexer": "ipython3",
   "version": "3.9.5"
  }
 },
 "nbformat": 4,
 "nbformat_minor": 5
}
