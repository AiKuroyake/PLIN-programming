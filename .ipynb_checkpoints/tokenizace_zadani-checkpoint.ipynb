{
 "cells": [
  {
   "cell_type": "markdown",
   "id": "83c9a80f",
   "metadata": {},
   "source": [
    "# Tokenizace\n",
    "\n",
    "V tomto notebooku si v několika krocích vytvoříte program pro tokenizaci textu. Budete k tomu potřebovat pouze základní metody Pythonu a modul re pro regulární výrazy.\n",
    "\n",
    "Tokenizace je jedním z běžných problémů zpracování přirozeného jazyka. S tokenizací se setkáte v korpusech, v syntéze řeči, během strojového učení apod. Jedná se o rozdělení textu na menší části, přičemž tyto části, kterým se říká tokeny, mohou být věty, slova, či jinak definované řetězce. Jelikož se jedná o běžnou součást NLP (zpracování přirozeného jazyka; z anglického Natural Language Processing), mohli byste předpokládat, že tokenizace patří mezi dobře popsané problémy, který není třeba řešit. Jak ale uvidíte dále, s tokenizací to není tak jednoduché a záleží na tom, pro co data zpracováváte a jak definujete samotné tokeny.\n",
    "\n",
    "## 1 Problémy tokenizace\n",
    "\n",
    "Pokud se zaměříte na tokenizaci slov, musíte se rozhodnout, jak budete ke slovům přistupovat. Pokud narazíte na slovní spojení „Jižní Amerika“, budete jej tokenizovat jako dvě různá slova „Jižní“ a „Amerika“, nebo zvolíte variantu „Jižní Amerika“, jelikož tato dvě slova tvoří pojmenovanou entitu? Jak v anglickém textu budete tokenizovat „don't“? Přikloníte se k variantě „don't“, „do“ a „n't“, „do“ a „not“, nebo k úplně jiné variantě? Pokud narazíte na slovo „překladatel-tlumočník“, rozhodnete se ho ponechat se spojovníkem nebo rozdělit do slov „překladatel“ a „tlumočník“?  A co slovo „dvou-“ ve spojení „dvou‑ až třílůžkový pokoj“? Jak budete nakládat s daty, čísly, zkratkami, internetovými adresami, interpunkcí apod.?\n",
    "\n",
    "Seznam by mohl dále pokračovat. Z předchozích příkladů můžete vidět, že problémů definice tokenu je spousta, přičemž žádý z uvedených příkladů nemá jedno správné řešení, všechna uvedená řešení by byla vhodná v různých kontextech.\n",
    "\n",
    "V tomto notebooku nebude důležité vyřešit všechny tyto problémy. Zaměřte se pouze na ty, které lze jednoduše podchytit a které se vyskytují v textu, jenž budete tokenizovat.\n",
    "\n",
    "## 2 S čím budete pracovat\n",
    "\n",
    "### 2.1 re\n",
    "\n",
    "V tomto notebooku použijete modul re, který slouží pro práci s regulárními výrazy.\n",
    "\n",
    "Více informací na [re](https://docs.python.org/3/library/re.html) nebo [Programiz](https://www.programiz.com/python-programming/regex).\n",
    "\n",
    "Pro připomenutí regulárních výrazů vám může pomoct tento [cheatsheet](https://cheatography.com/davechild/cheat-sheets/regular-expressions/). Než výrazy implementujete do svého kódu, můžete si jejich funkčnost vyzkoušet např. na [regex101](https://regex101.com/) (nezapomeňte si v levém boxu přepnout flavor na Python).\n",
    "\n",
    "## 3 Instalace\n",
    "\n",
    "Modul re je součástí tzv. The Python Standard Library (standardní knihovny Pythonu), není tedy nutné nic instalovat.\n",
    "\n",
    "Více informací na [The Python Standard Library](https://docs.python.org/3/library/).\n",
    "\n",
    "## 4 Import knihoven a modulů\n",
    "\n",
    "Než budete moct začít s psaním programu, musíte importovat všechny knihovny a moduly, které budete potřebovat. Patří mezi ně:\n",
    "\n",
    "- re\n",
    "\n",
    "Spusťte následující buňku, modul re se importuje.\n",
    "\n",
    "**Poznámka:** Po každém zavření a otevření notebooku je nutné všechen kód (tj. i importování) spustit znovu."
   ]
  },
  {
   "cell_type": "code",
   "execution_count": null,
   "id": "8c64a798",
   "metadata": {},
   "outputs": [],
   "source": [
    "import re #importuj knihovnu re"
   ]
  },
  {
   "cell_type": "markdown",
   "id": "fb59e461",
   "metadata": {},
   "source": [
    "## 5 Jednoduchý tokenizátor\n",
    "\n",
    "Jednoduchý tokenizátor v Pythonu lze naprogramovat na třech řádcích díky metodě `split`. Text se poté rozdělí na slova pomocí mezer.\n",
    "\n",
    "Nejprve je nutné vyzvat uživatele k zadání textu."
   ]
  },
  {
   "cell_type": "code",
   "execution_count": null,
   "id": "1c8b328a",
   "metadata": {},
   "outputs": [],
   "source": [
    "text = input('Zadejte text pro tokenizaci: ') #vyzvi uživatele k zadání textu"
   ]
  },
  {
   "cell_type": "markdown",
   "id": "430747a4",
   "metadata": {},
   "source": [
    "Text se poté tokenizuje pomocí metody `split`. Pokud této metodě není specifikováno, podle čeho má text rozdělit, použije k rozdělení slov mezeru. V tomto případě je toto chování vhodné, parametry metody tedy zůstanou prázdné."
   ]
  },
  {
   "cell_type": "code",
   "execution_count": null,
   "id": "5c861ba2",
   "metadata": {},
   "outputs": [],
   "source": [
    "text = text.split() #rozděl text pomocí mezer"
   ]
  },
  {
   "cell_type": "markdown",
   "id": "8eebf520",
   "metadata": {},
   "source": [
    "Tokenizovaný text následně lze vypsat.\n",
    "\n",
    "**Poznámka:** Následujícím způsobem můžete text vypsat v prostředí Jupyter Notebook nebo v terminálu. Pokud budete programovat v jiných prostředích a tento způsob vám nebude fungovat, použijte standardní `print(text)`."
   ]
  },
  {
   "cell_type": "code",
   "execution_count": null,
   "id": "7c4ad037",
   "metadata": {},
   "outputs": [],
   "source": [
    "text #vypiš proměnnou text"
   ]
  },
  {
   "cell_type": "markdown",
   "id": "c6b38686",
   "metadata": {},
   "source": [
    "Jak si můžete všimnout, text se tokenizoval, dokonce metoda `split` zbavila text počátečních mezer. Hlavní problém je ale s interpunkcí. Ve vašem tokenizátoru určitě nebudete chtít interpunkci jako součást předchozího slova, samotná metoda `split` vám tedy nebude stačit.\n",
    "\n",
    "V případě tokenizace není ideální ani uložení textu do proměnné přes metodu `input`. Zejména v případě, kdy budete tokenizovat dlouhé texty, se vám bude hodit jiný přístup, abyste text nemuseli kopírovat a následně jej vkládat.\n",
    "\n",
    "To stejné platí o přístupu k výslednému tokenizovanému textu. Může být výhodné jej nechat v proměnné a dále ho zpracovávat, měli byste ale také být schopni výstup uložit do souboru.\n",
    "\n",
    "Než budete upravovat váš tokenizátor, naučíte se, jak pomocí Pythonu pracovat se soubory. Uvidíte přepsání obsahu souboru a přidání dalších řádků textu. Zjistíte, jak vytvořit úplně nový soubor. V další sekci si v krátkosti zopakujete práci se seznamy. Následuje sekce o regulárních výrazech. V poslední sekci určené k opakování zjistíte, co jsou řezy.\n",
    "\n",
    "## 6 Práce se soubory\n",
    "\n",
    "### 6.1 Otevření souboru\n",
    "\n",
    "K otevření souboru v Pythonu slouží metoda `open`. Požaduje dva parametry:\n",
    "\n",
    "1. název souboru (pokud se soubor nachází ve stejné složce jako program, stačí pouze název s formátem, pokud se soubor nachází jinde, je nutné specifikovat celou cestu),\n",
    "2. mód, v jakém se soubor otevře (ve vašem případě `r`= read = ke čtení).\n",
    "\n",
    "Pokud si budete chtít otevření souboru vyzkoušet, zkontrolujte, že do příkazu níže zadáváte existující soubor s platnou cestou."
   ]
  },
  {
   "cell_type": "code",
   "execution_count": null,
   "id": "d330f722",
   "metadata": {},
   "outputs": [],
   "source": [
    "txt = open('uryvek.txt', 'r') #otevři soubor ke čtení"
   ]
  },
  {
   "cell_type": "markdown",
   "id": "5c338605",
   "metadata": {},
   "source": [
    "Všimněte si, že metoda `open` sice otevře daný soubor a uloží jej do proměnné, nevypíše ale obsah souboru."
   ]
  },
  {
   "cell_type": "code",
   "execution_count": null,
   "id": "7e35d603",
   "metadata": {},
   "outputs": [],
   "source": [
    "txt #vypiš proměnnou txt"
   ]
  },
  {
   "cell_type": "markdown",
   "id": "4e4302c8",
   "metadata": {},
   "source": [
    "### 6.2 Přečtení souboru\n",
    "\n",
    "K výpisu obsahu proměnné musíte použít metodu `read`, která přečte celý soubor (případně metodu `readlines`, která čte po jednom řádku)."
   ]
  },
  {
   "cell_type": "code",
   "execution_count": null,
   "id": "58c51244",
   "metadata": {},
   "outputs": [],
   "source": [
    "txt2 = txt.read() #přečti obsah proměnné txt2"
   ]
  },
  {
   "cell_type": "code",
   "execution_count": null,
   "id": "f0f664e6",
   "metadata": {
    "scrolled": true
   },
   "outputs": [],
   "source": [
    "txt2 #vypiš proměnnou txt2"
   ]
  },
  {
   "cell_type": "code",
   "execution_count": null,
   "id": "3fd0cf00",
   "metadata": {},
   "outputs": [],
   "source": [
    "txt3 = txt.readlines(1) #přečti jeden řádek"
   ]
  },
  {
   "cell_type": "code",
   "execution_count": null,
   "id": "8589e759",
   "metadata": {},
   "outputs": [],
   "source": [
    "txt3 #vypiš proměnnou txt3"
   ]
  },
  {
   "cell_type": "markdown",
   "id": "34ab3cb9",
   "metadata": {},
   "source": [
    "#### 6.2.1 Iterace přes řádky\n",
    "\n",
    "Díky metodě `readlines` je navíc možné přes řádky v textu iterovat ve for cyklu postupně a dále s nimi pracovat."
   ]
  },
  {
   "cell_type": "code",
   "execution_count": null,
   "id": "15d6346f",
   "metadata": {},
   "outputs": [],
   "source": [
    "line_num = 0 #vytvoř novou proměnnou pro počítání řádků\n",
    "\n",
    "for line in txt.readlines(): #iteruj přes každý řádek v textu\n",
    "    line_num += 1 #zvyš číslo řádku o jedna\n",
    "    print(line_num, line) #vypiš číslo řádku a celý řádek"
   ]
  },
  {
   "cell_type": "markdown",
   "id": "3b6a59fb",
   "metadata": {},
   "source": [
    "### 6.3 Zavření souboru\n",
    "\n",
    "K zavření souboru slouží metoda `close`. Zavírání souborů je dobrou praxí, která vám zaručí, že si nepoškodíte soubory, se kterými pracujete. Více na [Stack Overflow](https://stackoverflow.com/questions/7395542/is-explicitly-closing-files-important).\n",
    "\n",
    "**Poznámka:** Pokud proměnnou přepíšete, tj. proměnná již neobsahuje samotný soubor, ale např. text uložený v řetězci, zavřít soubor vám nepůjde."
   ]
  },
  {
   "cell_type": "code",
   "execution_count": null,
   "id": "3826eb92",
   "metadata": {},
   "outputs": [],
   "source": [
    "txt.close() #zavři soubor uložený v proměnné txt"
   ]
  },
  {
   "cell_type": "markdown",
   "id": "a1f27ad5",
   "metadata": {},
   "source": [
    "#### 6.3.1 With open\n",
    "\n",
    "Metoda `with open` se o zavření souboru postará automaticky. Více třeba ve vláknu na [Stack Overflow](https://stackoverflow.com/questions/9282967/how-to-open-a-file-using-the-open-with-statement).\n",
    "\n",
    "### 6.4 Zápis do již existujícího souboru\n",
    "\n",
    "Pokud chcete do souboru i zapisovat, musíte změnit mód, ve kterém soubor otevřete. V sekci 6.1 byl použit mód `r` (ke čtení). Pro zápis si můžete vybrat ze dvou módů:\n",
    "\n",
    "1. `a` = append = další text připojí na konec souboru\n",
    "2. `w` = write = přepíše existující obsah souboru"
   ]
  },
  {
   "cell_type": "code",
   "execution_count": null,
   "id": "db3886be",
   "metadata": {},
   "outputs": [],
   "source": [
    "txt = open('uryvek.txt', 'a') #otevři soubor v módu append"
   ]
  },
  {
   "cell_type": "markdown",
   "id": "5213059a",
   "metadata": {},
   "source": [
    "Po použití těchto dvou módů můžete použít metodu `write` k zápisu dalších řetězců do souboru."
   ]
  },
  {
   "cell_type": "code",
   "execution_count": null,
   "id": "baaecb0b",
   "metadata": {},
   "outputs": [],
   "source": [
    "txt.write('Nový text') #zapiš do souboru txt řetězec Nový text"
   ]
  },
  {
   "cell_type": "code",
   "execution_count": null,
   "id": "813faf6e",
   "metadata": {},
   "outputs": [],
   "source": [
    "txt.read() #přečti obsah proměnné txt"
   ]
  },
  {
   "cell_type": "markdown",
   "id": "9bfd7be8",
   "metadata": {},
   "source": [
    "### 6.5 Vytvoření nového souboru\n",
    "\n",
    "K vytvoření nového souboru neexistuje specifická funkce, použijte metodu `open` s některým ze třech módů: `x`, `a`, `w`. \n",
    "\n",
    "S `a` a `w` jste se setkali v předchozí podkapitole. Jejich použití od nového módu `x` = create se liší v chybových hláškách. Módy `a` a `w` vytvoří nový soubor pouze, pokud ještě neexistuje. Pokud soubor se stejným jménem existuje, nestane se nic, ale nedostanete ani chybovou hlášku. Oproti tomu mód `x` vytvoří nový soubor pouze pokud soubor se stejným jménem ještě neexistuje. Ale pokud takový soubor existuje, dostanete chybovou hlášku."
   ]
  },
  {
   "cell_type": "code",
   "execution_count": null,
   "id": "69accece",
   "metadata": {},
   "outputs": [],
   "source": [
    "txt = open('uryvek2.txt', 'w') #vytvoř nový soubor pomocí módu write"
   ]
  },
  {
   "cell_type": "code",
   "execution_count": null,
   "id": "4a0ebda8",
   "metadata": {},
   "outputs": [],
   "source": [
    "txt = open('uryvek2.txt', 'a') #vytvoř nový soubor pomocí módu append (soubor již existuje, nic se nestane a\n",
    "                               #a ani nedostaneme chybovou hlášku)"
   ]
  },
  {
   "cell_type": "code",
   "execution_count": null,
   "id": "5ce4beda",
   "metadata": {},
   "outputs": [],
   "source": [
    "txt = open('uryvek2.txt', 'x') #vytvoř nový soubor pomocí módu create (soubor již existuje, dostaneme chybovou\n",
    "                               #hlášku)"
   ]
  },
  {
   "cell_type": "markdown",
   "id": "5c46b3fa",
   "metadata": {},
   "source": [
    "Přehled všech metod a módů práce se souboru naleznete např. na [Geeks for Geeks](https://www.geeksforgeeks.org/writing-to-file-in-python/).\n",
    "\n",
    "## 7 Seznamy\n",
    "\n",
    "V tomto úkolu využijete datový typ seznam, do kterého je možné uložit několik položek. Python umožňuje, aby tyto položky nebyly stejného datového typu (do jednoho seznamu tedy můžete uložit jak celé číslo, řetězec, tak slovník), ale je silně doporučováno, aby se datové typy uvnitř seznamu nemíchaly. Seznamy jsou uspořádané, měnitelné, umožňují ukládat duplicity a jsou indexované. Pozor, první položka má index 0.\n",
    "\n",
    "Prázdný seznam vytvoříte pomocí hranatých závorek nebo konstruktoru."
   ]
  },
  {
   "cell_type": "code",
   "execution_count": null,
   "id": "6dc61e96",
   "metadata": {},
   "outputs": [],
   "source": [
    "lst = [] #vytvoř nový seznam"
   ]
  },
  {
   "cell_type": "code",
   "execution_count": null,
   "id": "d6bc7315",
   "metadata": {},
   "outputs": [],
   "source": [
    "lst2 = list() #vytvoř nový seznam"
   ]
  },
  {
   "cell_type": "markdown",
   "id": "93ec2445",
   "metadata": {},
   "source": [
    "Položky do seznamu přidáte pomocí metody `append`. Nová položka se přidá vždy na konec seznamu."
   ]
  },
  {
   "cell_type": "code",
   "execution_count": null,
   "id": "0c5ecff8",
   "metadata": {},
   "outputs": [],
   "source": [
    "lst.append(1) #přidej do seznamu jedničku"
   ]
  },
  {
   "cell_type": "code",
   "execution_count": null,
   "id": "3c5a895d",
   "metadata": {},
   "outputs": [],
   "source": [
    "lst #vypiš proměnnou lst"
   ]
  },
  {
   "cell_type": "code",
   "execution_count": null,
   "id": "7e02a05a",
   "metadata": {},
   "outputs": [],
   "source": [
    "lst.append(2) #přidej do seznamu dvojku"
   ]
  },
  {
   "cell_type": "code",
   "execution_count": null,
   "id": "31f9f76a",
   "metadata": {},
   "outputs": [],
   "source": [
    "lst #vypiš proměnnou lst"
   ]
  },
  {
   "cell_type": "markdown",
   "id": "b0f76811",
   "metadata": {},
   "source": [
    "Pokud byste potřebovali novou položku přidat na konkrétní místo, použijte metodu `insert`. Ta požaduje dva parametry:\n",
    "1. index, kam se má položka v seznamu umístit,\n",
    "2. položku."
   ]
  },
  {
   "cell_type": "code",
   "execution_count": null,
   "id": "ba366b85",
   "metadata": {},
   "outputs": [],
   "source": [
    "lst.insert(1, 8) #přidej do seznamu osmičku na index 1 (tj. druhé místo v seznamu)"
   ]
  },
  {
   "cell_type": "code",
   "execution_count": null,
   "id": "bedd0d78",
   "metadata": {},
   "outputs": [],
   "source": [
    "lst #vypiš proměnnou lst"
   ]
  },
  {
   "cell_type": "markdown",
   "id": "51bd61c6",
   "metadata": {},
   "source": [
    "Index zjistíte pomocí metody `index`. Do parametru metody zadejte položku, jejíž index chcete vyhledat. Pokud se v seznamu položka vyskytuje, funkce vám vrátí číslo indexu. Pokud se v seznamu položka nevyskytuje, metoda skončí chybovou hláškou `ValueError`."
   ]
  },
  {
   "cell_type": "code",
   "execution_count": null,
   "id": "2cb84158",
   "metadata": {},
   "outputs": [],
   "source": [
    "lst.index(8) #vypiš, na kterém indexu se nachází osmička"
   ]
  },
  {
   "cell_type": "code",
   "execution_count": null,
   "id": "a69b2e46",
   "metadata": {},
   "outputs": [],
   "source": [
    "lst.index(3) #vypiš, na kterém indexu se nachází trojka"
   ]
  },
  {
   "cell_type": "markdown",
   "id": "b0340784",
   "metadata": {},
   "source": [
    "Pro odstranění položky slouží metoda `remove`. Pokud se v seznamu vyskytuje více stejných položek, odstraní se vždy pouze první položka."
   ]
  },
  {
   "cell_type": "code",
   "execution_count": null,
   "id": "e5a8a618",
   "metadata": {},
   "outputs": [],
   "source": [
    "lst.remove(8) #odstraň ze seznamu osmičku"
   ]
  },
  {
   "cell_type": "code",
   "execution_count": null,
   "id": "47b5a981",
   "metadata": {},
   "outputs": [],
   "source": [
    "lst #vypiš proměnnou lst"
   ]
  },
  {
   "cell_type": "markdown",
   "id": "adf40dbd",
   "metadata": {},
   "source": [
    "Další informace k datovému typu seznam, užitečné metody a jejich detailní popis naleznete v [dokumentaci](https://docs.python.org/3/tutorial/datastructures.html).\n",
    "\n",
    "## 8 Regulární výrazy\n",
    "\n",
    "Regulární výrazy slouží jako vzor pro vyhledávání v textu. V Pythonu díky knihovně re a různým funkcím můžete textové řetězce nejen vyhledávat, ale i modifikovat nebo je nahrazovat za jiné řetězce. V tokenizátoru využijete hlavně vyhledávání, pokud budete chtít nalézt např. interpunkci.\n",
    "\n",
    "K vyhledávání slouží v Pythonu funkce `search`. Tato funkce požaduje dva parametry, regulární výraz a text, ve kterém se má vyhledávat."
   ]
  },
  {
   "cell_type": "code",
   "execution_count": null,
   "id": "4c2ed4a2",
   "metadata": {},
   "outputs": [],
   "source": [
    "sent = 'Jasno nebo skoro jasno.' #ulož tetxový řetězec do proměnné\n",
    "sent2 = 'Maximální teploty 10 až 14 °C. ' #ulož textový řetězec do proměnné"
   ]
  },
  {
   "cell_type": "code",
   "execution_count": null,
   "id": "6d284f1c",
   "metadata": {},
   "outputs": [],
   "source": [
    "reg = re.search(r'\\d', sent) #vyhledej první číslici v textu sent"
   ]
  },
  {
   "cell_type": "code",
   "execution_count": null,
   "id": "4cd71c3a",
   "metadata": {},
   "outputs": [],
   "source": [
    "print(reg) #vypiš proměnnou reg"
   ]
  },
  {
   "cell_type": "code",
   "execution_count": null,
   "id": "bed20e7a",
   "metadata": {},
   "outputs": [],
   "source": [
    "reg = re.search(r'\\d', sent2) #vyhledej první číslici v textu sent2"
   ]
  },
  {
   "cell_type": "code",
   "execution_count": null,
   "id": "7c3db6b4",
   "metadata": {},
   "outputs": [],
   "source": [
    "print(reg) #vypiš proměnnou reg"
   ]
  },
  {
   "cell_type": "markdown",
   "id": "30454ea5",
   "metadata": {},
   "source": [
    "Pokud funkce `search` nenalezne text, který by korespondoval s regulárním výrazem, vrátí hodnotu `None`. Pokud naopak nalezne shodu, vrátí index prvního výskytu (`span`) a kolikrát se daný výraz v textu vyskytuje (`match`). V případě, že budete chtít nalézt všechny textové řetězce, nejenom první, musíte použít funkci `findall`.\n",
    "\n",
    "Efektivnějším způsobem, jak pracovat s regulárními výrazy, je uložit si je do proměnné. A to zejména, pokud stejné výrazy používáte na různých místech v kódu. Výraz pak v řešení musíte změnit pouze jednou. K tomu slouží funkce `compile`."
   ]
  },
  {
   "cell_type": "code",
   "execution_count": null,
   "id": "599573fa",
   "metadata": {},
   "outputs": [],
   "source": [
    "pattern = re.compile(r'\\d') #zkompiluj regulární výraz pro vyhledání číslic"
   ]
  },
  {
   "cell_type": "code",
   "execution_count": null,
   "id": "36ebca0d",
   "metadata": {},
   "outputs": [],
   "source": [
    "reg2 = re.findall(pattern, sent2) #vyhledej všechny číslice v texti sent2"
   ]
  },
  {
   "cell_type": "code",
   "execution_count": null,
   "id": "57ef5a05",
   "metadata": {},
   "outputs": [],
   "source": [
    "print(reg2) #vypiš proměnnou reg2"
   ]
  },
  {
   "cell_type": "markdown",
   "id": "1f2125c3",
   "metadata": {},
   "source": [
    "**Poznámka:** r ve výrazu `r'\\d'` slouží v Pythonu k upřesnění, že se nejedná o běžný řetězec, ale regulární výraz. V některých případech vám regulární výrazy budou fungovat i bez r, je ale lepší jej před výrazem použít.\n",
    "\n",
    "Další funkce naleznete v [dokumentaci ke knihovně re](https://docs.python.org/3/library/re.html), další informace a užitečné odkazy naleznete v sekci 3 tohoto notebooku.\n",
    "\n",
    "## 9 Řezy\n",
    "\n",
    "Ne vždy jsou regulární výrazy vhodnou volbou k řešení jednoduchého problému. Např. pro získání interpunkce, která je připojená k předchozímu slovu, je výhodnější (a zejména rychlejší) použít řezy namísto regulárních výrazů.\n",
    "\n",
    "Řezy umožňují vybrat část z řetězce či seznamu podle určitého kritéria specifikovaného indexy. V tomto notebooku je důležité rozumět řezům řetězců.\n",
    "\n",
    "Zapisují se následujícím způsobem: `řetězec[začátek:konec:krok]`, přitom není vždy nutné specifikovat všechny součásti řezu (tj. je možné vynechat např. počáteční index). Podívejte se na následující ukázky a na [Stack Overflow](https://stackoverflow.com/questions/509211/understanding-slicing) pro detailní popis.\n",
    "\n",
    "**Poznámka:** Python jak řetězce, tak seznamy indexuje od nuly, tj. první prvek má vždy index 0, ne 1."
   ]
  },
  {
   "cell_type": "code",
   "execution_count": null,
   "id": "e18d81fe",
   "metadata": {},
   "outputs": [],
   "source": [
    "w = 'autobus' #ulož textový řetězec do proměnné w"
   ]
  },
  {
   "cell_type": "code",
   "execution_count": null,
   "id": "fd65fc87",
   "metadata": {},
   "outputs": [],
   "source": [
    "w[2:5] #vypiš třetí až páté písmeno"
   ]
  },
  {
   "cell_type": "code",
   "execution_count": null,
   "id": "c40c78b0",
   "metadata": {},
   "outputs": [],
   "source": [
    "w[-3:] #vypiš všechna písmena začínající třetím písmenem od konce"
   ]
  },
  {
   "cell_type": "code",
   "execution_count": null,
   "id": "1abd84f3",
   "metadata": {},
   "outputs": [],
   "source": [
    "w[:4] #vypiš všechna písmena až do čtvrtého"
   ]
  },
  {
   "cell_type": "code",
   "execution_count": null,
   "id": "1091adef",
   "metadata": {},
   "outputs": [],
   "source": [
    "w[1:5:2] #vypiš každé druhé písmeno, začni na druhém písmeni a skonči na pátém"
   ]
  },
  {
   "cell_type": "markdown",
   "id": "dc3e5115",
   "metadata": {},
   "source": [
    "## 10 Tokenizátor s použitím regulárních výrazů\n",
    "\n",
    "V této sekci budete mít za úkol naprogramovat tokenizátor používající regulární výrazy k tokenizaci. Než se pustíte do programování, připomeňte si práci s knihovnou re a regulárními výrazy (užitečné odkazy jsou k dispozici v sekci 3 tohoto notebooku).\n",
    "\n",
    "**Úkol:** Vytvořte program, který načte data ze souboru, tokenizuje text a výsledek uloží do nového souboru.\n",
    "\n",
    "Pracujte buď s ukázkovým textem, nebo si najděte vlastní. Vyberte ale vhodný text, který obsahuje alespoň přímou řeč, závorky, čísla s desetinnou čárkou/tečkou, zkratky, případně další problémy, které si vyberete. Text můžete slepit i z vícero zdrojů.\n",
    "\n",
    "Použijte regulární výrazy k nalezení těchto problémů a rozhodněte se, jak je budete řešit (např. budou závorky a uvozovky samostatné tokeny?). Váš přístup musí být konstatní pro celý text.\n",
    "\n",
    "Program vhodně rozdělte na funkce."
   ]
  },
  {
   "cell_type": "markdown",
   "id": "a61c3843",
   "metadata": {},
   "source": [
    "<details> \n",
    "    <summary>Pokud nevíte, jak začít, klikněte na tento text pro <b>zobrazení nápovědy</b>.</summary>\n",
    "    <p><b>Nápověda:</b></p>\n",
    "    <p>Vytvořte funkci, která otevře soubor a uloží obsah souboru (text) do proměnné.</p>\n",
    "    <p>Rozdělte text pomocí mezer a metody split na jednotlivé tokeny.</p>\n",
    "    <p>Použijte regulární výrazy k nalezení interpunkce, závorek, uvozovek apod. v tokenech.</p>\n",
    "    <p>K oddělení např. interpunkce od slov můžete použít řezy. Více informací o řezech naleznete třeba na <a href=\"https://stackoverflow.com/questions/509211/understanding-slice-notation\">Stack Overflow</a>.</p>\n",
    "    <p>Výsledný tokenizovaný text uložte ve vhodném formátu do nového souboru.</p>\n",
    "</details>"
   ]
  },
  {
   "cell_type": "code",
   "execution_count": null,
   "id": "abdac10a",
   "metadata": {},
   "outputs": [],
   "source": []
  },
  {
   "cell_type": "code",
   "execution_count": null,
   "id": "7991904d",
   "metadata": {},
   "outputs": [],
   "source": []
  },
  {
   "cell_type": "code",
   "execution_count": null,
   "id": "bf6908f1",
   "metadata": {},
   "outputs": [],
   "source": []
  },
  {
   "cell_type": "code",
   "execution_count": null,
   "id": "cd8023e2",
   "metadata": {},
   "outputs": [],
   "source": []
  },
  {
   "cell_type": "code",
   "execution_count": null,
   "id": "c5144798",
   "metadata": {},
   "outputs": [],
   "source": []
  },
  {
   "cell_type": "code",
   "execution_count": null,
   "id": "c3565020",
   "metadata": {},
   "outputs": [],
   "source": []
  },
  {
   "cell_type": "code",
   "execution_count": null,
   "id": "014d33c0",
   "metadata": {},
   "outputs": [],
   "source": []
  },
  {
   "cell_type": "code",
   "execution_count": null,
   "id": "6c30e4d5",
   "metadata": {},
   "outputs": [],
   "source": []
  },
  {
   "cell_type": "code",
   "execution_count": null,
   "id": "7eda69c4",
   "metadata": {},
   "outputs": [],
   "source": []
  },
  {
   "cell_type": "code",
   "execution_count": null,
   "id": "e2ae077d",
   "metadata": {},
   "outputs": [],
   "source": []
  },
  {
   "cell_type": "code",
   "execution_count": null,
   "id": "b0e5187e",
   "metadata": {},
   "outputs": [],
   "source": []
  },
  {
   "cell_type": "code",
   "execution_count": null,
   "id": "f8f52ab5",
   "metadata": {},
   "outputs": [],
   "source": []
  },
  {
   "cell_type": "code",
   "execution_count": null,
   "id": "0f11104d",
   "metadata": {},
   "outputs": [],
   "source": []
  },
  {
   "cell_type": "code",
   "execution_count": null,
   "id": "5a810114",
   "metadata": {},
   "outputs": [],
   "source": []
  },
  {
   "cell_type": "code",
   "execution_count": null,
   "id": "c8ab3ec4",
   "metadata": {},
   "outputs": [],
   "source": []
  }
 ],
 "metadata": {
  "kernelspec": {
   "display_name": "Python 3 (ipykernel)",
   "language": "python",
   "name": "python3"
  },
  "language_info": {
   "codemirror_mode": {
    "name": "ipython",
    "version": 3
   },
   "file_extension": ".py",
   "mimetype": "text/x-python",
   "name": "python",
   "nbconvert_exporter": "python",
   "pygments_lexer": "ipython3",
   "version": "3.10.4"
  }
 },
 "nbformat": 4,
 "nbformat_minor": 5
}
