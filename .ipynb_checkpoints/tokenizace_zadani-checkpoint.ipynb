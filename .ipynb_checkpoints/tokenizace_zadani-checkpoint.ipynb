{
 "cells": [
  {
   "cell_type": "markdown",
   "id": "83c9a80f",
   "metadata": {},
   "source": [
    "# Tokenizace\n",
    "\n",
    "V tomto notebooku si v několika krocích vytvoříme program pro tokenizaci textu. Použijeme k tomu pouze základní metody Pythonu a knihovnu re pro regulární výrazy.\n",
    "\n",
    "Tokenizace je jedním z běžných problémů zpracování přirozeného jazyka. S tokenizací se setkáme v korpusech, v syntéze řeči, během strojového učení apod. Jedná se o rozdělení textu na menší části, přičemž tyto části, kterým říkáme tokeny, mohou být věty, slova, či jinak definované řetězce. Jelikož se jedná o běžnou součást NLP (zpracování přirozeného jazyka), mohli bychom předpokládat, že tokenizace patří mezi dobře popsané problémy, který není třeba řešit. Jak si ale ukážeme dále, s tokenizací to není tak jednoduché a velmi záleží na tom, pro co data zpracováváme a jak definujeme samotné tokeny.\n",
    "\n",
    "## 1 Problémy tokenizace\n",
    "\n",
    "Pokud se zaměříme na tokenizaci slov, musíme se rozhodnout, jak budeme ke slovům přistupovat. Pokud narazíme na slovní spojení \"Jižní Amerika\", budeme jej tokenizovat jako dvě různá slova \"Jižní\" a \"Amerika\", nebo zvolíme variantu \"Jižní Amerika\", jelikož tato dvě slova spolu tvoří význam? Jak v anglickém textu budeme tokenizovat \"don't\"? Přikloníme se k variantě \"don't\", \"do\" a \"n't\", \"dont\", nebo úplně jiné variantě? Pokud narazíme na slovo \"překladatel-tlumočník\", rozhodneme se ho ponechat se spojovníkem nebo rozdělit do slov \"překladatel\" a \"tlumočník\"?  A co slovo \"dvou-\" ve spojení \"dvou‑ až třílůžkový pokoj\"? Jak budeme nakládat s daty, čísly, zkratkami, internetovými adresami, interpunkcí apod.?\n",
    "\n",
    "Seznam by mohl dále pokračovat. Z předchozích příkladů můžeme vidět, že problémů definice slova (tokenu), je spousta, přičemž žádný z uvedených příkladů nemá jedno správné řešení, všechna uvedená by byla vhodná v různých kontextech.\n",
    "\n",
    "V našem případě nebude důležité vyřešit všechny tyto problémy. Zaměříme se pouze na ty, které se vyskytují v textu, jenž budeme tokenizovat.\n",
    "\n",
    "## 2 S čím budeme pracovat\n",
    "\n",
    "### 2.1 re\n",
    "\n",
    "V tomto notebooku použijeme modul re, který slouží pro práci s regulárními výrazy.\n",
    "\n",
    "Více informací na [re](https://docs.python.org/3/library/re.html) nebo [Programiz](https://www.programiz.com/python-programming/regex).\n",
    "\n",
    "Pro připomenutí regulárních výrazů vám může pomoct tento [cheatsheet](https://cheatography.com/davechild/cheat-sheets/regular-expressions/). Než výrazy implementujete do svého kódu, můžete si jejich funkčnost vyzkoušet např. na [regex101](https://regex101.com/) (nezapomeňte si v levém boxu přepnout flavor na Python).\n",
    "\n",
    "## 3 Instalace\n",
    "\n",
    "Modul re je součástí tzv. The Python Standard Library (standarní knihovny Pythonu), není tedy nutné nic instalovat.\n",
    "\n",
    "Více informací na [The Python Standard Library](https://docs.python.org/3/library/).\n",
    "\n",
    "## 4 Import knihoven a modulů\n",
    "\n",
    "Než budeme moct začít s psaním programu, musíme importovat všechny knihovny a moduly, které budeme potřebovat. Patří mezi ně:\n",
    "\n",
    "- re\n",
    "\n",
    "Spusťte následující buňku, modul re se importuje.\n",
    "\n",
    "**Poznámka:** Po každém zavření a otevření notebooku je nutné všechen kód (tj. i importování) spustit znovu. Výsledky sice zůstanou zobrazeny, obsah proměnných však v paměti nezůstává."
   ]
  },
  {
   "cell_type": "code",
   "execution_count": 1,
   "id": "8c64a798",
   "metadata": {},
   "outputs": [],
   "source": [
    "import re #importuj knihovnu re"
   ]
  },
  {
   "cell_type": "markdown",
   "id": "fb59e461",
   "metadata": {},
   "source": [
    "## 5 Nejjednodušší tokenizátor\n",
    "\n",
    "Nejjednodušší tokenizátor v Pythonu naprogramujeme na třech řádcích díky metodě `split`. Text rozdělíme na slova pomocí mezer.\n",
    "\n",
    "Nejprve vyzveme uživatele k zadání textu."
   ]
  },
  {
   "cell_type": "code",
   "execution_count": 2,
   "id": "1c8b328a",
   "metadata": {},
   "outputs": [
    {
     "name": "stdout",
     "output_type": "stream",
     "text": [
      "Zadejte text pro tokenizaci:        V polovině ledna se v médiích objevila zpráva, že předsedkyně Poslanecké sněmovny Markéta Pekarová Adamová shání stážistu. „Stážistce či stážistovi nabízíme aktivní zapojení do práce v oblasti mezinárodních vztahů a diplomatických aktivit předsedkyně, seznámení se s chodem kanceláře předsedkyně a také s prostorami a fungováním Poslanecké sněmovny,“ stojí v inzerátu.\n"
     ]
    }
   ],
   "source": [
    "text = input('Zadejte text pro tokenizaci: ') #vyzvi uživatele k zadání textu"
   ]
  },
  {
   "cell_type": "markdown",
   "id": "430747a4",
   "metadata": {},
   "source": [
    "Text poté tokenizujeme pomocí metody `split`. Pokud této metodě nespecifikujeme, podle čeho má text rozdělit, použije k rozdělení slov mezeru. V tomto případě je toto chování, které požadujeme, argumenty metody tedy necháme prázdné."
   ]
  },
  {
   "cell_type": "code",
   "execution_count": 3,
   "id": "5c861ba2",
   "metadata": {},
   "outputs": [],
   "source": [
    "text = text.split() #rozděl text pomocí mezer"
   ]
  },
  {
   "cell_type": "markdown",
   "id": "8eebf520",
   "metadata": {},
   "source": [
    "Tokenizovaný text vypíšeme.\n",
    "\n",
    "**Poznámka:** Tímto způsobem lze text vypsat pouze v prostředí Jupyter Notebook. Pokud budete programovat v jiných prostředích, použijte standardní `print(text)`."
   ]
  },
  {
   "cell_type": "code",
   "execution_count": 4,
   "id": "7c4ad037",
   "metadata": {},
   "outputs": [
    {
     "data": {
      "text/plain": [
       "['V',\n",
       " 'polovině',\n",
       " 'ledna',\n",
       " 'se',\n",
       " 'v',\n",
       " 'médiích',\n",
       " 'objevila',\n",
       " 'zpráva,',\n",
       " 'že',\n",
       " 'předsedkyně',\n",
       " 'Poslanecké',\n",
       " 'sněmovny',\n",
       " 'Markéta',\n",
       " 'Pekarová',\n",
       " 'Adamová',\n",
       " 'shání',\n",
       " 'stážistu.',\n",
       " '„Stážistce',\n",
       " 'či',\n",
       " 'stážistovi',\n",
       " 'nabízíme',\n",
       " 'aktivní',\n",
       " 'zapojení',\n",
       " 'do',\n",
       " 'práce',\n",
       " 'v',\n",
       " 'oblasti',\n",
       " 'mezinárodních',\n",
       " 'vztahů',\n",
       " 'a',\n",
       " 'diplomatických',\n",
       " 'aktivit',\n",
       " 'předsedkyně,',\n",
       " 'seznámení',\n",
       " 'se',\n",
       " 's',\n",
       " 'chodem',\n",
       " 'kanceláře',\n",
       " 'předsedkyně',\n",
       " 'a',\n",
       " 'také',\n",
       " 's',\n",
       " 'prostorami',\n",
       " 'a',\n",
       " 'fungováním',\n",
       " 'Poslanecké',\n",
       " 'sněmovny,“',\n",
       " 'stojí',\n",
       " 'v',\n",
       " 'inzerátu.']"
      ]
     },
     "execution_count": 4,
     "metadata": {},
     "output_type": "execute_result"
    }
   ],
   "source": [
    "text #vypiš proměnnou"
   ]
  },
  {
   "cell_type": "markdown",
   "id": "c6b38686",
   "metadata": {},
   "source": [
    "Jak si můžeme všimnout, text se tokenizoval, dokonce jsme se díky metodě `split` zbavili počátečních mezer. Hlavní problém je ale s interpunkcí. V našem tokenizátoru určitě nebudeme chtít mít interpunkci jako součást předchozího slova, samotná metoda `split` nám tedy nebude stačit.\n",
    "\n",
    "V případě tokenizace není ideální ani uložení textu do proměnné přes metodu `input`. Zejména v případě, kdy budeme chtít tokenizovat dlouhé texty, se nám bude hodit jiný přístup, abychom text nemuseli kopírovat a následně jej vkládat.\n",
    "\n",
    "To stejné platí o přístupu k výslednému tokenizovanému textu. Může se nám hodit nechat jej v proměnné a dále ho zpracovávat, měli bychom ale být schopni výstup uložit do souboru.\n",
    "\n",
    "Než budeme upravovat náš tokenizátor, naučíme se, jak pomocí Pythonu otevřít soubor a přečíst jeho obsah. Ukážeme si, jak obsah souboru přepsat nebo k němu přidat další řádky textu. V neposlední řadě zjistíme, jak vytvořit úplně nový soubor.\n",
    "\n",
    "## 6 Práce se soubory\n",
    "\n",
    "### 6.1 Otevření souboru\n",
    "\n",
    "K otevření souboru v Pythonu slouží metoda `open`. Požaduje dva parametry:\n",
    "\n",
    "1. název souboru (pokud se soubor nachází ve stejné složce jako program, stačí pouze název s formátem, pokud se soubor nachází jinde, je nutné specifikovat celou cestu),\n",
    "2. mód, v jakém se soubor otevře (v našem případě `r`= read = ke čtení).\n",
    "\n",
    "Pokud si budete chtít otevření souboru vyzkoušet, zkontrolujte, že do příkazu níže zadáváte existující soubor s platnou cestou."
   ]
  },
  {
   "cell_type": "code",
   "execution_count": 18,
   "id": "d330f722",
   "metadata": {},
   "outputs": [],
   "source": [
    "txt = open('uryvek.txt', 'r') #otevři soubor ke čtení"
   ]
  },
  {
   "cell_type": "markdown",
   "id": "5c338605",
   "metadata": {},
   "source": [
    "Všimněte si, že metoda `open` sice otevře daný soubor a uloží jej do proměnné, nevypíše ale obsah souboru."
   ]
  },
  {
   "cell_type": "code",
   "execution_count": 6,
   "id": "7e35d603",
   "metadata": {},
   "outputs": [
    {
     "data": {
      "text/plain": [
       "<_io.TextIOWrapper name='uryvek.txt' mode='r' encoding='UTF-8'>"
      ]
     },
     "execution_count": 6,
     "metadata": {},
     "output_type": "execute_result"
    }
   ],
   "source": [
    "txt #vypiš proměnnou txt"
   ]
  },
  {
   "cell_type": "markdown",
   "id": "4e4302c8",
   "metadata": {},
   "source": [
    "### 6.2 Přečtení souboru\n",
    "\n",
    "K výpisu obsahu proměnné musíme použít metodu `read`, která přečte celý soubor (případně metodu `readlines`, která čte po jednom řádku)."
   ]
  },
  {
   "cell_type": "code",
   "execution_count": 12,
   "id": "58c51244",
   "metadata": {},
   "outputs": [],
   "source": [
    "txt2 = txt.read() #přečti obsah proměnné txt2"
   ]
  },
  {
   "cell_type": "code",
   "execution_count": 13,
   "id": "f0f664e6",
   "metadata": {
    "scrolled": true
   },
   "outputs": [
    {
     "data": {
      "text/plain": [
       "'Zprava:\\n\\n        V polovině ledna se v médiích objevila zpráva, že předsedkyně Poslanecké sněmovny Markéta Pekarová Adamová shání stážistu. „Stážistce či stážistovi nabízíme aktivní zapojení do práce v oblasti mezinárodních vztahů a diplomatických aktivit předsedkyně, seznámení se s chodem kanceláře předsedkyně a také s prostorami a fungováním Poslanecké sněmovny,“ stojí v inzerátu.\\n'"
      ]
     },
     "execution_count": 13,
     "metadata": {},
     "output_type": "execute_result"
    }
   ],
   "source": [
    "txt2 #vypiš proměnnou txt2"
   ]
  },
  {
   "cell_type": "code",
   "execution_count": 14,
   "id": "3fd0cf00",
   "metadata": {},
   "outputs": [],
   "source": [
    "txt3 = txt.readlines(1) #přečti jeden řádek"
   ]
  },
  {
   "cell_type": "code",
   "execution_count": 15,
   "id": "8589e759",
   "metadata": {},
   "outputs": [
    {
     "data": {
      "text/plain": [
       "['Zprava:\\n']"
      ]
     },
     "execution_count": 15,
     "metadata": {},
     "output_type": "execute_result"
    }
   ],
   "source": [
    "txt3 #vypiš proměnnou txt3"
   ]
  },
  {
   "cell_type": "markdown",
   "id": "3b6a59fb",
   "metadata": {},
   "source": [
    "### 6.3 Zavření souboru\n",
    "\n",
    "K zavření souboru slouží metoda `close`. Zavírání souborů je dobrou praxí, která nám zaručí, že si nepoškodíme soubory, se kterými pracujeme. Více na [Stack Overflow](https://stackoverflow.com/questions/7395542/is-explicitly-closing-files-important).\n",
    "\n",
    "**Poznámka:** Pokud proměnnou přepíšete, tj. proměnná již neobsahuje samotný soubor, ale např. text uložený v řetězci, zavřít soubor vám nepůjde."
   ]
  },
  {
   "cell_type": "code",
   "execution_count": 14,
   "id": "3826eb92",
   "metadata": {},
   "outputs": [],
   "source": [
    "txt.close() #zavři soubor uložený v proměnné txt"
   ]
  },
  {
   "cell_type": "markdown",
   "id": "a1f27ad5",
   "metadata": {},
   "source": [
    "#### 6.3.1 With open\n",
    "\n",
    "Metoda `with open` se o zavření souboru postará automaticky. Více třeba ve vláknu na [Stack Overflow](https://stackoverflow.com/questions/9282967/how-to-open-a-file-using-the-open-with-statement).\n",
    "\n",
    "### 6.4 Zápis do již existujícího souboru\n",
    "\n",
    "Pokud chceme do souboru i zapisovat, musíme změnit mód, ve kterém soubor otevřeme. V sekci 5.1 jsme použili mód `r` (ke čtení). Pro zápis si můžeme vybrat ze dvou módů:\n",
    "\n",
    "1. `a` = append = další text připojí na konec souboru\n",
    "2. `w` = write = přepíše existující obsah souboru"
   ]
  },
  {
   "cell_type": "code",
   "execution_count": 15,
   "id": "db3886be",
   "metadata": {},
   "outputs": [],
   "source": [
    "txt = open('uryvek.txt', 'a') #otevři soubor v módu append"
   ]
  },
  {
   "cell_type": "code",
   "execution_count": 16,
   "id": "baaecb0b",
   "metadata": {},
   "outputs": [
    {
     "data": {
      "text/plain": [
       "9"
      ]
     },
     "execution_count": 16,
     "metadata": {},
     "output_type": "execute_result"
    }
   ],
   "source": [
    "txt.write('Nový text') #zapiš do souboru txt řetězec Nový text"
   ]
  },
  {
   "cell_type": "code",
   "execution_count": 19,
   "id": "813faf6e",
   "metadata": {},
   "outputs": [
    {
     "data": {
      "text/plain": [
       "'Zprava:\\n\\n        V polovině ledna se v médiích objevila zpráva, že předsedkyně Poslanecké sněmovny Markéta Pekarová Adamová shání stážistu. „Stážistce či stážistovi nabízíme aktivní zapojení do práce v oblasti mezinárodních vztahů a diplomatických aktivit předsedkyně, seznámení se s chodem kanceláře předsedkyně a také s prostorami a fungováním Poslanecké sněmovny,“ stojí v inzerátu.\\nNový text'"
      ]
     },
     "execution_count": 19,
     "metadata": {},
     "output_type": "execute_result"
    }
   ],
   "source": [
    "txt.read() #přečti obsah proměnné txt"
   ]
  },
  {
   "cell_type": "markdown",
   "id": "9bfd7be8",
   "metadata": {},
   "source": [
    "### 6.5 Vytvoření nového souboru\n",
    "\n",
    "K vytvoření nového souboru neexistuje specifická funkce, použijeme metodu `open` s některým ze třech módů: `x`, `a`, `w`. \n",
    "\n",
    "S `a` a `w` jsme se setkali v předchozí sekci. Jejich použití od nového módu `x` = create se liší v chybových hláškách. Módy `a` a `w` vytvoří nový soubor pouze, pokud již neexistuje. Pokud soubor se stejným jménem existuje, nestane se nic, ale nedostanete ani chybovou hlášku. Oproti tomu mód `x` vytvoří nový soubor pouze pokud soubor se stejným jménem již neexistuje. Pokud takový soubor existuje, dostanete chybovou hlášku."
   ]
  },
  {
   "cell_type": "code",
   "execution_count": 34,
   "id": "69accece",
   "metadata": {},
   "outputs": [],
   "source": [
    "txt = open('uryvek2.txt', 'w') #vytvoř nový soubor pomocí módu write"
   ]
  },
  {
   "cell_type": "code",
   "execution_count": 35,
   "id": "4a0ebda8",
   "metadata": {},
   "outputs": [],
   "source": [
    "txt = open('uryvek2.txt', 'a') #vytvoř nový soubor pomocí módu append (soubor již existuje, nic se nestane a\n",
    "                               #a ani nedostaneme chybovou hlášku)"
   ]
  },
  {
   "cell_type": "code",
   "execution_count": 36,
   "id": "5ce4beda",
   "metadata": {},
   "outputs": [
    {
     "ename": "FileExistsError",
     "evalue": "[Errno 17] File exists: 'uryvek2.txt'",
     "output_type": "error",
     "traceback": [
      "\u001b[0;31m---------------------------------------------------------------------------\u001b[0m",
      "\u001b[0;31mFileExistsError\u001b[0m                           Traceback (most recent call last)",
      "\u001b[0;32m/tmp/ipykernel_14819/178794835.py\u001b[0m in \u001b[0;36m<module>\u001b[0;34m\u001b[0m\n\u001b[0;32m----> 1\u001b[0;31m \u001b[0mtxt\u001b[0m \u001b[0;34m=\u001b[0m \u001b[0mopen\u001b[0m\u001b[0;34m(\u001b[0m\u001b[0;34m'uryvek2.txt'\u001b[0m\u001b[0;34m,\u001b[0m \u001b[0;34m'x'\u001b[0m\u001b[0;34m)\u001b[0m\u001b[0;34m\u001b[0m\u001b[0;34m\u001b[0m\u001b[0m\n\u001b[0m",
      "\u001b[0;31mFileExistsError\u001b[0m: [Errno 17] File exists: 'uryvek2.txt'"
     ]
    }
   ],
   "source": [
    "txt = open('uryvek2.txt', 'x') #vytvoř nový soubor pomocí módu create (soubor již existuje, dostaneme chybovou\n",
    "                               #hlášku)"
   ]
  },
  {
   "cell_type": "markdown",
   "id": "adf40dbd",
   "metadata": {},
   "source": [
    "Přehled všech metod a módů práce se souboru naleznete např. na [Geeks for Geeks](https://www.geeksforgeeks.org/writing-to-file-in-python/).\n",
    "\n",
    "## 7 Regulární výrazy\n",
    "\n",
    "Regulární výrazy slouží jako vzor pro vyhledávání v textu. V Pythonu díky knihovně re a různým funkcím můžeme textové řetězce nejen vyhledávat, ale i modifikovat nebo je nahrazovat za jiné řetězce. V tokenizátoru využijeme hlavně vyhledávání, pokud budeme chtít nalézt např. interpunkci.\n",
    "\n",
    "K vyhledávání slouží v Pythonu funkce `search`. Tato funkce požaduje dva parametry, regulární výraz a text, ve kterém se má vyhledávat."
   ]
  },
  {
   "cell_type": "code",
   "execution_count": 20,
   "id": "4c2ed4a2",
   "metadata": {},
   "outputs": [],
   "source": [
    "sent = 'Jasno nebo skoro jasno.' #ulož tetxový řetězec do proměnné\n",
    "sent2 = 'Maximální teploty 10 až 14 °C. ' #ulož textový řetězec do proměnné"
   ]
  },
  {
   "cell_type": "code",
   "execution_count": 23,
   "id": "6d284f1c",
   "metadata": {},
   "outputs": [],
   "source": [
    "reg = re.search(r'\\d', sent) #vyhledej první číslici v textu sent"
   ]
  },
  {
   "cell_type": "code",
   "execution_count": 24,
   "id": "4cd71c3a",
   "metadata": {},
   "outputs": [
    {
     "name": "stdout",
     "output_type": "stream",
     "text": [
      "None\n"
     ]
    }
   ],
   "source": [
    "print(reg) #vypiš výsledek hledání"
   ]
  },
  {
   "cell_type": "code",
   "execution_count": 25,
   "id": "bed20e7a",
   "metadata": {},
   "outputs": [],
   "source": [
    "reg = re.search(r'\\d', sent2) #vyhledej první číslici v textu sent2"
   ]
  },
  {
   "cell_type": "code",
   "execution_count": 26,
   "id": "7c3db6b4",
   "metadata": {},
   "outputs": [
    {
     "name": "stdout",
     "output_type": "stream",
     "text": [
      "<re.Match object; span=(18, 19), match='1'>\n"
     ]
    }
   ],
   "source": [
    "print(reg) #vypiš výsledek hledání"
   ]
  },
  {
   "cell_type": "markdown",
   "id": "30454ea5",
   "metadata": {},
   "source": [
    "Pokud funkce `search` nenalezne text, který by korespondoval s regulárním výrazem, vrátí hodnotu `None`. Pokud naopak nalezne shodu, vrátí index prvního výskytu (`span`) a kolikrát se daný výraz v textu vyskytuje (`match`). V případě, že budeme chtít nalézt všechny textové řetězce, nejenom první, musíme použít funkci `findall`.\n",
    "\n",
    "Efektivnějším způsobem, jak pracovat s regulárními výrazy, je uložit si je do proměnné. A to zejména, pokud stejné výrazy používáme na různých místech v kódu. Výraz pak v řešení změníme pouze jednou. K tomu slouží funkce `compile`."
   ]
  },
  {
   "cell_type": "code",
   "execution_count": 27,
   "id": "599573fa",
   "metadata": {},
   "outputs": [],
   "source": [
    "pattern = re.compile(r'\\d') #zkompiluj regulární výraz pro vyhledání číslic"
   ]
  },
  {
   "cell_type": "code",
   "execution_count": 28,
   "id": "36ebca0d",
   "metadata": {},
   "outputs": [],
   "source": [
    "reg2 = re.findall(pattern, sent2) #vyhledej všechny číslice v texti sent2"
   ]
  },
  {
   "cell_type": "code",
   "execution_count": 29,
   "id": "57ef5a05",
   "metadata": {},
   "outputs": [
    {
     "name": "stdout",
     "output_type": "stream",
     "text": [
      "['1', '0', '1', '4']\n"
     ]
    }
   ],
   "source": [
    "print(reg2) #vypiš výsledek hledání"
   ]
  },
  {
   "cell_type": "markdown",
   "id": "dc3e5115",
   "metadata": {},
   "source": [
    "**Poznámka:** r ve výrazu `r'\\d'` slouží v Pythonu k upřesnění, že se nejedná o běžný řetězec, ale regulární výraz. V některých případech vám regulární výrazy budou fungovat i bez r, je ale lepší jej před výrazem použít.\n",
    "\n",
    "Další funkce naleznete v [dokumentaci ke knihovně re](https://docs.python.org/3/library/re.html), další informace a užitečné odkazy naleznete v sekci 3 tohoto notebooku.\n",
    "\n",
    "## 8 Tokenizátor s použitím regulárních výrazů\n",
    "\n",
    "V této sekci budete mít za úkol naprogramovat tokenizátor používající regulární výrazy pro vybrané problémy tokenizace. Než se pustíte do programování, připomeňte si práci s knihovnou re a regulárními výrazy (užitečné odkazy jsou k dispozici v sekci 3 tohoto notebooku).\n",
    "\n",
    "**Úkol:** Vytvořte program, který načte data ze souboru, tokenizuje text a výsledek vrátí ve vámi zvolené formě (uložení do souboru, datový typ vhodný k dalšímu zpracování, ...).\n",
    "\n",
    "Pracujte buď s ukázkovým textem, nebo si najděte vlastní. Vyberte ale vhodný text, který obsahuje alespoň přímou řeč, závorky, čísla s desetinnou čárkou/tečkou, zkratky, případně další \"problémy\", které si vyberete. Text můžete slepit i z vícero zdrojů.\n",
    "\n",
    "Použijte regulární výrazy k nalezení těchto \"problémů\" a rozhodněte se, jak je budete řešit (např. budou závorky a uvozovky samostatné tokeny?). Váš přístup musí být konstatní pro celý text.\n",
    "\n",
    "Program vhodně rozdělte na funkce."
   ]
  },
  {
   "cell_type": "markdown",
   "id": "a61c3843",
   "metadata": {},
   "source": [
    "<details> \n",
    "    <summary>Pokud nevíte, jak začít, klikněte na tento text pro <b>zobrazení nápovědy</b>.</summary>\n",
    "    <p><b>Nápověda:</b></p>\n",
    "    <p>Vytvořte funkci, která otevře soubor a uloží obsah souboru (text) do proměnné.</p>\n",
    "    <p>Rozdělte text pomocí mezer a metody split na jednotlivé tokeny.</p>\n",
    "    <p>Použijte regulární výrazy k nalezení interpunkce, závorek, uvozovek apod. v tokenech.</p>\n",
    "    <p>K oddělení např. interpunkce od slov můžete použít řezy. Více informací o řezech naleznete třeba na <a name=\"https://stackoverflow.com/questions/509211/understanding-slice-notation\">Stack Overflow</a>.</p>\n",
    "    <p>Rozhodněte se, jestli necháte výsledný tokenizovaný text uložený v proměnné, nebo jej uložíte do souboru.</p>\n",
    "</details>"
   ]
  },
  {
   "cell_type": "code",
   "execution_count": null,
   "id": "abdac10a",
   "metadata": {},
   "outputs": [],
   "source": []
  },
  {
   "cell_type": "code",
   "execution_count": null,
   "id": "7991904d",
   "metadata": {},
   "outputs": [],
   "source": []
  },
  {
   "cell_type": "code",
   "execution_count": null,
   "id": "bf6908f1",
   "metadata": {},
   "outputs": [],
   "source": []
  },
  {
   "cell_type": "code",
   "execution_count": null,
   "id": "cd8023e2",
   "metadata": {},
   "outputs": [],
   "source": []
  },
  {
   "cell_type": "code",
   "execution_count": null,
   "id": "c5144798",
   "metadata": {},
   "outputs": [],
   "source": []
  },
  {
   "cell_type": "code",
   "execution_count": null,
   "id": "c3565020",
   "metadata": {},
   "outputs": [],
   "source": []
  },
  {
   "cell_type": "code",
   "execution_count": null,
   "id": "014d33c0",
   "metadata": {},
   "outputs": [],
   "source": []
  },
  {
   "cell_type": "code",
   "execution_count": null,
   "id": "6c30e4d5",
   "metadata": {},
   "outputs": [],
   "source": []
  },
  {
   "cell_type": "code",
   "execution_count": null,
   "id": "7eda69c4",
   "metadata": {},
   "outputs": [],
   "source": []
  },
  {
   "cell_type": "code",
   "execution_count": null,
   "id": "e2ae077d",
   "metadata": {},
   "outputs": [],
   "source": []
  },
  {
   "cell_type": "code",
   "execution_count": null,
   "id": "b0e5187e",
   "metadata": {},
   "outputs": [],
   "source": []
  },
  {
   "cell_type": "code",
   "execution_count": null,
   "id": "f8f52ab5",
   "metadata": {},
   "outputs": [],
   "source": []
  },
  {
   "cell_type": "code",
   "execution_count": null,
   "id": "0f11104d",
   "metadata": {},
   "outputs": [],
   "source": []
  },
  {
   "cell_type": "code",
   "execution_count": null,
   "id": "5a810114",
   "metadata": {},
   "outputs": [],
   "source": []
  },
  {
   "cell_type": "code",
   "execution_count": null,
   "id": "c8ab3ec4",
   "metadata": {},
   "outputs": [],
   "source": []
  }
 ],
 "metadata": {
  "kernelspec": {
   "display_name": "Python 3 (ipykernel)",
   "language": "python",
   "name": "python3"
  },
  "language_info": {
   "codemirror_mode": {
    "name": "ipython",
    "version": 3
   },
   "file_extension": ".py",
   "mimetype": "text/x-python",
   "name": "python",
   "nbconvert_exporter": "python",
   "pygments_lexer": "ipython3",
   "version": "3.9.7"
  }
 },
 "nbformat": 4,
 "nbformat_minor": 5
}
