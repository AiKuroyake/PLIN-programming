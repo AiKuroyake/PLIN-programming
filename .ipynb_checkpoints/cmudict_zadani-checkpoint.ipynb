{
 "cells": [
  {
   "cell_type": "markdown",
   "id": "d16dca92",
   "metadata": {},
   "source": [
    "# CMU Pronouncing Dictionary\n",
    "\n",
    "Tento notebook se zaměřuje na práci s grafickým rozhraním Jupyter Notebook, které je vhodné pro postupné spouštění kódu. Vysvětluje, jak importovat knihovny a moduly do Pythonu a jak s nimi pracovat. Nejdůležitější knihovnou pro tento notebook je NLTK (Natural Language Toolkit). Součástí této knihovny je slovník CMU Pronouncing Dictionary, který je potřebný pro vyřešení úkolů v tomto notebooku. Lze pomocí něj vypsat výslovnost anglické věty, vyhledat slova, která se dají vyslovit různými způsoby nebo prozkoumat slova, jejichž výslovnostní varianty se liší v počtu slabik.\n",
    "\n",
    "**Poznámka:** Kvůli možné záměně slovníku jako seřazeného seznamu slovní zásoby a slovníku jako datového typu v Pythonu se v tomto notebooku pro datové typy používají anglické názvy (tj. dictionary pro slovník, list pro seznam, tuple pro n-tici apod.).\n",
    "\n",
    "## 1 S čím budete pracovat\n",
    "\n",
    "### 1.1 Jupyter Notebook\n",
    "\n",
    "Jupyter Notebook je aplikace umožňující spouštět tzv. notebooky, dokumenty obsahující jak spustitelný kód, tak textové prvky jako například odstavce, odkazy, obrázky, grafy, rovnice. Největší výhodou těchto notebooků je právě možnost kombinovat kód a prostý text, což dovoluje přímo komentovat jednotlivé kroky programu bez nutnosti tyto komentáře ukládat do samostatného souboru.\n",
    "\n",
    "Více informací na [Project Jupyter](https://jupyter.org/) a [Jupyter Notebook dokumentaci](https://jupyter-notebook.readthedocs.io/en/stable/).\n",
    "\n",
    "### 1.2 Knihovny\n",
    "\n",
    "Knihovny (nejen pro programovací jazyk Python) poskytují znovupoužitelný kód, nejčastěji ve formě funkcí. Programátor pak není nucen zdlouhavě vymýšlet vlastní řešení pro běžné či opakující se problémy a pouze zakomponuje do svého programu část z nějaké knihovny. Další výhodou knihoven je jejich optimalizace. Kódy jsou napsané tak, aby fungovaly rychle a nezabíraly příliš výpočetní paměti. Proto v mnoha případech ani není na místě snažit se o napsaní vlastního řešení, pokud známe vhodnou knihovnu pro daný problém.\n",
    "\n",
    "Knihovny jsou zaměřené na různé oblasti, např. datovou vědu, strojové učení, vizualizaci dat, herní design, …\n",
    "\n",
    "#### 1.2.1 NLTK\n",
    "\n",
    "NLTK je knihovna pro programovací jazyk Python. Pomocí NLTK lze zpracovávat přirozený jazyk. Kromě užitečných funkcí na tokenizaci, tagování, parsování, stemování apod. NLTK obsahuje velké množství korpusů a lexikálních zdrojů (např. WordNety). Nevýhodou NLTK je její zaměření na angličtinu.\n",
    "\n",
    "Více informací na [NLTK dokumentaci](https://www.nltk.org/index.html), [NLTK Wiki](https://github.com/nltk/nltk/wiki) a [NLTK Book](https://www.nltk.org/book/).\n",
    "\n",
    "#### 1.2.2 CMU Pronouning Dictionary\n",
    "\n",
    "Carnegie Mellon University Pronouncing Dictionary (zkráceně CMU Dict) je slovník, který obsahuje přepis výslovnosti anglických slov. Zaměřuje se na výslovnost angličtiny Severní Ameriky. CMU Dict obsahuje kolem 134 000 slov, ke každému slovu je přiřazen alespoň jeden výslovnostní přepis. Na rozdíl od běžných fonetických přepisů, např. pomocí IPA (International Phonetic Alphabet), CMU Dict používá ARPAbet, fonetickou transkripci vhodnou pro zpracování na počítači. Tato abeceda totiž obsahuje pouze znaky ASCII. \n",
    "\n",
    "CMU Dict je zabudován do knihovny NLTK.\n",
    "\n",
    "Více informací na [CMU Dictionary](http://www.speech.cs.cmu.edu/cgi-bin/cmudict) a [ARPAbet](https://en.wikipedia.org/wiki/ARPABET).\n",
    "\n",
    "## 2 Instalace\n",
    "\n",
    "Tato část popisuje, jak nainstalovat potřebné knihovny, moduly a další potřebné zdroje.\n",
    "\n",
    "### 2.1 Jupyter Notebook\n",
    "\n",
    "#### 2.1.1 Unix\n",
    "\n",
    "Jupyter Notebook nainstalujete pomocí příkazu `pip3 install --user -U notebook`, případně přes software Anaconda. Přesný návod a doplňující informace naleznete [zde](https://www.geeksforgeeks.org/how-to-install-jupyter-notebook-in-linux/).\n",
    "\n",
    "#### 2.1.2 Windows\n",
    "\n",
    "Na Windows nainstalujete Jupyter Notebook opět pomocí správně balíčků PIP nebo přes software Anaconda. Přesný návod naleznete např. [zde](https://www.geeksforgeeks.org/how-to-install-jupyter-notebook-in-windows/). \n",
    "\n",
    "#### 2.1.3 MacOS\n",
    "\n",
    "Na zařízeních s MacOS bude opět fungovat PIP, případně lze nainstalovat Jupyter Notebook přímo ze zdrojového balíčku. Návod naleznete [zde](https://www.geeksforgeeks.org/how-to-install-jupyter-notebook-on-macos/). \n",
    "\n",
    "#### 2.1.4 Google Colab\n",
    "\n",
    "Notebook také můžete otevřít přes [Google Colaboratory](https://colab.research.google.com/)(zkráceně Google Colab nebo Colab). Výhoda tohoto způsobu spočívá v tom, že na svůj počítač nemusíte instalovat určité knihovny či software. Některé jsou v Google Colab již obsaženy. Toto ovšem neplatí pro knihovnu NLTK a její obsah, který si i přesto musíte stáhnout. Jak importovat knihovny do Google Colab se dozvíte [zde](https://colab.research.google.com/notebooks/snippets/importing_libraries.ipynb).\n",
    "\n",
    "\n",
    "### 2.2 NLTK\n",
    "\n",
    "1. Před instalací zkontrolujte, že máte verzi Python 3.6 a vyšší. \n",
    "2. Spusťte následující buňku, NLTK se nainstaluje."
   ]
  },
  {
   "cell_type": "code",
   "execution_count": null,
   "id": "4aa8ce18",
   "metadata": {},
   "outputs": [],
   "source": [
    "!pip3 install nltk"
   ]
  },
  {
   "cell_type": "markdown",
   "id": "dc1e015f",
   "metadata": {},
   "source": [
    "### 2.3 CMU Dict\n",
    "\n",
    "1. Zkontrolujte, že máte nainstalovanou knihovnu NLTK.\n",
    "2. Spusťte následující buňku, CMU Dict se nainstaluje."
   ]
  },
  {
   "cell_type": "code",
   "execution_count": null,
   "id": "de7a1f85",
   "metadata": {},
   "outputs": [],
   "source": [
    "nltk.download('cmudict')"
   ]
  },
  {
   "cell_type": "markdown",
   "id": "f282f50c",
   "metadata": {},
   "source": [
    "### 2.4 Punkt\n",
    "\n",
    "Kvůli tokenizaci textu je nutné stáhnout tokenizátor Punkt. \n",
    "\n",
    "1. Zkontrolujte, že máte nainstalovanou knihovnu NLTK.\n",
    "2. Spusťte následující buňku, Punkt se nainstaluje."
   ]
  },
  {
   "cell_type": "code",
   "execution_count": null,
   "id": "46eec8b5",
   "metadata": {},
   "outputs": [],
   "source": [
    "nltk.download('punkt')"
   ]
  },
  {
   "cell_type": "markdown",
   "id": "0abc6be1",
   "metadata": {},
   "source": [
    "## 3 Import knihoven a modulů\n",
    "\n",
    "Než bude možné začít s psaním programu, je nutné importovat všechny knihovny a moduly, které budeme potřebovat. Patří mezi ně:\n",
    "\n",
    "- nltk\n",
    "- re\n",
    "- string\n",
    "- word_tokenize\n",
    "- defaultdict\n",
    "\n",
    "Spusťte následující buňku. Knihovny a moduly se importují.\n",
    "\n",
    "**Poznámka:** Po každém otevření notebooku je nutné všechen kód (tj. i importování) spustit znovu."
   ]
  },
  {
   "cell_type": "code",
   "execution_count": null,
   "id": "cd6c0963",
   "metadata": {},
   "outputs": [],
   "source": [
    "import nltk, re, string #importuj knihovnu NLTK, modul re, modul string\n",
    "from nltk.tokenize import word_tokenize #importuj tokenizátor z knihovny NLTK\n",
    "from collections import defaultdict #importuj defaultdict"
   ]
  },
  {
   "cell_type": "markdown",
   "id": "1e6432f3",
   "metadata": {},
   "source": [
    "## 4 Struktura slovníku CMU Dict\n",
    "\n",
    "Než začnete pořádně programovat, měli byste vědět, jak je slovník, se kterým budete pracovat, strukturovaný. Nejprve si uložte celý slovník CMU dict do proměnné `entries`. Ke slovníku poté přistupujte přes tuto proměnnou. Pomocí příkazu `print` se pak budete moct podívat, jak jednotlivé položky ve slovníku vypadají.\n",
    "\n",
    "Následující buňku pouze spusťte."
   ]
  },
  {
   "cell_type": "code",
   "execution_count": null,
   "id": "a90ac498",
   "metadata": {},
   "outputs": [],
   "source": [
    "entries = nltk.corpus.cmudict.entries() #ulož CMU dict do proměnné entries"
   ]
  },
  {
   "cell_type": "markdown",
   "id": "a14dc062",
   "metadata": {},
   "source": [
    "**Úkol 1:** Pomocí příkazu `print` vypište celý slovník."
   ]
  },
  {
   "cell_type": "code",
   "execution_count": null,
   "id": "6f614c80",
   "metadata": {},
   "outputs": [],
   "source": [
    "\"\"\" Sem pište kód \"\"\"\n"
   ]
  },
  {
   "cell_type": "markdown",
   "id": "d2656d11",
   "metadata": {},
   "source": [
    "Kvůli velikosti se sice slovník nevypíše celý, ale díky předchozímu příkazu je možné vypozorovat alespoň 4 zásadní věci, které vám ulehčí programování:\n",
    "\n",
    "1. Slovník je uložen v datovém typu list,\n",
    "2. jednotlivá slova jsou uložena v datovém typu tuple,\n",
    "3. výslovnost jednotlivých slov je uložena v datovém typu list,\n",
    "4. slovník je seřazen podle abecedy.\n",
    "\n",
    "Jelikož datovým typem slovníku je list, k jednotlivým slovům můžete přistupovat i přes indexy. Následující tři úkoly se týkají indexace.\n",
    "\n",
    "**Úkol 2:** Vypište, kolik položek má slovník celkem."
   ]
  },
  {
   "cell_type": "code",
   "execution_count": null,
   "id": "146676be",
   "metadata": {},
   "outputs": [],
   "source": [
    "\"\"\" Sem pište kód \"\"\"\n"
   ]
  },
  {
   "cell_type": "markdown",
   "id": "95691f76",
   "metadata": {},
   "source": [
    "**Úkol 3:** Vyberte si číslo z intervalu 0 až celkový počet položek a vypište slovo, které se ve slovníku nachází pod tímto indexem."
   ]
  },
  {
   "cell_type": "code",
   "execution_count": null,
   "id": "dbc00f4b",
   "metadata": {},
   "outputs": [],
   "source": [
    "\"\"\" Sem pište kód \"\"\"\n"
   ]
  },
  {
   "cell_type": "markdown",
   "id": "f2fd2166",
   "metadata": {},
   "source": [
    "**Úkol 4:** Vypište slovo, které se nachází pod indexem 33330."
   ]
  },
  {
   "cell_type": "code",
   "execution_count": null,
   "id": "856445e3",
   "metadata": {},
   "outputs": [],
   "source": [
    "\"\"\" Sem pište kód \"\"\"\n"
   ]
  },
  {
   "cell_type": "markdown",
   "id": "b45c9291",
   "metadata": {},
   "source": [
    "Po vypsání slov ve třetím a čtvrtém úkolu si všimněte, že:\n",
    "\n",
    "- Pár slovo-výslovnost je uložený v datovém typu tuple,\n",
    "- slovo je vždy psáno s malými písmeny,\n",
    "- výslovnost slova je uložena v datovém typu list,\n",
    "- každý prvek v listu odpovídá jednomu fonému,\n",
    "- čísla u fonémů značí přízvuk.\n",
    "\n",
    "## 5 Výslovnost anglické věty\n",
    "\n",
    "Nyní víte, jak jednotlivé položky v CMU Dict vypadají, můžete tedy začít programovat. V této sekci napíšete jednoduchý program, který vyzve uživatele, aby zadal anglickou větu, a poté vypíše výslovnost všech slov této věty. \n",
    "\n",
    "**Úkol 5:** Vyzvěte uživatele, aby zadal anglickou větu. Tuto větu uložte do proměnné `sent`. Po spuštění kódu vás notebook požádá o anglickou větu. Vyberte si libovolnou větu v angličtině, mějte ale na paměti, že ve slovníku je pouze 134 000 slov, volte proto slova běžné slovní zásoby.\n",
    "\n",
    "Řešení pracuje s větou \"I will meet you tomorrow.\"."
   ]
  },
  {
   "cell_type": "code",
   "execution_count": null,
   "id": "0f5c23b1",
   "metadata": {},
   "outputs": [],
   "source": [
    "\"\"\" Sem pište kód \"\"\"\n"
   ]
  },
  {
   "cell_type": "markdown",
   "id": "880a77c3",
   "metadata": {},
   "source": [
    "Se zadanou větou takto nemůžete pracovat. Slovník obsahuje jednotlivá slova, ne celé věty, proto budete muset větu tokenizovat. Než se ale pustíte do tokenizace, musíte provést tzv. normalizaci, tj. předpřipravení věty do podoby, ve které jsou uložena slova v CMU Dict. V tomto případě to znamená všechna velká písmena převést na malá a větu očistit od interpunkce.\n",
    "\n",
    "Pro normalizaci vytvořte funkci `normalize`, která bude požadovat parametr `sent` (větu z úkolu 5). Vracet bude tokenizovanou větu.\n",
    "\n",
    "**Úkol 6:**\n",
    "\n",
    "1. Vytvořte funkci `normalize`, která požaduje parametr `sent`,\n",
    "2. zbavte se všech velkých písmen,\n",
    "3. odstraňte interpunkci (řešení používá knihovnu `re`, ale můžete přijít i na jiný způsob bez regulárních výrazů),\n",
    "4. vraťte normalizovanou větu."
   ]
  },
  {
   "cell_type": "code",
   "execution_count": null,
   "id": "ca3467bc",
   "metadata": {},
   "outputs": [],
   "source": [
    "\"\"\" Sem pište kód \"\"\"\n"
   ]
  },
  {
   "cell_type": "markdown",
   "id": "1fb5412d",
   "metadata": {},
   "source": [
    "**Úkol 7:** \n",
    "\n",
    "1. Normalizujte větu `sent` a uložte ji do nové proměnné `sent_norm`,\n",
    "2. vypište normalizovanou větu,\n",
    "3. zkontrolujte výstup, vypsat by se měl string s malými písmeny bez interpunkce."
   ]
  },
  {
   "cell_type": "code",
   "execution_count": null,
   "id": "45c98b7b",
   "metadata": {},
   "outputs": [],
   "source": [
    "\"\"\" Sem pište kód \"\"\"\n"
   ]
  },
  {
   "cell_type": "markdown",
   "id": "553d5a2f",
   "metadata": {},
   "source": [
    "**Úkol 8:**\n",
    "\n",
    "1. Pomocí tokenizátoru `word_tokenize`, který se importoval na začátku notebooku z knihovny `NLTK`, tokenizujte normalizovanou větu `sent_norm` a uložte ji do nové proměnné `sent_tok`,\n",
    "2. vypište tokenizovanou větu,\n",
    "3. zkontrolujte výstup, vypsat by se měl list s jednotlivými slovy jako prvky listu."
   ]
  },
  {
   "cell_type": "code",
   "execution_count": null,
   "id": "694ce0e7",
   "metadata": {},
   "outputs": [],
   "source": [
    "\"\"\" Sem pište kód \"\"\"\n"
   ]
  },
  {
   "cell_type": "markdown",
   "id": "56f072fd",
   "metadata": {},
   "source": [
    "Nyní je věta připravená a můžete pro každé slovo najít výslovnost v CMU Dict. \n",
    "\n",
    "**Úkol 9:**\n",
    "\n",
    "1. Vytvořte funkci `pronunciation`, která požaduje parametr `sent_tok`,\n",
    "2. připravte prázdnou proměnnou `pron`, kam později uložíte všechny způsoby výslovnosti všech slov v proměnné `sent_tok` (o vhodném datovém typu rozhodněte),\n",
    "3. iterujte přes všechna slova ve slovníku CMU Dict, pokud se slovo nachází i v listu `sent_tok`, uložte jeho výslovnost do předpřipravené proměnné `pron` (dopředu přemýšlejte o tom, jak později vypíšete výslovnost jednotlivých slov, vhodně rozhodněte, jakým způsobem jednotlivé fonémy uložíte),\n",
    "4. vraťte proměnnou `pron`, která obsahuje výslovnost jednotlivých slov.\n",
    "\n",
    "V řešení úkolů 9 a 10 je výslovnost rovnou uložena s mezerami mezi fonémy a s oddělením slov  pomocí oddělovače | (úkol 11). Pro výpis slov řešení používá metodu join."
   ]
  },
  {
   "cell_type": "code",
   "execution_count": null,
   "id": "19dfa5e9",
   "metadata": {},
   "outputs": [],
   "source": [
    "\"\"\" Sem pište kód \"\"\"\n"
   ]
  },
  {
   "cell_type": "markdown",
   "id": "c85c5797",
   "metadata": {},
   "source": [
    "**Úkol 10:**\n",
    "\n",
    "1. Uložte výslovnost všech slov do proměnné `sent_pron` pomocí funkce `pronunciation`,\n",
    "2. vypište výslovnost všech slov.\n",
    "\n",
    "Řešení používá metodu join pro výpis slov."
   ]
  },
  {
   "cell_type": "code",
   "execution_count": null,
   "id": "cd660546",
   "metadata": {},
   "outputs": [],
   "source": [
    "\"\"\" Sem pište kód \"\"\"\n"
   ]
  },
  {
   "cell_type": "markdown",
   "id": "33554955",
   "metadata": {},
   "source": [
    "**Úkol 11 (navíc):** V ARPAbet zápisu se fonémy oddělují mezerou. Zkuste modifikovat funkci `pronunciation` tak, aby jednotlivé fonémy byly odděleny mezerou. Pro oddělení slov vyberte jiný oddělovač. Řešení používá pro oddělení | (svislítko).\n",
    "\n",
    "V závislosti na tom, jakou větu jste zvolili, jste buď našli nebo nenašli slova, která lze vyslovit vícero způsoby. V řešení si ve větě  „I will meet you tomorrow.“ můžete všimnout, že nesedí počet slov ve výslovnostním přepisu. Program nám našel dvě slova (tomorrow a will), která se dají vyslovit více než jedním způsobem.\n",
    "\n",
    "Další sada úkolů se zaobírá právě tímto problémem.\n",
    "\n",
    "## 6 Slova, která lze vyslovit vícero způsoby\n",
    "\n",
    "Na konci předchozí sekce jste narazili na slova, která se dají vyslovit dvěma různými způsoby. V následujících úkolech si vyzkoušíte, jak vyhledat pouze tato specifická slova a vypsat je se všemi výslovnostními variantami.\n",
    "\n",
    "Procvičíte si programování s datovým typem dictionary, jelikož je to jeden z přehlednějších způsobů řešení tohoto problému. Práci si můžete usnadnit pomocí modulu `defaultdict`, který je v řešení porovnán s běžným dictionary.\n",
    "\n",
    "**Úkol 12:** Stejně jako v úkolu 5 požádejte uživatele o zadání anglické věty. Vstup uložte do proměnné `sent2`. Můžete použít stejnou větu jako v předchozí sekci nebo si vybrat jinou."
   ]
  },
  {
   "cell_type": "code",
   "execution_count": null,
   "id": "24e92093",
   "metadata": {},
   "outputs": [],
   "source": [
    "\"\"\" Sem pište kód \"\"\"\n"
   ]
  },
  {
   "cell_type": "markdown",
   "id": "1852bdd5",
   "metadata": {},
   "source": [
    "**Úkol 13:** Normalizujte větu v `sent2`, uložte ji do proměnné `sent2`."
   ]
  },
  {
   "cell_type": "code",
   "execution_count": null,
   "id": "1b42c4d1",
   "metadata": {},
   "outputs": [],
   "source": [
    "\"\"\" Sem pište kód \"\"\"\n"
   ]
  },
  {
   "cell_type": "markdown",
   "id": "2f67df52",
   "metadata": {},
   "source": [
    "**Úkol 14:** Tokenizujte normalizovanou větu `sent2`, uložte ji do proměnné `sent2`."
   ]
  },
  {
   "cell_type": "code",
   "execution_count": null,
   "id": "b0640375",
   "metadata": {},
   "outputs": [],
   "source": [
    "\"\"\" Sem pište kód \"\"\"\n"
   ]
  },
  {
   "cell_type": "markdown",
   "id": "3708ce7d",
   "metadata": {},
   "source": [
    "V závislosti na výběru věty se může stát, že se nějaká slova budou ve větě opakovat. V tomto úkolu naším cílem není vypsat výslovnost celé věty, ale pouze slova, která se vyslovují více než jedním způsobem. Proto si můžete ulehčit práci a zbavit se duplicitních slov ve větě.\n",
    "\n",
    "**Úkol 15:** Zbavte se opakujících se slov ve větě `sent2`, výsledek uložte do proměnné `sent2`."
   ]
  },
  {
   "cell_type": "code",
   "execution_count": null,
   "id": "43194cd8",
   "metadata": {},
   "outputs": [],
   "source": [
    "\"\"\" Sem pište kód \"\"\"\n"
   ]
  },
  {
   "cell_type": "markdown",
   "id": "dfd121aa",
   "metadata": {},
   "source": [
    "Nyní si připravíte funkci, která bude iterovat přes CMU Dict a hledat slova vyskytující se v uložené větě. Jelikož budete mít pro některá slova více než jednu možnou výslovnost, výsledky je vhodné uložit do datového typu dictionary. Jako klíče použijte slova, jejichž hodnotami budou všechny výslovnostní varianty.\n",
    "\n",
    "Pro tuto funkci je možné využít jak standardní dictionary, tak instanci defaultdict, která ulehčuje přidávání klíčů do dictionary. V řešení lze vidět jak variantu s běžným dictionary, tak variantu s modulem defaultdict.\n",
    "\n",
    "**Úkol 16:** \n",
    "\n",
    "1. Vytvořte funkci `pron_dict`, která vyžaduje parametr `sent2`,\n",
    "2. připravte prázdnou proměnnou datového typu dictionary, kam uložíte výslovnosti slov (případně použijte defaultdict),\n",
    "3. všechna slova ve větě `sent2` vyhledejte ve CMU Dict,\n",
    "4. nalezená slova uložte do dictionary jako klíče, nalezené výslovnostní varianty uložte do dictionary jako hodnoty (o vhodných datových typech pro klíče a hodnoty rozhodněte),\n",
    "5. vraťte celý dictionary,\n",
    "6. dictionary obsahující výslovnosti slov uložte do proměnné `sent_pron` a výsledek vypište.\n",
    "\n",
    "**Poznámka:** V tuto chvíli se nezaobírejte, kolika způsoby je možné dané slovo vyslovit, do dictionary uložte i ta slova, která mají pouze jednu možnou výslovnost."
   ]
  },
  {
   "cell_type": "code",
   "execution_count": null,
   "id": "4e4dd4ee",
   "metadata": {},
   "outputs": [],
   "source": [
    "\"\"\" Sem pište kód \"\"\"\n"
   ]
  },
  {
   "cell_type": "markdown",
   "id": "dadd36e0",
   "metadata": {},
   "source": [
    "**Úkol 17:** Zjistěte, kolika způsoby se dá každé slovo v dictionary vyslovit. Na výstup vypište jak slovo, tak počet jeho výslovnostních variant."
   ]
  },
  {
   "cell_type": "code",
   "execution_count": null,
   "id": "23fcb44a",
   "metadata": {},
   "outputs": [],
   "source": [
    "\"\"\" Sem pište kód \"\"\"\n"
   ]
  },
  {
   "cell_type": "markdown",
   "id": "6866efa8",
   "metadata": {},
   "source": [
    "V závislosti na výběru vaší anglické věty narazíte na různý počet výslovnostních variant u různých slov.\n",
    "\n",
    "**Úkol 18:** \n",
    "\n",
    "1. Napište funkci `more_pron_dict` s parametrem `sent_pron`,\n",
    "2. vytvořte nový dictionary, do kterého uložíte pouze ta slova, která mají dvě a více výslovnostních variant,\n",
    "3. ponechte slova jako klíče a výslovnostní varianty jako hodnoty,\n",
    "4. vraťte dictionary."
   ]
  },
  {
   "cell_type": "code",
   "execution_count": null,
   "id": "81e017fb",
   "metadata": {},
   "outputs": [],
   "source": [
    "\"\"\" Sem pište kód \"\"\"\n"
   ]
  },
  {
   "cell_type": "markdown",
   "id": "b5a3e042",
   "metadata": {},
   "source": [
    "**Úkol 19:** Nový dictionary uložte do proměnné `diff_pron` a vypište."
   ]
  },
  {
   "cell_type": "code",
   "execution_count": null,
   "id": "22671efc",
   "metadata": {
    "scrolled": true
   },
   "outputs": [],
   "source": [
    "\"\"\" Sem pište kód \"\"\"\n"
   ]
  },
  {
   "cell_type": "markdown",
   "id": "f7b009d6",
   "metadata": {},
   "source": [
    "Výpis takto můžete nechat, došli jste ke správnému řešení. Je ale těžké se ve výsledcích vyznat, proto upravte výstup, aby byl přehlednější.\n",
    "\n",
    "**Úkol 20:** Vytvořte funkci `pron_no_list` s parametrem `diff_pron`, ve které se zbavíte vnořených listů u výslovnostních variant. Spojte prvky (fonémy) vnořeného listu (slov) do stringu. Např. slovo „are“ tedy nebude vypadat jako `'are': [['AA1', 'R'], ['ER0']]`, ale jako `'are': ['AA1 R', 'ER0']`. Na výstupu zachovejte datový typ dictionary."
   ]
  },
  {
   "cell_type": "code",
   "execution_count": null,
   "id": "76eb2bf6",
   "metadata": {},
   "outputs": [],
   "source": [
    "\"\"\" Sem pište kód \"\"\"\n"
   ]
  },
  {
   "cell_type": "markdown",
   "id": "28283224",
   "metadata": {},
   "source": [
    "**Úkol 21:** Nový dictionary uložte do proměnné `diff_pron_no_lst` a vypište."
   ]
  },
  {
   "cell_type": "code",
   "execution_count": null,
   "id": "aadab43b",
   "metadata": {},
   "outputs": [],
   "source": [
    "\"\"\" Sem pište kód \"\"\"\n"
   ]
  },
  {
   "cell_type": "markdown",
   "id": "dba9ecec",
   "metadata": {},
   "source": [
    "V tuto chvíli dictionary výsledek vypadá mnohem lépe, k ideálnímu výstupu zbývá pouze jeden krok. Slova vypište ve formátu `slovo: výslovnost1 | výslovnost2 | výslovnost3`. K tomu stačí jeden for cyklus, [metoda join](https://www.geeksforgeeks.org/python-string-join-method/) a tzv. [list comprehension](https://www.geeksforgeeks.org/python-list-comprehension/).\n",
    "\n",
    "K tomuto kroku nemusíte vymýšlet kód, následující buňku pouze spusťte a podívejte se na výsledek."
   ]
  },
  {
   "cell_type": "code",
   "execution_count": null,
   "id": "f86819db",
   "metadata": {},
   "outputs": [],
   "source": [
    "for key, val in diff_pron_no_lst.items():\n",
    "    print(key + ': ' + ' | '.join(w for w in val))"
   ]
  },
  {
   "cell_type": "markdown",
   "id": "c396110d",
   "metadata": {},
   "source": [
    "## 7 Slabiky\n",
    "\n",
    "Z pozorování u úkolu 4 víte, že čísla u jednotlivých fonémů značí přízvuk. Díky těmto číslům je ale možné odvodit i počet slabik. V následující sadě úkolů napíšete funkci vypisující počet slabik a poté ve slovníku vyhledáte lexikální jednotky, které mají výslovnostní varianty lišící se v počtu slabik.\n",
    "\n",
    "**Úkol 22:**\n",
    "\n",
    "1. Požádejte uživatele o zadání anglické věty. Vstup uložte do proměnné `sent3`,\n",
    "2. normalizujte větu,\n",
    "3. tokenizujte větu,\n",
    "4. vytvořte dictionary s výslovnostními variantami, použijte funkci `pron_dict` nebo `pron_defdict` z řešení, dictionary dále nijak neupravujte.\n",
    "\n",
    "**Poznámka:** Řešení používá funkci `pron_defdict`."
   ]
  },
  {
   "cell_type": "code",
   "execution_count": null,
   "id": "ce649598",
   "metadata": {},
   "outputs": [],
   "source": [
    "\"\"\" Sem pište kód \"\"\"\n"
   ]
  },
  {
   "cell_type": "markdown",
   "id": "fc4dfff3",
   "metadata": {},
   "source": [
    "Věta je předpřipravená, můžete tedy napsat funkci `find_syllab`, která vyhledá počet slabik. Výsledky uloží do nového dictionary, kde klíč bude hledané slovo a hodnota bude list obsahující počet slabik ke každé výslovnostní variantě.\n",
    "\n",
    "**Úkol 23:** \n",
    "\n",
    "1. Vytvořte funkci `find_syllab` s parametrem `sent3`,\n",
    "2. vytvořte nový dictionary `syllab` (použijte buď klasický dictionary nebo defaultdict),\n",
    "3. projděte všechny key-value páry v dictionary `sent3`,\n",
    "4. u každé výslovnostní varianty zjistěte, kolik má slabik,\n",
    "5. výsledek uložte do dictionary `syllab`, kde klíč bude slovo a hodnoty budou počet slabik, např. pro slovo „record“ by tedy záznam v dictionary vypadal následovně: `'record': [2, 2, 2]`,\n",
    "6. vraťte dictionary `syllab`."
   ]
  },
  {
   "cell_type": "code",
   "execution_count": null,
   "id": "6406dad9",
   "metadata": {},
   "outputs": [],
   "source": [
    "\"\"\" Sem pište kód \"\"\"\n"
   ]
  },
  {
   "cell_type": "markdown",
   "id": "3e665760",
   "metadata": {},
   "source": [
    "**Úkol 24:** Nový dictionary uložte do proměnné `syllabs` a vypište."
   ]
  },
  {
   "cell_type": "code",
   "execution_count": null,
   "id": "9e65c9af",
   "metadata": {},
   "outputs": [],
   "source": [
    "\"\"\" Sem pište kód \"\"\"\n"
   ]
  },
  {
   "cell_type": "markdown",
   "id": "d32117d9",
   "metadata": {},
   "source": [
    "V závislosti na vámi zvolené anglické větě můžete vidět počet slabik pro dané slovo, případně počet slabik pro každou výslovnostní variantu. S největší pravděpodobností tato čísla budou stejná, znamená to tedy, že dané slovo má pokaždé stejný počet slabik. Mohli byste se ale ptát, zda existují i slova, u kterých se kromě výslovnosti liší i počet slabik u jejich výslovnostních variant. V následující funkci bude vaším cílem zjistit, jestli se taková slova ve CMU Dict vyskytují.\n",
    "\n",
    "**Úkol 25:** V další funkci budete pracovat s proměnnou `entries`, kterou jste deklarovali na úplném začátku tohoto notebooku. Proměnnou `entries` vypište a připomeňte si její strukturu."
   ]
  },
  {
   "cell_type": "code",
   "execution_count": null,
   "id": "7fe5895a",
   "metadata": {},
   "outputs": [],
   "source": [
    "\"\"\" Sem pište kód \"\"\"\n"
   ]
  },
  {
   "cell_type": "markdown",
   "id": "81198070",
   "metadata": {},
   "source": [
    "**Úkol 26:** Napište funkci `syllab_entries` s parametrem `entries`, která projde celý slovník CMU Dict, a každou lexikální jednotku uloží do datového typu dictionary ve formátu `'slovo': [pocetslabik1]`, čili pro slovo „record“ bude struktura v dictionary vypadat: `'record': [2, 2, 2]`. Na výstup vraťte celý dictionary."
   ]
  },
  {
   "cell_type": "code",
   "execution_count": null,
   "id": "155cdaf1",
   "metadata": {},
   "outputs": [],
   "source": [
    "\"\"\" Sem pište kód \"\"\"\n"
   ]
  },
  {
   "cell_type": "markdown",
   "id": "4e66f78d",
   "metadata": {},
   "source": [
    "**Úkol 27:** Nový dictionary uložte do proměnné `entries_syllabs` a vypište."
   ]
  },
  {
   "cell_type": "code",
   "execution_count": null,
   "id": "048b9767",
   "metadata": {},
   "outputs": [],
   "source": [
    "\"\"\" Sem pište kód \"\"\"\n"
   ]
  },
  {
   "cell_type": "markdown",
   "id": "f3e52ed6",
   "metadata": {},
   "source": [
    "**Úkol 28:** Vytvořte funkci `diff_syllabs` požadující parametr `entries_syllabs`, která projde dictionary uložený do proměnné z úkolu 27 a do datového typu list uloží pouze ta slova, jejichž výslovnostní varianty se liší v počtu slabik."
   ]
  },
  {
   "cell_type": "code",
   "execution_count": null,
   "id": "bf83340e",
   "metadata": {},
   "outputs": [],
   "source": [
    "\"\"\" Sem pište kód \"\"\"\n"
   ]
  },
  {
   "cell_type": "markdown",
   "id": "21638aec",
   "metadata": {},
   "source": [
    "**Úkol 29:** Výsledek uložte do proměnné a vypište ji."
   ]
  },
  {
   "cell_type": "code",
   "execution_count": null,
   "id": "305a817c",
   "metadata": {},
   "outputs": [],
   "source": [
    "\"\"\" Sem pište kód \"\"\"\n"
   ]
  },
  {
   "cell_type": "markdown",
   "id": "fe7def0a",
   "metadata": {},
   "source": [
    "**Úkol 30:** Zjistěte, kolik slov, jejichž výslovnostní varianty se liší v počtu slabik, CMU Dict celkem obsahuje."
   ]
  },
  {
   "cell_type": "code",
   "execution_count": null,
   "id": "ad82b764",
   "metadata": {},
   "outputs": [],
   "source": [
    "\"\"\" Sem pište kód \"\"\"\n"
   ]
  }
 ],
 "metadata": {
  "kernelspec": {
   "display_name": "Python 3 (ipykernel)",
   "language": "python",
   "name": "python3"
  },
  "language_info": {
   "codemirror_mode": {
    "name": "ipython",
    "version": 3
   },
   "file_extension": ".py",
   "mimetype": "text/x-python",
   "name": "python",
   "nbconvert_exporter": "python",
   "pygments_lexer": "ipython3",
   "version": "3.9.7"
  }
 },
 "nbformat": 4,
 "nbformat_minor": 5
}
