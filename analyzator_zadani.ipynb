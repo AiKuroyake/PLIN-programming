{
 "cells": [
  {
   "cell_type": "markdown",
   "id": "84bd24d6",
   "metadata": {},
   "source": [
    "# Morfologická analýza\n",
    "\n",
    "Tento notebook se zaměřuje na tvorbu jednoduchého morfologického analyzátoru. Notebook se nesoustředí na značkování všech gramatických informací, ale pouze na značkování slovních druhů. Taktéž vynechává problematiku lemmatizace. K řešení používá pouze základní funkce Pythonu, případně modul re pro regulární výrazy.\n",
    "\n",
    "Morfologická analýza je důležitým komponentem např. v korpusové lingvistice. Podle webu [Českého národního korpusu](https://wiki.korpus.cz/doku.php/pojmy:morfologicka_analyza) se morfologická analýza skládá z přiřazení lemmat (slovníkových podob hesel) a morfologických značek ke všem slovním tvarům.\n",
    "\n",
    "Morfologické značky nesou všechny gramatické informace, jaké lze u daného slovního tvaru určit. Přičemž tyto značky se v různých korpusech mohou výrazně lišit (srov. „pražské“ a „brněnské“ značky), případně nemusí obsahovat úplně všechny gramatické informace. Na morfologickou analýzu navazuje desambiguace (zjednoznačnění), tj. odstranění homonymie.\n",
    "\n",
    "Pro češtinu existují např. analyzátory [majka](https://nlp.fi.muni.cz/czech-morphology-analyser/) a [MorphoDiTa](http://lindat.mff.cuni.cz/services/morphodita/info.php).\n",
    "\n",
    "## 1 S čím budete pracovat\n",
    "\n",
    "### 1.1 re\n",
    "\n",
    "V tomto notebooku použijete modul re, který slouží pro práci s regulárními výrazy.\n",
    "\n",
    "Více informací na [re](https://docs.python.org/3/library/re.html) nebo [Programiz](https://www.programiz.com/python-programming/regex).\n",
    "\n",
    "Pro připomenutí regulárních výrazů může pomoct tento [cheatsheet](https://cheatography.com/davechild/cheat-sheets/regular-expressions/). Než výrazy implementujete do svého kódu, můžete si jejich funkčnost vyzkoušet např. na [regex101](https://regex101.com/) (nezapomeňte si v levém boxu přepnout flavor na Python).\n",
    "\n",
    "### 1.2 string\n",
    "\n",
    "Třída string obsahuje užitečné konstanty, které lze v určitých případech využít místo regulárních výrazů. Například při využití konstanty punctuation, která obsahuje interpunkční znaménka, tato znaménka nemusíte ručně vypisovat do regulárního výrazu. \n",
    "\n",
    "Více informací na [string](https://docs.python.org/3/library/string.html), příklad použití je v 8. sekci tohoto noteboku.\n",
    "\n",
    "### 1.3 MorphoDiTa\n",
    "\n",
    "K řešení tohoto notebooku bude třeba jak neoznačkovaný, tak označkovaný text. K označkování textu je vhodné použít morfologický analyzátor [MorphoDiTa](http://lindat.mff.cuni.cz/services/morphodita/) a výstup z něj vhodně upravit pro účely tohoto notebooku.\n",
    "\n",
    "## 2 Instalace\n",
    "\n",
    "### 2.1 re\n",
    "\n",
    "Modul re je součástí tzv. The Python Standard Library (standarní knihovny Pythonu), není tedy nutné nic instalovat.\n",
    "\n",
    "Více informací na [The Python Standard Library](https://docs.python.org/3/library/).\n",
    "\n",
    "### 2.2 string\n",
    "\n",
    "Třída string je také součástí The Python Standard Library, proto ji není nutné instalovat.\n",
    "\n",
    "### 2.2 MorphoDiTa\n",
    "\n",
    "Analyzátor MorphoDiTa je dostupný jako webová aplikace [zde](http://lindat.mff.cuni.cz/services/morphodita/). Není tedy třeba nic instalovat.\n",
    "\n",
    "## 3 Import knihoven a modulů\n",
    "\n",
    "Před samotným psaním programu je nutné importovat všechny knihovny a moduly, které budou potřeba k řešení. Patří mezi ně:\n",
    "\n",
    "- modul re,\n",
    "- třída string.\n",
    "\n",
    "Spusťte následující buňku, modul re a třída string se importují.\n",
    "\n",
    "**Poznámka:** Po každém zavření a otevření notebooku je nutné všechen kód (tj. i importování) spustit znovu. Výsledky sice zůstanou zobrazeny, obsah proměnných však v paměti nezůstává."
   ]
  },
  {
   "cell_type": "code",
   "execution_count": null,
   "id": "963c3853",
   "metadata": {},
   "outputs": [],
   "source": [
    "import re, string #importuj modul re a třídu string"
   ]
  },
  {
   "cell_type": "markdown",
   "id": "72b29a3f",
   "metadata": {},
   "source": [
    "Další sekce představuje přípravu souboru pro značkování.\n",
    "\n",
    "Pokud si potřebujete zopakovat práci se soubory, regulárními výrazy, seznamy, či řezy, sekce zabývající se těmito tématy naleznete v notebooku o tokenizaci.\n",
    "\n",
    "## 4 Příprava textu\n",
    "\n",
    "Než začnete pracovat na analyzátoru, musíte si předpřipravit text, se kterým budete pracovat. Budete potřebovat dvě verze textu –⁠ jednu označkovanou a jednu neoznačkovanou. Označkovaná verze bude sloužit k výpočtu přesnosti vašeho programu. Neoznačkovanou verzi bude váš program značkovat.\n",
    "\n",
    "Můžete použít již předpřipravený text, v tom případě následující buňky nemusíte spouštět. Pokud se rozhodnete pracovat s vlastním textem, následující informace a funkce použijete k předpřipravení textu.\n",
    "\n",
    "### 4.1 Označkování textu\n",
    "\n",
    "K označkování je nejjednodušší použít analyzátor MorphoDiTa. Ve webové verzi aplikace ponechte výchozí nastavení, pouze zmeňte výstup z Formatted na Vertical. Text buď můžete zkopírovat do pole Input Text nebo můžete nahrát soubor ve formátu txt do pole Input File. Klikněte na Process Input a výsledek ve formátu txt si uložte do počítače.\n",
    "\n",
    "![MorphoDiTa nastavení](https://raw.githubusercontent.com/AiKuroyake/PLIN-programming/main/pictures/Screenshot%20from%202022-04-28%2021-20-55.jpg)\n",
    "\n",
    "### 4.2 Úprava textu\n",
    "\n",
    "Následující buňka otevře označkovaný text a uloží jej do proměnné txt. Aby vám buňka fungovala, ujistěte se, že jste změnili cestu k souboru a název podle toho, kde máte soubor uložený."
   ]
  },
  {
   "cell_type": "code",
   "execution_count": null,
   "id": "d031bae2",
   "metadata": {},
   "outputs": [],
   "source": [
    "with open ('morphodita-processed.txt', 'r') as txt: #otevři soubor morphodita-processed.txt\n",
    "    txt = txt.read() #ulož obsah souboru do proměnné txt"
   ]
  },
  {
   "cell_type": "code",
   "execution_count": null,
   "id": "24359911",
   "metadata": {},
   "outputs": [],
   "source": [
    "txt #vypiš proměnnou txt"
   ]
  },
  {
   "cell_type": "markdown",
   "id": "e58ae9cb",
   "metadata": {},
   "source": [
    "Můžete si všimnout, že jednotlivá slova jsou oddělena novým řádkem a slovní tvar, lemma a značka se oddělují tabulátory. Pro váš morfologický analyzátor je důležitý pouze slovní tvar a slovní druh, lemma tedy vůbec nepotřebujete.\n",
    "\n",
    "K odstranění lemmat použijte regulární výraz `\\t.*\\t`, který odstraní vše, co je uzavřené mezi dvěma tabulátory, tj. lemmata."
   ]
  },
  {
   "cell_type": "code",
   "execution_count": null,
   "id": "ddb6f65b",
   "metadata": {},
   "outputs": [],
   "source": [
    "txt = re.sub('\\t.*\\t', ' ', txt) #nahraď lemmata mezerou"
   ]
  },
  {
   "cell_type": "code",
   "execution_count": null,
   "id": "77544ddd",
   "metadata": {},
   "outputs": [],
   "source": [
    "print(txt) #vypiš proměnnou txt"
   ]
  },
  {
   "cell_type": "markdown",
   "id": "62d79a36",
   "metadata": {},
   "source": [
    "Aby se vám jednodušeji programovalo, rozdělte si text na jednotlivé slovní tvary. Každý tvar je na samostatném řádku, k oddělení tedy v tomto případě nepoužijete mezeru, ale znak `\\n` pro nový řádek."
   ]
  },
  {
   "cell_type": "code",
   "execution_count": null,
   "id": "f33347fd",
   "metadata": {},
   "outputs": [],
   "source": [
    "txt = txt.split('\\n') #rozděl jednotlivé slovní tvary podle znaku pro nový řádek"
   ]
  },
  {
   "cell_type": "code",
   "execution_count": null,
   "id": "8eb2f6d0",
   "metadata": {},
   "outputs": [],
   "source": [
    "txt #vypiš proměnnou txt"
   ]
  },
  {
   "cell_type": "markdown",
   "id": "91fc41a7",
   "metadata": {},
   "source": [
    "Ve vašem analyzátoru budete řešit pouze slovní druhy, z celé značky proto použijete pouze první pozici udávající informaci o slovním druhu (více o značkách [zde](https://wiki.korpus.cz/doku.php/seznamy:tagy#popis_jednotlivych_pozic_znacky)). Následující buňka projde předchozí seznam a z celé značky ponechá pouze první písmeno (informaci o slovním druhu), které se ke slovu připojí za lomítko. Označkované slovo tak bude vypadat např. `viděl/V`."
   ]
  },
  {
   "cell_type": "code",
   "execution_count": null,
   "id": "69149884",
   "metadata": {},
   "outputs": [],
   "source": [
    "tagged = [] #vytvoř nový seznam\n",
    "for tok in txt: #pro každý slovní tvar v textu\n",
    "    if len(tok) > 0: #pokud má slovní tvar délku alespoň 1\n",
    "        tok = tok.replace(tok[-16:], '/'+tok[-15]) #nahraď celou značku za lomítko a slovní druh\n",
    "        tagged.append(tok) #přidej označkované slovo do seznamu tagged"
   ]
  },
  {
   "cell_type": "code",
   "execution_count": null,
   "id": "79eac178",
   "metadata": {},
   "outputs": [],
   "source": [
    "print(tagged) #vypiš proměnnou tagged"
   ]
  },
  {
   "cell_type": "markdown",
   "id": "7eb18208",
   "metadata": {},
   "source": [
    "### 4.3 Uložení upraveného textu\n",
    "\n",
    "Abyste nemuseli po každém otevření notebooku buňky v předešlé sekci spouštět znovu, výstup z nich si uložte do souborů. Následující buňka uloží označkovaný text do souboru `text_tagged.txt`. Všechny slovní tvary navíc oddělí mezerou, což vám pomůže při dalším zpracování. Jméno a cestu k souboru zvolte dle vlastního uvážení."
   ]
  },
  {
   "cell_type": "code",
   "execution_count": null,
   "id": "13a9e7f5",
   "metadata": {},
   "outputs": [],
   "source": [
    "with open('text_tagged.txt', 'x') as txt_tagged: #vytvoř nový soubor\n",
    "    for tok in tagged: #pro každý označkovaný slovní tvar v seznamu tagged\n",
    "        txt_tagged.write(tok+' ') #ulož slovní tvar do souboru a jednotlivé tvary odděl mezerou"
   ]
  },
  {
   "cell_type": "markdown",
   "id": "16ccf891",
   "metadata": {},
   "source": [
    "Následující buňka uloží neoznačkovaný text do souboru `text_not_tagged.txt`. Všechny slovní tvary opět oddělí mezerou. Cestu k souboru a název opět můžete změnit."
   ]
  },
  {
   "cell_type": "code",
   "execution_count": null,
   "id": "5f625d71",
   "metadata": {},
   "outputs": [],
   "source": [
    "with open ('text_not_tagged.txt', 'a') as txt_not_tagged: #vytvoř nový soubor\n",
    "    for tok in tagged: #pro každý označkovaný slovní tvar v seznamu tagged\n",
    "        txt_not_tagged.write(tok[:-2]+' ') #ulož slovní tvar bez značky do souboru a \n",
    "                                           #jednotlivé tvary odděl mezerou"
   ]
  },
  {
   "cell_type": "markdown",
   "id": "6c8121a2",
   "metadata": {},
   "source": [
    "## 5 Morfologický analyzátor\n",
    "\n",
    "V této sekci budete mít za úkol naprogramovat morfologický analyzátor, který rozhodne, do jakého slovního druhu spadají slovní tvary vybraného textu.\n",
    "\n",
    "**Úkol:** Vytvořte program, který načte data ze souboru a ke každému slovu přiřadí slovní druh.\n",
    "\n",
    "Na konci tohoto notebooku je funkce `accuracy`, která vyhodnotí, jak je váš analyzátor přesný. Aby porovnání fungovalo, musí váš analyzátor vrátit výsledný text v seznamu, jehož prvky jsou řetězce ve formátu `slovo/slovní_druh`, např. `seznam = ['obrázek/N', 'je/V', 'hezký/A']`. Váš analyzátor musí dodržet velká a malá písmena a značky slovních druhů se musí shodovat se značkami pozičního systému. Více o značkách [zde](https://wiki.korpus.cz/doku.php/seznamy:tagy#poziceslovni_druh). Také si dejte pozor, aby délka vašeho výsledného textu (seznamu) byla stejná jako délka správně označkovaného textu.\n",
    "\n",
    "K přiřazení slovních druhů použijte např. řezy, seznamy, regulární výrazy nebo třídu string. Úlohu je ale možné vyřešit i bez regulárních výrazů (viz modelové řešení). Projděte si vzorový text, případně text dle vašeho výběru, a na základě vašeho pozorování zkuste vytvořit vzory pro označkování slov. Snažte se dosáhnout co největší přesnosti.\n",
    "\n",
    "Program vhodně rozdělte na funkce."
   ]
  },
  {
   "cell_type": "markdown",
   "id": "e51b3155",
   "metadata": {},
   "source": [
    "<details> \n",
    "    <summary>Pokud nevíte, jak začít, klikněte na tento text pro <b>zobrazení nápovědy</b>.</summary>\n",
    "    <p><b>Nápověda:</b></p>\n",
    "    <p>Vytvořte funkci, která otevře soubor s neoznačkovanými slovy a vrátí seznam těchto slov.</p>\n",
    "    <p>Označkujte text. Zkuste nalézt např. interpunkci, čísla, adjektiva apod. Ke značkování použijte podmínky a slova hledejte např. podle počtu písmen ve slově, seznamu slovních tvarů, který si vytvoříte nebo regulárních výrazů.</p>\n",
    "    <p>Pokud pro některé slovní druhy neumíte vytvořit jednoduchý vzor, podle kterého je můžete nalézt, značkujte je jako substantiva.</p>\n",
    "    <p>Vraťte seznam s označkovanými slovními tvary.</p>\n",
    "</details>"
   ]
  },
  {
   "cell_type": "code",
   "execution_count": null,
   "id": "52742de6",
   "metadata": {},
   "outputs": [],
   "source": []
  },
  {
   "cell_type": "code",
   "execution_count": null,
   "id": "ae6425a5",
   "metadata": {},
   "outputs": [],
   "source": []
  },
  {
   "cell_type": "code",
   "execution_count": null,
   "id": "4754ddf2",
   "metadata": {},
   "outputs": [],
   "source": []
  },
  {
   "cell_type": "code",
   "execution_count": null,
   "id": "336f0c10",
   "metadata": {},
   "outputs": [],
   "source": []
  },
  {
   "cell_type": "code",
   "execution_count": null,
   "id": "39fffa13",
   "metadata": {},
   "outputs": [],
   "source": []
  },
  {
   "cell_type": "code",
   "execution_count": null,
   "id": "e1713db2",
   "metadata": {},
   "outputs": [],
   "source": []
  },
  {
   "cell_type": "code",
   "execution_count": null,
   "id": "6462adf3",
   "metadata": {},
   "outputs": [],
   "source": []
  },
  {
   "cell_type": "code",
   "execution_count": null,
   "id": "27cdfa34",
   "metadata": {},
   "outputs": [],
   "source": []
  },
  {
   "cell_type": "code",
   "execution_count": null,
   "id": "e5b45453",
   "metadata": {},
   "outputs": [],
   "source": []
  },
  {
   "cell_type": "code",
   "execution_count": null,
   "id": "2345483b",
   "metadata": {},
   "outputs": [],
   "source": []
  },
  {
   "cell_type": "markdown",
   "id": "1972f82f",
   "metadata": {},
   "source": [
    "## 6 Přesnost analyzátoru\n",
    "\n",
    "Spusťte následující dvě buňky a zjistěte, jak je váš analyzátor přesný. Při volání funkce zkontrolujte, že zadáváte správný název proměnné a platnou cestu k označkovanému souboru.\n",
    "\n",
    "Analyzátor z modelového řešení má přesnost 50,9 % na úryvku z Malého prince. Zvládnete naprogramovat přesnější analyzátor?\n",
    "\n",
    "přesnost = (správně označené slovní tvary / celkově označené slovní tvary) × 100 %"
   ]
  },
  {
   "cell_type": "code",
   "execution_count": null,
   "id": "d96a4a39",
   "metadata": {},
   "outputs": [],
   "source": [
    "def accuracy(tagged_text, correct_text):\n",
    "    \"\"\" Spočítej přesnost označkovaného textu \"\"\"\n",
    "    \n",
    "    correct_text = open_text(correct_text) #otevři text označkovaný analyzátorem MorphoDita\n",
    "    correct_count = 0 #vytvoř počítadlo správně označkovaných slovních tvarů\n",
    "    \n",
    "    for i in range(len(correct_text)): #pro každý slovní tvar v textu\n",
    "        if tagged_text[i] == correct_text[i]: #pokud je slovní tvar správně označkovaný\n",
    "            correct_count += 1 #přičti jedna k počítadlu\n",
    "    \n",
    "    return correct_count/len(correct_text) * 100 #vrať přesnost naprogramovaného analyzátoru"
   ]
  },
  {
   "cell_type": "code",
   "execution_count": null,
   "id": "7d04c953",
   "metadata": {},
   "outputs": [],
   "source": [
    "accuracy(tagged, 'text_tagged.txt') #spočítej přesnost naprogramovaného analyzátoru"
   ]
  }
 ],
 "metadata": {
  "kernelspec": {
   "display_name": "Python 3 (ipykernel)",
   "language": "python",
   "name": "python3"
  },
  "language_info": {
   "codemirror_mode": {
    "name": "ipython",
    "version": 3
   },
   "file_extension": ".py",
   "mimetype": "text/x-python",
   "name": "python",
   "nbconvert_exporter": "python",
   "pygments_lexer": "ipython3",
   "version": "3.10.4"
  }
 },
 "nbformat": 4,
 "nbformat_minor": 5
}
