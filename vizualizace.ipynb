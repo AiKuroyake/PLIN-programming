{
 "cells": [
  {
   "cell_type": "markdown",
   "id": "11923e5c",
   "metadata": {},
   "source": [
    "# Vizualizace dat\n",
    "\n",
    "V tomto úkolu si vyzkoušíte vizualizaci dat pomocí grafů. Naučíte se vykreslovat grafy pomocí knihovny Matplotlib. Projdete si tvorbu celkem tří různých typů grafů a naučíte se tyto typy kombinovat v jednom grafu. Dále si v tomto notebooku procvičíte, jak v jednom obrázku vytvořit více různých grafů, případně jak najednou vytvořit více různých grafů v různých obrázcích. Tvorbu grafů notebook prochází od zadávání dat až po grafickou stylizaci.\n",
    "\n",
    "Jelikož by vizualizace nemohla existovat bez dat, notebook představuje dvě možnosti práce s daty –⁠ ruční zadávání do proměnných a importování dat ze souboru pomocí knihovny pandas.\n",
    "\n",
    "Největší výhodou vizualizace dat pomocí Pythonu je využití proměnných jakožto hodnot v grafech. Úkony, které by člověk musel řešit ručně např. při tvorbě grafů v Excelu, lze vyřešit rychleji díky programování. Grafy i data je možné navíc jednoduše a rychle upravit pouze změnou proměnných, parametrů atd. Dalším plusem je, že pro zpracování dat vůbec nemusíte opouštět prostředí, ve kterém programujete (tj. v tomto případě Jupyter notebook).\n",
    "\n",
    "Pro příkladové grafy byla v notebooku použita data z [Veřejné databáze Českého statistického úřadu](https://vdb.czso.cz/vdbvo2/faces/cs/index.jsf?page=home), konkrétně [územní srovnání trestných činů za rok 2020](https://vdb.czso.cz/vdbvo2/faces/cs/index.jsf?page=vystup-objekt&z=T&f=TABULKA&katalog=31008&pvo=KRI06&str=v132&evo=v257_!_VUZEMI97-100mv_1&c=v3~8__RP2020) a [územní srovnání průměrných cen bytů v Kč za m2 za období 1. 1. 2017 –⁠ 31. 12. 2019](https://vdb.czso.cz/vdbvo2/faces/cs/index.jsf?page=vystup-objekt&z=T&f=TABULKA&katalog=31782&pvo=CEN13&c=v3~1__RP2017RK2019MP01MK12DP01DK31#w=), dále z [datového portálu města Brna](https://data.brno.cz/) byla použita [statistika počtu pohybů letadel](https://infogram.com/pocet-pohybu-letadel-1ho16vk5yndx2nq) a [statistika průměrné mzdy v Brně podle vzdělání](https://infogram.com/prumerna-mzda-vzdelani-1hnq41gz3ozk43z).\n",
    "\n",
    "## 1 S čím budete pracovat\n",
    "\n",
    "### 1.1 Matplotlib\n",
    "\n",
    "Matplotlib je knihovna pro Python vhodná pro vizualizaci dat. Umožňuje vytvářet grafy, uživatel si může vybrat z velkého množství různých typů. Největší výhodou této knihovny je možnost velmi jednoduše a rychle měnit hodnoty v grafech pomocí proměnných.\n",
    "\n",
    "Více informací na [Matplotlib](https://matplotlib.org/) a [Matplotlib Tutorials](https://youtube.com/playlist?list=PL-osiE80TeTvipOqomVEeZ1HRrcEvtZB_).\n",
    "\n",
    "### 1.2 pandas\n",
    "\n",
    "pandas je knihovna pro Python sloužící k datové analýze. Využití této knihovny je široké, v tomto noteboku ji však použijete pouze na importování dat ve formátu csv. \n",
    "\n",
    "Více informací na [pandas](https://pandas.pydata.org/).\n",
    "\n",
    "\n",
    "## 2 Instalace\n",
    "\n",
    "Instalace potřebných knihoven se provedete přímo v tomto notebooku.\n",
    "\n",
    "### 2.1 Matplotlib\n",
    "\n",
    "Pro instalaci knihovny Matplotlib spusťte následující buňku."
   ]
  },
  {
   "cell_type": "code",
   "execution_count": null,
   "id": "94358950",
   "metadata": {},
   "outputs": [],
   "source": [
    "!pip3 install matplotlib"
   ]
  },
  {
   "cell_type": "markdown",
   "id": "f733ed10",
   "metadata": {},
   "source": [
    "### 2.2 pandas\n",
    "\n",
    "Pro instalaci knihovny pandas spusťte následující buňku."
   ]
  },
  {
   "cell_type": "code",
   "execution_count": null,
   "id": "dbd681a0",
   "metadata": {},
   "outputs": [],
   "source": [
    "!pip3 install pandas"
   ]
  },
  {
   "cell_type": "markdown",
   "id": "13f28a79",
   "metadata": {},
   "source": [
    "## 3 Import knihoven a modulů\n",
    "\n",
    "Než bude možné začít s psaním programu, je nutné importovat všechny knihovny a moduly, které budete potřebovat. Patří mezi ně:\n",
    "\n",
    "- submodul matplotlib.pyplot,\n",
    "- knihovna pandas.\n",
    "\n",
    "Spusťte následující buňku, knihovny se importují.\n",
    "\n",
    "**Poznámka:** Po každém otevření notebooku je nutné všechen kód (tj. i importování) spustit znovu."
   ]
  },
  {
   "cell_type": "code",
   "execution_count": null,
   "id": "29b32a45",
   "metadata": {},
   "outputs": [],
   "source": [
    "import matplotlib.pyplot as plt #importuj submodul matplotlib.pyplot\n",
    "import pandas as pd #importuj knihovnu pandas"
   ]
  },
  {
   "cell_type": "markdown",
   "id": "ba86776b",
   "metadata": {},
   "source": [
    "Díky `import as` nemusíte v programu psát zdlouhavý název `matplotlib.pyplot`, ale zkrátíte jej pouze na `plt`. V podstatě se jedná o vytvoření aliasu. Mohli byste si vybrat i jinou zkratku, jde však o konvenci (to samé platí i o knihovně pandas, pro kterou se užívá zkratka `pd`). "
   ]
  },
  {
   "cell_type": "markdown",
   "id": "b09c76d5",
   "metadata": {},
   "source": [
    "## 4 Koláčový graf\n",
    "\n",
    "V této sekci budete pracovat s knihovnou Matplotlib. Vaším prvním úkolem bude vygenerovat jednoduchý koláčový graf. Využijete základní funkce z [ukázkového grafu](https://matplotlib.org/stable/gallery/pie_and_polar_charts/pie_features.html#sphx-glr-gallery-pie-and-polar-charts-pie-features-py) a pár dalších proměnných, díky kterým si budete moct graf vizuálně upravit.\n",
    "\n",
    "Pro vzorový graf byla použita data z Českého statistického úřadu, konkrétně [územní srovnání trestných činů za rok 2020](https://vdb.czso.cz/vdbvo2/faces/cs/index.jsf?page=vystup-objekt&z=T&f=TABULKA&katalog=31008&pvo=KRI06&str=v132&evo=v257_!_VUZEMI97-100mv_1&c=v3~8__RP2020)\n",
    "\n",
    "Nejprve je třeba deklarovat proměnné `slices` a `labels`, které se použijí jako parametry k funkci generující koláčový graf. Obě tyto proměnné _musí_ být datového typu seznam.\n",
    "\n",
    "Do proměnné `slices` se uloží celkový počet trestných činů, kdežto do proměnné `labels` název kraje, ve kterém se trestné činy odehrály. První prvek v seznamu `slices` odpovídá počtu trestných činů uskutečněných v hlavním městě Praze. "
   ]
  },
  {
   "cell_type": "code",
   "execution_count": null,
   "id": "42d25f5d",
   "metadata": {},
   "outputs": [],
   "source": [
    "slices = [38059, 18091, 7947, 8996, 4422, 14872, \n",
    "          7290, 5794, 4778, 4835, 16985, 8369, 5452, 19635] #celkový počet trestných činů\n",
    "labels = ['Hlavní město Praha', 'Středočeský kraj', 'Jihočeský kraj',\n",
    "          'Plzeňský kraj', 'Karlovarský kraj', 'Ústecký kraj',\n",
    "          'Liberecký kraj', 'Královéhradecký kraj', 'Pardubický kraj',\n",
    "          'Kraj Vysočina', 'Jihomoravský kraj', 'Olomoucký kraj',\n",
    "          'Zlínský kraj', 'Moravskoslezský kraj'] #kraje"
   ]
  },
  {
   "cell_type": "markdown",
   "id": "6c9751e1",
   "metadata": {},
   "source": [
    "Nový graf se vytvoří pomocí posloupnosti několika funkcí.\n",
    "\n",
    "Vždy je nejprve nutné zavolat knihovnu Matplotlib aliasem, který jste nastavili při importování knihoven (`plt`), poté vyberete specifickou funkci z této knihovny, jenž chcete použít. Pokud budete pracovat s knihovnou Matplotlib, všechny příkazy budou mít formát: `plt.[funkce](parametr1, parametr2, ...)`, konkrétně např. `plt.figure(1)`.\n",
    "\n",
    "Funkce `figure` vytvoří nový, prázdný obrázek, do kterého se později vygeneruje graf. V knihovně Matplotlib tedy obrázek a graf nejsou to samé. Parametr funkce můžete buď nechat prázdný, nebo do něj vložit číslo, které bude tento obrázek odlišovat od ostatních.\n",
    "\n",
    "Pomocí funkce `pie` vytvoříte samotný koláčový graf. Tato funkce vyžaduje alespoň jeden parametr: `slices`, což jsou hodnoty, které chcete v koláčovém grafu zobrazit. Tento parametr _musí_ vždy nést název `slices`. \n",
    "\n",
    "Pro úplnost využijete i parametr `labels` (popisky). U tohoto parametru už přesně specifikujete, jak se daná proměnná jmenuje (ve vzorovém kódu je to stejně –⁠ `labels`, ale v dalších příkladech uvidíte, že lze proměnné pojmenovat i jinak).\n",
    "\n",
    "Pokud použijete funkce `figure` a `pie`, graf se sice zhotoví, ale neuvidíte jej. K tomu, aby se ukázal, potřebujete použít funkci `show`.\n",
    "\n",
    "**Poznámka:** Pokud budete s knihovnou Matplotlib pracovat v jiných prostředích než v Jupyter Notebooku, obrázek se vám ukáže v novém okně. Kdybyste si hotový graf chtěli uložit, použijte místo funkce `show` funkci `savefig` v následujícím formátu: `plt.savefig(\"[nazev_obrazku].[format]\")`, konkrétně např. `plt.savefig(\"obrazek.png\")`. Obrázek pojmenovaný _obrazek.png_ se uloží do složky, ve které se nachází váš kód (ve které je uložen Jupyter notebok).\n",
    "\n",
    "Následující buňku pouze spusťte."
   ]
  },
  {
   "cell_type": "code",
   "execution_count": null,
   "id": "89a6af2d",
   "metadata": {},
   "outputs": [],
   "source": [
    "plt.figure(1) #vytvoř nový obrázkek\n",
    "plt.pie(slices, labels=labels) #vytvoř nový koláčový graf s parametry slices a labels\n",
    "plt.show(1) #vykresli obrázek"
   ]
  },
  {
   "cell_type": "markdown",
   "id": "28156461",
   "metadata": {},
   "source": [
    "Takto vytvoříte základní koláčový graf. Můžete ho dále upravovat, zejména po vizuální stránce.\n",
    "\n",
    "- Seznam `colors` každé hodnotě přiřadí barvu.\n",
    "- V seznamu `explode` můžete některým hodnotám přiřadit číselnou hodnotu, o kterou se jednotlivé hodnoty vysunou z grafu.\n",
    "- Díky parametru `autopct` zobrazíte procentuální zastoupení jednotlivých dílků bez toho, aniž byste něco museli počítat.\n",
    "- Funkce `title` přidá grafu nadpis.\n",
    "- Pomocí funkce `tight_layout` upravíte výplň kolem grafů. Tato funkce pro vás bude důležitá zejména v sekci 8.\n",
    "\n",
    "Následující buňku pouze spusťte. Prohlédněte si kód a výsledný graf."
   ]
  },
  {
   "cell_type": "code",
   "execution_count": null,
   "id": "6b4327cc",
   "metadata": {},
   "outputs": [],
   "source": [
    "colors = ['#FAD0C9FF', '#C7D3D4FF', '#A491D3', '#818AA3', '#C5DCA0',\n",
    "          '#F5F2B8', '#F9DAD0', '#546A76', '#88A0A8', '#B4CEB3',\n",
    "          '#DBD3C9', '#FAD4D8', '#715B64', \n",
    "          '#C2948A'] #barvy\n",
    "explode = [0, 0, 0, 0, 0, 0, 0, 0, 0, \n",
    "           0, 0.1, 0, 0, 0] #odsazení \n",
    "\n",
    "plt.figure(2) #vytvoř nový obrázek\n",
    "\n",
    "plt.pie(slices, labels=labels, colors=colors, \n",
    "        explode=explode, autopct='%1.1f%%') #vytvoř nový koláčový graf\n",
    "\n",
    "plt.title('Kriminalita - trestné činy - územní srovnání') #nadpis\n",
    "plt.tight_layout() #uprav výplň kolem grafů\n",
    "\n",
    "plt.show(2) #vykresli obrázek"
   ]
  },
  {
   "cell_type": "markdown",
   "id": "608adb8a",
   "metadata": {},
   "source": [
    "**Úkol 1:** Vytvořte vlastní koláčový graf. Použijte vlastní data nebo si vyberte jinou statistiku z Veřejné databáze Českého statistického úřadu. Začněte základním grafem a dále přidávejte parametry, které upraví vizuální stránku grafu. Použijte další funkce a parametry modifikující vzhled grafu, které jsme v tomto notebooku nepoužili. Naleznete je např. v [pyplot dokumentaci](https://matplotlib.org/stable/api/_as_gen/matplotlib.pyplot.html#module-matplotlib.pyplot) a v [přehledu parametrů](https://matplotlib.org/stable/api/_as_gen/matplotlib.pyplot.pie.html#matplotlib.pyplot.pie) pro funkci `pie`."
   ]
  },
  {
   "cell_type": "code",
   "execution_count": null,
   "id": "4c6fad33",
   "metadata": {},
   "outputs": [],
   "source": []
  },
  {
   "cell_type": "code",
   "execution_count": null,
   "id": "aa73228b",
   "metadata": {},
   "outputs": [],
   "source": []
  },
  {
   "cell_type": "code",
   "execution_count": null,
   "id": "7452ccc3",
   "metadata": {},
   "outputs": [],
   "source": []
  },
  {
   "cell_type": "code",
   "execution_count": null,
   "id": "140ae39c",
   "metadata": {},
   "outputs": [],
   "source": []
  },
  {
   "cell_type": "markdown",
   "id": "5a4824fe",
   "metadata": {},
   "source": [
    "## 5 Sloupcový graf\n",
    "\n",
    "Dalším užitečným grafem je sloupcový graf. Postupovat můžete stejně jako při tvorbě koláčového grafu, některé funkce se ale budou úplně lišit či budou vyžadovat jiné parametry.\n",
    "\n",
    "Pro tento typ grafu vzorové řešení opět obsahuje data z Veřejné databáze Českého statistického úřadu, konkrétně [územní srovnání průměrných cen bytů v Kč za m2 za období 1. 1. 2017 –⁠ 31. 12. 2019](https://vdb.czso.cz/vdbvo2/faces/cs/index.jsf?page=vystup-objekt&z=T&f=TABULKA&katalog=31782&pvo=CEN13&c=v3~1__RP2017RK2019MP01MK12DP01DK31#w=).\n",
    "\n",
    "V tomto grafu už budete pracovat s osami x a y. Na ose x uvidíte jednotlivé kraje, na osu y zanesete ceny bytů. Připravené jsou pro to proměnné `region_x` a `crime_y`. \n",
    "\n",
    "Následující buňku pouze spusťte."
   ]
  },
  {
   "cell_type": "code",
   "execution_count": null,
   "id": "8a320b3a",
   "metadata": {},
   "outputs": [],
   "source": [
    "region_x = ['Hlavní město Praha', 'Středočeský kraj', 'Jihočeský kraj',\n",
    "          'Plzeňský kraj', 'Karlovarský kraj', 'Ústecký kraj',\n",
    "          'Liberecký kraj', 'Královéhradecký kraj', 'Pardubický kraj',\n",
    "          'Kraj Vysočina', 'Jihomoravský kraj', 'Olomoucký kraj',\n",
    "          'Zlínský kraj', 'Moravskoslezský kraj'] #kraje\n",
    "cost_y = [62459, 28212, 19115, 25435, 14785, 9019, 20122, \n",
    "           22980, 24225, 21701, 36603, 21070, 22981, 17136] #cena"
   ]
  },
  {
   "cell_type": "markdown",
   "id": "601f9b1b",
   "metadata": {},
   "source": [
    "Podobně jako u koláčového grafu, i u sloupcového grafu použijete funkce `figure` a `show`. Na rozdíl od předchozího typu grafu ale budete pracovat s funkcí `bar` pro sloupcový graf místo funkce `pie` pro koláčový graf.\n",
    "\n",
    "Následující buňku pouze spusťte."
   ]
  },
  {
   "cell_type": "code",
   "execution_count": null,
   "id": "569c852c",
   "metadata": {},
   "outputs": [],
   "source": [
    "plt.figure(3) #vytvoř nový obrázek\n",
    "plt.bar(region_x, cost_y) #vytvoř nový sloupcový graf\n",
    "plt.show(3) #vykresli obrázek"
   ]
  },
  {
   "cell_type": "markdown",
   "id": "c3aa7e97",
   "metadata": {},
   "source": [
    "Stejně jako jste v předchozí sekci upravili výsledný koláčový graf, můžete změnit i sloupcový graf v této sekci.\n",
    "\n",
    "Hned při prvním pohledu na graf výše si všimněte, že popisky jednotlivých hodnot jsou tak dlouhé, že se překrývají a nelze je přečíst. Nejjednodušším řešením pro tento problém je popisky zobrazit vertikálně namísto horizontálně. K tomu slouží funkce `xticks`, jejíž parametr `rotation` nastavte na `vertical`.\n",
    "\n",
    "Abyste věděli, co jednotlivé hodnoty na x-ové a y-ové ose znamenají, použijte funkce `xlabel` a `ylabel` k zobrazení popisků.\n",
    "\n",
    "Dále se použijí funkce, které již znáte z příkladu s koláčovým grafem.\n",
    "\n",
    "Následující buňku pouze spustťe."
   ]
  },
  {
   "cell_type": "code",
   "execution_count": null,
   "id": "36bbd6c2",
   "metadata": {},
   "outputs": [],
   "source": [
    "plt.figure(4) #vytvoř nový obrázek\n",
    "\n",
    "plt.bar(region_x, cost_y, color='#DBD3C9') #vytvoř nový sloupcový graf\n",
    "\n",
    "plt.title('Průměrné ceny bytů (Kč za m2) - územní srovnání') #nadpis\n",
    "plt.xlabel('Kraj') #popisky x-ové osy\n",
    "plt.xticks(rotation='vertical') #otoč x-ových popisky\n",
    "plt.ylabel('Cena') #popisky y-ové osy\n",
    "\n",
    "plt.tight_layout() #uprav výplň kolem grafů\n",
    "plt.show(4) #vykresli obrázek"
   ]
  },
  {
   "cell_type": "markdown",
   "id": "4528fa43",
   "metadata": {},
   "source": [
    "**Úkol 2:** Vytvořte vlastní sloupcový graf. Použijte vlastní data nebo si vyberte jinou statistiku z Veřejné databáze Českého statistického úřadu. Začněte základním grafem a dále přidávejte parametry, které upraví vizuální stránku grafu. Vyzkoušejte funkci `xticks` s jinou než vertikální rotací (např. zešikmenou). Použijte další funkce a parametry modifikující vzhled grafu, které jsme v tomto notebooku nepoužili. Naleznete je např. v [pyplot dokumentaci](https://matplotlib.org/stable/api/_as_gen/matplotlib.pyplot.html#module-matplotlib.pyplot) a v [přehledu parametrů](https://matplotlib.org/stable/api/_as_gen/matplotlib.pyplot.bar.html?highlight=bar#matplotlib.pyplot.bar) pro funkci `bar`."
   ]
  },
  {
   "cell_type": "code",
   "execution_count": null,
   "id": "27a09dd5",
   "metadata": {},
   "outputs": [],
   "source": []
  },
  {
   "cell_type": "code",
   "execution_count": null,
   "id": "a1848a1f",
   "metadata": {},
   "outputs": [],
   "source": []
  },
  {
   "cell_type": "code",
   "execution_count": null,
   "id": "0d6ae467",
   "metadata": {},
   "outputs": [],
   "source": []
  },
  {
   "cell_type": "code",
   "execution_count": null,
   "id": "2d8a0763",
   "metadata": {},
   "outputs": [],
   "source": []
  },
  {
   "cell_type": "markdown",
   "id": "c2e08fac",
   "metadata": {},
   "source": [
    "## 6 Spojnicový graf\n",
    "\n",
    "Třetí graf, který si zkusíte vytvořit, je spojnicový. V této sekci se navíc naučíte, jak importovat data ze souboru pomocí knihovny pandas. Nejprve si stáhněte [tuto statistiku](https://infogram.com/pocet-pohybu-letadel-1ho16vk5yndx2nq) ve formátu csv a uložte ji pod názvem `letadla.csv` na stejné místo, kde se nachází i tento notebook.\n",
    "\n",
    "Nejprve se podívejte, jak data vypadají. Deklarujte novou proměnnou `data`, do které uložíte celý csv soubor `letadla.csv`. To uděláte tak, že zavoláte knihovnu pandas aliasem `pd`, který jste nastavili při importování knihoven. Dále použijete funkci `read_csv`, která načte celý csv soubor. Do parametru této funkce zadejte cestu k souboru, který chcete otevřít. Jelikož jste si soubor uložili do stejné lokace, v níž se nachází i tento notebook, napíšete pouze celý název souboru, tj. `letadla.csv`. \n",
    "\n",
    "Následující buňku pouze spusťte."
   ]
  },
  {
   "cell_type": "code",
   "execution_count": null,
   "id": "6751cf31",
   "metadata": {},
   "outputs": [],
   "source": [
    "data = pd.read_csv('letadla.csv') #načti data ze souboru letadla.csv"
   ]
  },
  {
   "cell_type": "markdown",
   "id": "51882ced",
   "metadata": {},
   "source": [
    "Celou csv tabulku máte nyní načtenou v proměnné `data`. Spusťte následující buňku a prohlédněte si obsah proměnné.\n",
    "\n",
    "**Poznámka:** Následujícím způsobem můžete text vypsat v prostředí Jupyter Notebook nebo v terminálu. Pokud budete programovat v jiných prostředích a tento způsob vám nebude fungovat, použijte standardní `print(text)`."
   ]
  },
  {
   "cell_type": "code",
   "execution_count": null,
   "id": "90233fb5",
   "metadata": {},
   "outputs": [],
   "source": [
    "data #vypiš proměnnou data"
   ]
  },
  {
   "cell_type": "markdown",
   "id": "70bfdaab",
   "metadata": {},
   "source": [
    "Jak si můžete všimnout, druhý sloupeček je špatně pojmenovaný. Aby se vám s proměnnou lépe pracovalo, přejmenujte sloupeček _Unnamed: 1_ na _Letadla_ pomocí funkce `rename`.\n",
    "\n",
    "Následující buňku pouze spusťte."
   ]
  },
  {
   "cell_type": "code",
   "execution_count": null,
   "id": "0c0737e3",
   "metadata": {},
   "outputs": [],
   "source": [
    "data = data.rename(columns={'Rok': 'Rok', 'Unnamed: 1': 'Letadla'}) #přejmenuj sloupec 'Unnamed: 1' na 'Letadla'"
   ]
  },
  {
   "cell_type": "markdown",
   "id": "5c28e107",
   "metadata": {},
   "source": [
    "Následující buňku pouze spusťte a přesvědčte se, že k přejmenování skutečně došlo."
   ]
  },
  {
   "cell_type": "code",
   "execution_count": null,
   "id": "8c00634e",
   "metadata": {},
   "outputs": [],
   "source": [
    "data #vypiš proměnnou data"
   ]
  },
  {
   "cell_type": "markdown",
   "id": "236ab9b5",
   "metadata": {},
   "source": [
    "Nyní můžete vykreslit spojnicový graf. Ke sloupcům v proměnné `data` budete přistupovat podobně, jako se v Pythonu přistupuje k hodnotám v datovém typu slovník. Hodnoty ze sloupce `Rok` uložte do proměnné `year_x` a hodnoty ze sloupce `Letadla` do proměnné `planes_y`.\n",
    "\n",
    "Následující buňku pouze spusťte."
   ]
  },
  {
   "cell_type": "code",
   "execution_count": null,
   "id": "d9ae9319",
   "metadata": {},
   "outputs": [],
   "source": [
    "year_x = data['Rok'] #rok\n",
    "planes_y = data['Letadla'] #počet pohybů letadel"
   ]
  },
  {
   "cell_type": "markdown",
   "id": "9abbaa63",
   "metadata": {},
   "source": [
    "**Poznámka a mini úkol:** Je ale důležité uvědomit si, že v případě proměnné `data` se o slovník nejedná. Zjistěte, jakého datového typu je proměnná `data`."
   ]
  },
  {
   "cell_type": "code",
   "execution_count": null,
   "id": "afbeb231",
   "metadata": {},
   "outputs": [],
   "source": [
    "\"\"\" Sem piště kód \"\"\"\n"
   ]
  },
  {
   "cell_type": "markdown",
   "id": "75e878f7",
   "metadata": {},
   "source": [
    "Nyní už můžete vykreslit graf pomocí knihovny Matplotlib. Funkce, kterou použijete pro spojnicový graf, se nazývá `plot`.\n",
    "\n",
    "Následující buňku pouze spusťte."
   ]
  },
  {
   "cell_type": "code",
   "execution_count": null,
   "id": "500e1185",
   "metadata": {},
   "outputs": [],
   "source": [
    "plt.figure(5) #vytvoř nový obrázek\n",
    "\n",
    "plt.plot(year_x, planes_y) #vytvoř nový spojnicový graf\n",
    "\n",
    "plt.title('Počet pohybů letadel v Brně') #nadpis\n",
    "plt.xlabel('Rok') #popisky x-ové osy\n",
    "plt.ylabel('Počet') #popisky y-ové osy\n",
    "\n",
    "plt.show(5) #vykresli obrázek"
   ]
  },
  {
   "cell_type": "markdown",
   "id": "fa87ea22",
   "metadata": {},
   "source": [
    "**Úkol 3:** Vytvořte vlastní spojnicový graf. Použijte vlastní data nebo si vyberte jinou statistiku z Veřejné databáze Českého statistického úřadu či statistik města Brna. Začněte základním grafem a dále přidávejte parametry, které upraví vizuální stránku grafu. Opět je naleznete v dokumentaci pro příslušný typ grafu."
   ]
  },
  {
   "cell_type": "code",
   "execution_count": null,
   "id": "56992a6e",
   "metadata": {},
   "outputs": [],
   "source": []
  },
  {
   "cell_type": "code",
   "execution_count": null,
   "id": "2dab2a54",
   "metadata": {},
   "outputs": [],
   "source": []
  },
  {
   "cell_type": "code",
   "execution_count": null,
   "id": "af746975",
   "metadata": {},
   "outputs": [],
   "source": []
  },
  {
   "cell_type": "code",
   "execution_count": null,
   "id": "3d742514",
   "metadata": {},
   "outputs": [],
   "source": []
  },
  {
   "cell_type": "markdown",
   "id": "bba3b897",
   "metadata": {},
   "source": [
    "## 7 Několik datových sad v jednom grafu\n",
    "\n",
    "Knihovny pro vizualizaci dat umožňují kombinovat více datových sad najednou. V jednom grafu tak lze vykreslit např. několik čar či sloupců s jinými hodnotami. Knihovny ale práci s daty neomezují pouze na stejné typy grafů. Můžete implementovat i kombinace, např. sloupcový graf se spojnicovým. V této sekci si vyzkoušíte, jak se tyto grafy tvoří.\n",
    "\n",
    "Nejprve si stáhněte statistiku [průměrných mezd v Brně podle vzdělání](https://infogram.com/prumerna-mzda-vzdelani-1hnq41gz3ozk43z) ve formátu csv ze statistik města Brna. Soubor pojmenujte `mzdy.csv` a opět je uložte na stejné místo, kde máte tento notebook.\n",
    "\n",
    "Vaším prvním krokem opět bude import dat. Následující buňky pouze spusťte."
   ]
  },
  {
   "cell_type": "code",
   "execution_count": null,
   "id": "146375f6",
   "metadata": {},
   "outputs": [],
   "source": [
    "data2 = pd.read_csv('mzdy.csv') #načti data ze souboru mzdy.csv"
   ]
  },
  {
   "cell_type": "code",
   "execution_count": null,
   "id": "0fd166b0",
   "metadata": {},
   "outputs": [],
   "source": [
    "data2 #vypiš proměnnou data2"
   ]
  },
  {
   "cell_type": "markdown",
   "id": "0f43c2bb",
   "metadata": {},
   "source": [
    "Struktura dat je velmi podobná té, se kterou jste pracovali v minulé sekci. Oproti statistice pohybů letadel máte ovšem více dat, která potřebujete znázornit na y-ové ose. Pro následující příklad použijte pouze první tři, tj. `Základní` vzdělání, `SŠ bez maturity` a `SŠ s maturitou`. X-ová osa zůstane stejná, na ní znázorníte roky.\n",
    "\n",
    "Kód je velmi jednoduchý, vše zůstává stejné jako v příkladech, se kterými jste se setkali doposud, až na to, že použijete příkaz `plt.plot()` pro vytvoření nového grafu třikrát namísto jednou.\n",
    "\n",
    "V této sekci se seznámíte s funkcí `legend` (legenda), s parametrem `loc` nastaveným na `best`. Tento příkaz říká, že chcete v grafu zobrazit legendu na místě, kam se nejlépe hodí (tj. na pozici, kde bude dobře čitelná a nebude se překrývat s čárami). Matplotlib tuto pozici vyhodnotí za vás.\n",
    "\n",
    "Prohlédněte si následující kód a buňku pouze spusťte."
   ]
  },
  {
   "cell_type": "code",
   "execution_count": null,
   "id": "2fe8c9a8",
   "metadata": {},
   "outputs": [],
   "source": [
    "year = data2['Rok'] #rok\n",
    "zak = data2['Základní'] #průměrná mzda se základním vzděláním\n",
    "ssbm = data2['SŠ bez maturity'] #průměrná mzda se SŠ bez maturity\n",
    "ssm = data2['SŠ s maturitou'] #průměrná mzda se SŠ s maturitou\n",
    "\n",
    "plt.figure(6) #vytvoř nový obrázek\n",
    "\n",
    "plt.xlabel('Rok') #popisky x-ové osy\n",
    "plt.ylabel('Kč') #popisky y-ové osy\n",
    "plt.title('Průměrná mzda') #nadpis\n",
    "\n",
    "plt.plot(year, zak, label='Základní') #vytvoř nový spojnicový graf\n",
    "plt.plot(year, ssbm, label='SŠ bez maturity') #vytvoř nový spojnicový graf\n",
    "plt.plot(year, ssm, label='SŠ s maturitou') #vytvoř nový spojnicový graf\n",
    "\n",
    "plt.legend(loc='best') #zobraz legendu na nejvhodnějším místě\n",
    "\n",
    "plt.show(6) #vykresli obrázek"
   ]
  },
  {
   "cell_type": "markdown",
   "id": "fb69be7e",
   "metadata": {},
   "source": [
    "**Úkol 4:** Vytvořte vlastní graf, ve kterém použijete více dat. Neomezujte se pouze na spojnicový graf, vykreslete např. sloupcový graf s vícero sloupci u jedné x-ové hodnoty, popř. zkombinujte sloupcový graf se spojnicovým. Použijte vlastní data nebo si vyberte jinou statistiku z Veřejné databáze Českého statistického úřadu či statistik města Brna. Začněte základními grafy a dále přidávejte parametry, které upraví vizuální stránku grafů. Opět je naleznete v dokumentaci pro příslušné typy grafů."
   ]
  },
  {
   "cell_type": "code",
   "execution_count": null,
   "id": "526a7bd9",
   "metadata": {},
   "outputs": [],
   "source": []
  },
  {
   "cell_type": "code",
   "execution_count": null,
   "id": "33f8508a",
   "metadata": {},
   "outputs": [],
   "source": []
  },
  {
   "cell_type": "code",
   "execution_count": null,
   "id": "28a1b2bb",
   "metadata": {},
   "outputs": [],
   "source": []
  },
  {
   "cell_type": "code",
   "execution_count": null,
   "id": "284cabfb",
   "metadata": {},
   "outputs": [],
   "source": []
  },
  {
   "cell_type": "markdown",
   "id": "a9e85741",
   "metadata": {},
   "source": [
    "## 8 Několik různých grafů v jednom obrázku\n",
    "\n",
    "V minulé sekci jste se naučili vykreslit vícero dat v jednom grafu. Co kdybyste ale chtěli vytvořit jeden obrázek, ve kterém porovnáte dva různé grafy? I to Matplotlib umí díky funkci `subplots`a třídě `axes`. \n",
    "\n",
    "Doposud jste vždy vytvořili jeden graf, který jste vykreslili na jednom obrázku. K tomu vám posloužil objekt `Plot()`, který v sobě obsahoval stav všech parametrů, které jste upravili v daném grafu a obrázku. Takto explicitně jste tento objekt však netvořili, importovali jste si jej rovnou z knihovny Matplotlib jako `plt`. Kromě parametrů a funkcí, se kterými jste se setkali doposud, tento objekt obsahuje informace o tom, s jakým obrázkem a také s jakými osami v rámci obrázku pracujete. Díky tomu se tak budete moci rozhodnout, do kterého obrázku vykreslit jaký graf, a na jakou osu (tj. kam) graf v rámci obrázku umístit.\n",
    "\n",
    "Kód v této sekci se bude mírně lišit od těch, které jste psali v předchozích lekcích, a bude připomínat objektově-orientovaný přístup programování. Postup je nejprve vysvětlen na obrázku, který bude obsahovat jeden graf, až v dalším příkladu uvidíte, jak vykreslit grafy dva.\n",
    "\n",
    "Začnete stejně jako v předchozích sekcích deklarováním proměnných, do kterých si uložíte data. V této sekci budete používat stejnou sadu jako v lekci předchozí. První čtyři řádky kódu tedy budou stejné.\n",
    "\n",
    "Poté ale místo vytvoření obrázku příkazem `plt.figure()` vytvoříte objekt `plt.subplots()`, který obsahuje obrázek `fig` a osy `ax`. Máte tedy jeden obrázek a jednu osu, přičemž můžete specifikovat, jak má osa vypadat (kolik má mít řádků a sloupců). V tomto prvním příkladě jste nechali funkci `subplots` prázdnou, automaticky tedy pracujete s osou, která obsahuje jen jeden řádek a jeden sloupec.\n",
    "\n",
    "Pamatujte, že v tomto přístupu pracujete s osami. Nebudete tedy pro vytvoření grafu volat objekt `plt`, ale přímo osu `ax`, do které chcete graf vykreslit. Příkazem `ax.plot(year, zak, label='Základní')` tedy říkáte: „na osu `ax` vykresli čárový graf průměrné mzdy po ukončení pouze základního vzdělání“.\n",
    "\n",
    "Pokud budete chtít popsat x-ovou osu vašeho grafu (**pozor** nepleťte si x-ovu a y-ovou osu grafu s osami `ax`), musíte použít funkci `set_xlabel` namísto `xlabel`. \n",
    "\n",
    "Všechno ostatní zůstane jako v předchozích příkladech. Funkce `tight_layout` a `show` používáte pouze pro objekt `plt`, proto v nich neměníte `plt` za `ax`.\n",
    "\n",
    "\n",
    "**Poznámka:** Pokud vám toto vysvětlení nepřišlo dostačující, můžete se podívat na [video](https://youtu.be/XFZRVnP-MTU) s ukázkami, ze kterého byl tento postup převzat.\n",
    "\n",
    "Následující buňku pouze spusťte."
   ]
  },
  {
   "cell_type": "code",
   "execution_count": null,
   "id": "514a0128",
   "metadata": {},
   "outputs": [],
   "source": [
    "year = data2['Rok'] #rok\n",
    "zak = data2['Základní'] #průměrná mzda se základním vzděláním\n",
    "ssbm = data2['SŠ bez maturity'] #průměrná mzda se SŠ bez maturity\n",
    "ssm = data2['SŠ s maturitou'] #průměrná mzda se SŠ s maturitou\n",
    "\n",
    "fig, ax = plt.subplots() #vytvoř objekt pro vícero grafů\n",
    "\n",
    "ax.plot(year, zak, label='Základní') #vytvoř nový spojnicový graf\n",
    "ax.plot(year, ssbm, label='SŠ bez maturity') #vytvoř nový spojnicový graf\n",
    "ax.plot(year, ssm, label='SŠ s maturitou') #vytvoř nový spojnicový graf\n",
    "\n",
    "ax.set_xlabel('Rok') #popisky x-ové osy\n",
    "ax.set_ylabel('Kč') #popisky y-ové osy\n",
    "ax.set_title('Průměrná mzda') #nadpis\n",
    "\n",
    "ax.legend(loc='best') #legenda\n",
    "\n",
    "plt.tight_layout() #uprav výplň kolem grafu\n",
    "\n",
    "plt.show() #vykresli obrázek"
   ]
  },
  {
   "cell_type": "markdown",
   "id": "af5864b2",
   "metadata": {},
   "source": [
    "Nyní můžete zvýšit počet řádků nebo sloupců a vytvořit tak díky tomu více os `ax`, na které budete schopni vykreslit grafy. Uděláte to tak, že funkci `subplots` předáte parametry `nrows` a `ncols` specifikující počet řádků a počet sloupců. V následujícím příkladu vytvoříte dva grafy vedle sebe, počet sloupců `ncols` tedy zvýšíte na 2. Kvůli tomu musíte zvýšit i počet os `ax`, jelikož budete mít první `ax1` vlevo a druhou `ax2` vpravo.\n",
    "\n",
    "Dále je kód úplně stejný jako v předchozím příkladu, liší se pouze v označení os `ax` podle toho, do jaké chcete co vykreslit. Do osy `ax1` vykreslíte čárový graf průměrné mzdy po ukončení pouze základního vzdělání s popisky, do osy `ax2` čárové grafy průměrných mezd po ukončení SŠ s maturitou a bez maturity, popisky grafu a legendu.\n",
    "\n",
    "V tomto případě je navíc důležitá funkce `tight_layout`. Vyzkoušejte si, jak výsledný obrázek bude vypadat bez ní.\n",
    "\n",
    "Následující buňku pouze spusťte."
   ]
  },
  {
   "cell_type": "code",
   "execution_count": null,
   "id": "ce339761",
   "metadata": {
    "scrolled": true
   },
   "outputs": [],
   "source": [
    "year = data2['Rok'] #rok\n",
    "zak = data2['Základní'] #průměrná mzda se základním vzděláním\n",
    "ssbm = data2['SŠ bez maturity'] #průměrná mzda se SŠ bez maturity\n",
    "ssm = data2['SŠ s maturitou'] #průměrná mzda se SŠ s maturitou\n",
    "\n",
    "fig, (ax1, ax2) = plt.subplots(nrows=1, ncols=2) #vytvoř objekt pro dva grafy vedle sebe\n",
    "\n",
    "ax1.plot(year, zak, label='Základní') #vytvoř nový čárový graf\n",
    "ax1.set_xlabel('Rok') #popisky x-ové osy\n",
    "ax1.set_ylabel('Kč') #popisky y-ové osy\n",
    "ax1.set_title('Průměrná mzda') #nadpis\n",
    "\n",
    "ax2.plot(year, ssbm, label='SŠ bez maturity') #vytvoř nový čárový graf\n",
    "ax2.plot(year, ssm, label='SŠ s maturitou') #vytvoř nový čárový graf\n",
    "ax2.set_xlabel('Rok') #popisky x-ové osy\n",
    "ax2.set_ylabel('Kč') #popisky y-ové osy\n",
    "ax2.set_title('Průměrná mzda') #nadpis\n",
    "ax2.legend(loc='best') #legenda\n",
    "\n",
    "plt.tight_layout() #uprav výplň kolem grafů\n",
    "\n",
    "plt.show() #vykresli obrázek"
   ]
  },
  {
   "cell_type": "markdown",
   "id": "77a8ee4e",
   "metadata": {},
   "source": [
    "**Úkol 5:** Vytvořte jeden obrázek. V obrázku vykreslete dva grafy. Pokud byste kód spouštěli v jiném prostředí, po zavolání funkce `show` by se zobrazilo jedno nové okno s obrázkem obsahujícím dva grafy. Použijte nová data nebo si zkopírujte již hotové grafy z předchozích cvičení."
   ]
  },
  {
   "cell_type": "code",
   "execution_count": null,
   "id": "ec239674",
   "metadata": {},
   "outputs": [],
   "source": []
  },
  {
   "cell_type": "code",
   "execution_count": null,
   "id": "b24cf204",
   "metadata": {},
   "outputs": [],
   "source": []
  },
  {
   "cell_type": "code",
   "execution_count": null,
   "id": "aa7ce16a",
   "metadata": {},
   "outputs": [],
   "source": []
  },
  {
   "cell_type": "code",
   "execution_count": null,
   "id": "bf3c11a1",
   "metadata": {},
   "outputs": [],
   "source": []
  },
  {
   "cell_type": "markdown",
   "id": "fe81386f",
   "metadata": {},
   "source": [
    "## 9 Vykreslení několika samostatných obrázků naráz\n",
    "\n",
    "Pokud kód trochu upravíte, můžete najednou vytvořit dva samostatné obrázky. Stačí nahradit `fig, (ax1, ax2) = plt.subplots(nrows=1, ncols=2)` za řádek, který jste použili v prvním příkladu této sekce (`fig, ax = plt.subplots()`).\n",
    "\n",
    "V tuto chvíli je velmi důležité od sebe páry obrázků s osami odlišit. Jak obrázek `fig`, tak osa `ax` musí být očíslovány.\n",
    "\n",
    "**Poznámka:** V Jupyter Notebooku rozdíl mezi tímto a předchozím příkladem nebude tak patrný, v jiných prostředích by se vám však po spuštění následujícího kódu otevřela dvě okna s různými obrázky namísto jednoho, namísto předchozího příkladu, kdy by se otevřelo pouze jedno okno.\n",
    "\n",
    "Následující buňku pouze spusťte."
   ]
  },
  {
   "cell_type": "code",
   "execution_count": null,
   "id": "049dfc61",
   "metadata": {},
   "outputs": [],
   "source": [
    "year = data2['Rok'] #rok\n",
    "zak = data2['Základní'] #průměrná mzda se základním vzděláním\n",
    "ssbm = data2['SŠ bez maturity'] #průměrná mzda se SŠ bez maturity\n",
    "ssm = data2['SŠ s maturitou'] #průměrná mzda se SŠ s maturitou\n",
    "\n",
    "fig1, ax1 = plt.subplots() #vytvoř první obrázek\n",
    "fig2, ax2 = plt.subplots() #vytvoř druhý obrázek\n",
    "\n",
    "ax1.plot(year, zak, label='Základní') #vytvoř nový čárový graf\n",
    "ax1.set_xlabel('Rok') #popisky x-ové osy\n",
    "ax1.set_ylabel('Kč') #popisky y-ové osy\n",
    "ax1.set_title('Průměrná mzda') #nadpis\n",
    "\n",
    "ax2.plot(year, ssbm, label='SŠ bez maturity') #vytvoř nový spojnicový graf\n",
    "ax2.plot(year, ssm, label='SŠ s maturitou') #vytvoř nový spojnicový graf\n",
    "ax2.set_xlabel('Rok') #popisky x-ové osy\n",
    "ax2.set_ylabel('Kč') #popisky y-ové osy\n",
    "ax2.set_title('Průměrná mzda') #nadpis\n",
    "ax2.legend(loc='best') #legenda\n",
    "\n",
    "plt.tight_layout() #uprav výplň kolem grafů\n",
    "\n",
    "plt.show() #vykresli obrázek"
   ]
  },
  {
   "cell_type": "markdown",
   "id": "524d8ff3",
   "metadata": {},
   "source": [
    "**Úkol 6:** V jednom bloku kódu vytvořte dva různé obrázky. Každý obrázek bude obsahovat pouze jeden graf. Pokud byste kód spouštěli v jiném prostředí, po zavolání funkce `show` by se zobrazila dvě nová okna, každé s jiným grafem. Použijte nová data nebo si zkopírujte již hotové grafy z předchozích cvičení."
   ]
  },
  {
   "cell_type": "code",
   "execution_count": null,
   "id": "b4e40bbe",
   "metadata": {},
   "outputs": [],
   "source": []
  },
  {
   "cell_type": "code",
   "execution_count": null,
   "id": "5fab3e06",
   "metadata": {},
   "outputs": [],
   "source": []
  },
  {
   "cell_type": "code",
   "execution_count": null,
   "id": "8d6e79e5",
   "metadata": {},
   "outputs": [],
   "source": []
  },
  {
   "cell_type": "code",
   "execution_count": null,
   "id": "2200ecd4",
   "metadata": {},
   "outputs": [],
   "source": []
  }
 ],
 "metadata": {
  "kernelspec": {
   "display_name": "Python 3 (ipykernel)",
   "language": "python",
   "name": "python3"
  },
  "language_info": {
   "codemirror_mode": {
    "name": "ipython",
    "version": 3
   },
   "file_extension": ".py",
   "mimetype": "text/x-python",
   "name": "python",
   "nbconvert_exporter": "python",
   "pygments_lexer": "ipython3",
   "version": "3.10.4"
  }
 },
 "nbformat": 4,
 "nbformat_minor": 5
}
