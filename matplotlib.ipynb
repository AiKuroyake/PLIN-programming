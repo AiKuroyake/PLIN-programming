{
 "cells": [
  {
   "cell_type": "markdown",
   "id": "f56699c6",
   "metadata": {},
   "source": [
    "# Grafy pomocí knihovny Matplotlib\n",
    "\n",
    "\n",
    "### 1.4 Matplotlib\n",
    "\n",
    "Matplotlib je knihovna pro Python vhodná pro vizualizaci dat. Umožňuje vytvářet grafy, uživatel si může vybrat z velkého množství různých typů. Největší výhodou této knihovny je možnost velmi jednoduše a rychle měnit hodnoty v grafech pomocí proměnných.\n",
    "\n",
    "Více informací na [Matplotlib](https://matplotlib.org/).\n",
    "\n",
    "## Instalace\n",
    "\n",
    "### Matplotlib\n",
    "\n",
    "1. Do příkazové řádky zadejte `pip3 install --user -U matplotlib`."
   ]
  },
  {
   "cell_type": "code",
   "execution_count": null,
   "id": "29b32a45",
   "metadata": {},
   "outputs": [],
   "source": [
    "import matplotlib.pyplot as plt"
   ]
  },
  {
   "cell_type": "markdown",
   "id": "b09c76d5",
   "metadata": {},
   "source": [
    "## 8. Jednoduché grafy\n",
    "\n",
    "V posledním úkolu se naučíme, jak v Pythonu vygenerovat jednoduché grafy. Největší výhodou vykreslování grafů pomocí knihoven Pyhonu je využití proměnných jako hodnot. Grafy se tedy dají velmi jednoduše a rychle upravit pouze změnou proměnných.\n",
    "\n",
    "Pracovat budeme s knihovnou Matplotlib. Naším úkolem bude vygenerovat jednoduchý koláčový graf. Využijeme základní funkce z [ukázkového grafu](https://matplotlib.org/stable/gallery/pie_and_polar_charts/pie_features.html#sphx-glr-gallery-pie-and-polar-charts-pie-features-py) na stránkách Matplotlib a pár vylepšení, díky kterým si budeme moct graf vizuálně upravit.\n",
    "\n",
    "**Úkol 31:** Vytvořte koláčový graf, díky kterému uvidíte poměr slov, jejichž výslovnostní varianty se liší v počtu slabik, ku celkovému počtu slov ve slovníku.\n",
    "\n",
    "Nejprve deklarujeme proměnné, které použijeme jako parametry k funkci, která generuje koláčový graf. Každá proměnná _musí_ být datového typu list.\n",
    "\n",
    "- Do první proměnné `slices` uložte jednotlivé hodnoty grafu. První hodnota budou slova, jejichž výslovnostní varianty se liší v počtu slabik. Jako druhou hodnotu použijte celkový počet slov ve slovníku. Nezapomeňte ale slova s výslovnostními variantami odečíst od celkového počtu slov ve slovníku.\n",
    "- Další proměnnou jsou `labels`. Vymyslete vhodné popisky pro hodnoty."
   ]
  },
  {
   "cell_type": "code",
   "execution_count": null,
   "id": "42d25f5d",
   "metadata": {},
   "outputs": [],
   "source": [
    "slices = [len(diff_words), len(entries)-len(diff_words)] #values\n",
    "labels = ['Slova s výsl. variant. růz. slab.', 'Ostatní slova'] #value labels"
   ]
  },
  {
   "cell_type": "code",
   "execution_count": null,
   "id": "89a6af2d",
   "metadata": {},
   "outputs": [],
   "source": [
    "plt.figure(1) #create a new figure\n",
    "plt.pie(slices, labels=labels) #create a new pie chart with parameters slices and labels\n",
    "plt.show(1) #show the figure"
   ]
  },
  {
   "cell_type": "markdown",
   "id": "b4969b38",
   "metadata": {},
   "source": [
    "Pro nejjednodušší koláčový graf tyto dva parametry stačí. Graf můžeme nyní vykreslit. \n",
    "\n",
    "Na úplném začátku tohoto notebooku jsme si importovali matplotlib.pyplot jako plt. Jak již víme, Matplotlib je knihovna umožňující vytvářet grafy. Pyplot je rozhraní, pomocí kterého se grafy generují. Příkaz `import matplotlib.pyplot as plt` našemu programu říká, že budeme chtít generovat grafy pomocí pyplot z knihovny Matplotlib, ale že nechceme psát zdlouhavý název `matplotlib.pyplot`, proto ho zkrátíme pouze na `plt`. Pyplot má spoustu užitečných funkcí, nám však budou stačit tři nejzákladnější: [`figure`](https://matplotlib.org/stable/api/_as_gen/matplotlib.pyplot.figure.html#matplotlib.pyplot.figure) (vytvoří nový obrázek), [`pie`](https://matplotlib.org/stable/api/_as_gen/matplotlib.pyplot.pie.html#matplotlib.pyplot.pie) (koláčový graf) a [`show`](https://matplotlib.org/stable/api/_as_gen/matplotlib.pyplot.show.html#matplotlib.pyplot.show) (zobrazení obrázku s grafem).\n",
    "\n",
    "Funkci `figure` můžeme použít bez jakýchkoliv parametrů, pokud ale generujete vícero grafů v jednom programu, je vhodné je očíslovat. Naopak funkce `pie` potřebuje parametry, které jsme si předpřipravili v předchozí funkci. První parametr je nutné mít vždy pojmenovaný `slices`, u dalších parametrů (jako v našem případě `labels`) už specifikujeme, jak se proměnná obsahující popisky jmenuje. Pokud chceme graf zobrazit, použijeme funkci `show` s parametrem udávajícím číslo zobrazovaného grafu.\n",
    "\n",
    "Následující buňku pouze spusťte."
   ]
  },
  {
   "cell_type": "markdown",
   "id": "c92dd9e3",
   "metadata": {},
   "source": [
    "Pokud by se nám výsledný graf nelíbil, můžeme použít další funkce a parametry modifikující vzhled grafu. Nalézt je můžete v [pyplot dokumentaci](https://matplotlib.org/stable/api/_as_gen/matplotlib.pyplot.html#module-matplotlib.pyplot) a v [přehledu parametrů](https://matplotlib.org/stable/api/_as_gen/matplotlib.pyplot.pie.html#matplotlib.pyplot.pie) pro funkci pie.\n",
    "\n",
    "Následující buňku pouze spusťte."
   ]
  },
  {
   "cell_type": "code",
   "execution_count": null,
   "id": "ffd0a607",
   "metadata": {},
   "outputs": [],
   "source": [
    "slices = [len(diff_words), len(entries)-len(diff_words)] #values\n",
    "labels = ['Slova s výsl. variant. růz. slab.', 'Ostatní slova'] #value labels\n",
    "colors = ['#FAD0C9FF', '#C7D3D4FF'] #colours of the slices\n",
    "explode = [0, 0.5] #offset each wedge\n",
    "\n",
    "plt.figure(2) #create a new figure\n",
    "plt.pie(slices, labels=labels, colors=colors, explode=explode, autopct='%1.1f%%') #create a new pie chart\n",
    "plt.title(\"Procentuální zastoupení slov, jejichž výslovnostní varianty se liší v počtu slabik ve CMU Dict\") #title\n",
    "plt.tight_layout() #adjust the padding around plots\n",
    "plt.show(2) #show the figure"
   ]
  },
  {
   "cell_type": "markdown",
   "id": "1db9f355",
   "metadata": {},
   "source": [
    "**Bonusový úkol:** Můžete si vyzkoušet upravení grafu pomocí funkcí a parametrů použitých v předchozí buňce, popřípadě si najít další v dokumentaci. Použijte jiná data pro další grafy, neomezujte se pouze na dvě hodnoty. Projděte si různé typy grafů v [galerii](https://matplotlib.org/stable/gallery/index.html) a změňte koláčový graf na jiný typ."
   ]
  },
  {
   "cell_type": "code",
   "execution_count": null,
   "id": "ed6ae887",
   "metadata": {},
   "outputs": [],
   "source": []
  }
 ],
 "metadata": {
  "kernelspec": {
   "display_name": "Python 3 (ipykernel)",
   "language": "python",
   "name": "python3"
  },
  "language_info": {
   "codemirror_mode": {
    "name": "ipython",
    "version": 3
   },
   "file_extension": ".py",
   "mimetype": "text/x-python",
   "name": "python",
   "nbconvert_exporter": "python",
   "pygments_lexer": "ipython3",
   "version": "3.9.5"
  }
 },
 "nbformat": 4,
 "nbformat_minor": 5
}
